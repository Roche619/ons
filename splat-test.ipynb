{
 "cells": [
  {
   "cell_type": "markdown",
   "id": "6c88c6a8",
   "metadata": {},
   "source": [
    "### Import Libraries"
   ]
  },
  {
   "cell_type": "code",
   "execution_count": 1,
   "id": "f3bb2492",
   "metadata": {},
   "outputs": [],
   "source": [
    "import cv2\n",
    "import numpy as np\n",
    "import random\n",
    "import math"
   ]
  },
  {
   "cell_type": "markdown",
   "id": "dc2d30da",
   "metadata": {},
   "source": [
    "### Define `show()` to control termination of image window"
   ]
  },
  {
   "cell_type": "code",
   "execution_count": 2,
   "id": "35f46e69",
   "metadata": {},
   "outputs": [],
   "source": [
    "def show():\n",
    "    while True:\n",
    "        if(cv2.waitKey(1) & 0xFF == ord(\"q\")):\n",
    "            break\n",
    "    cv2.destroyAllWindows()"
   ]
  },
  {
   "cell_type": "markdown",
   "id": "36203714",
   "metadata": {},
   "source": [
    "### Read in the image. If width is greater than 800 pixels, reduce size."
   ]
  },
  {
   "cell_type": "code",
   "execution_count": 3,
   "id": "fbcfb485",
   "metadata": {},
   "outputs": [
    {
     "name": "stdout",
     "output_type": "stream",
     "text": [
      "Enter file name to use:fly.jpg\n",
      "Enter the scale factor by which to reduce the image size:100\n"
     ]
    }
   ],
   "source": [
    "path = \"../../media/images/\"\n",
    "file_name = input(\"Enter file name to use:\")\n",
    "image_file = cv2.imread(path+file_name, cv2.IMREAD_UNCHANGED)\n",
    "\n",
    "scale_factor = int(input(\"Enter the scale factor by which to reduce the image size:\"))\n",
    "height = int(image_file.shape[0] * scale_factor/100)\n",
    "width = int(image_file.shape[1] * scale_factor/100)\n",
    "dimensions = (width,height)\n",
    "\n",
    "input_image = cv2.resize(image_file, dimensions)"
   ]
  },
  {
   "cell_type": "markdown",
   "id": "0021c171",
   "metadata": {},
   "source": [
    "### Display image"
   ]
  },
  {
   "cell_type": "code",
   "execution_count": 4,
   "id": "a39d7baf",
   "metadata": {},
   "outputs": [],
   "source": [
    "cv2.imshow(\"Image\",input_image)\n",
    "\n",
    "show()"
   ]
  },
  {
   "cell_type": "markdown",
   "id": "70918e70",
   "metadata": {},
   "source": [
    "### Display shape information of image (number of rows, number of columns and number of channels)"
   ]
  },
  {
   "cell_type": "code",
   "execution_count": 5,
   "id": "d7d4a974",
   "metadata": {},
   "outputs": [
    {
     "data": {
      "text/plain": [
       "(866, 1300, 3)"
      ]
     },
     "execution_count": 5,
     "metadata": {},
     "output_type": "execute_result"
    }
   ],
   "source": [
    "input_image.shape"
   ]
  },
  {
   "cell_type": "markdown",
   "id": "56a63b33",
   "metadata": {},
   "source": [
    "### Two ways of displaying value of a pixel of particular channel"
   ]
  },
  {
   "cell_type": "code",
   "execution_count": 6,
   "id": "a72a2bb0",
   "metadata": {},
   "outputs": [
    {
     "data": {
      "text/plain": [
       "(19, 19)"
      ]
     },
     "execution_count": 6,
     "metadata": {},
     "output_type": "execute_result"
    }
   ],
   "source": [
    "input_image[200,200,2], input_image.item((200,200,2))"
   ]
  },
  {
   "cell_type": "markdown",
   "id": "66719a88",
   "metadata": {},
   "source": [
    "### Make copy of image to play around with."
   ]
  },
  {
   "cell_type": "code",
   "execution_count": 7,
   "id": "d5fbb574",
   "metadata": {},
   "outputs": [],
   "source": [
    "image_copy = input_image.copy()\n",
    "cv2.imshow(\"Image\", image_copy)\n",
    "show()"
   ]
  },
  {
   "cell_type": "markdown",
   "id": "6cd1bb43",
   "metadata": {},
   "source": [
    "### Two ways of setting the value of a pixel of a particular channel"
   ]
  },
  {
   "cell_type": "code",
   "execution_count": 8,
   "id": "61f3808b",
   "metadata": {},
   "outputs": [
    {
     "data": {
      "text/plain": [
       "(4, 136)"
      ]
     },
     "execution_count": 8,
     "metadata": {},
     "output_type": "execute_result"
    }
   ],
   "source": [
    "image_copy = input_image.copy()\n",
    "image_copy[0,0] = (0,0,4)\n",
    "image_copy[0,0,2], input_image[0,0,2]"
   ]
  },
  {
   "cell_type": "code",
   "execution_count": 9,
   "id": "ee54bc27",
   "metadata": {},
   "outputs": [
    {
     "data": {
      "text/plain": [
       "(42, 136)"
      ]
     },
     "execution_count": 9,
     "metadata": {},
     "output_type": "execute_result"
    }
   ],
   "source": [
    "image_copy.itemset((0,0,2), 42)\n",
    "image_copy[0,0,2], input_image[0,0,2]"
   ]
  },
  {
   "cell_type": "markdown",
   "id": "0ef9b673",
   "metadata": {},
   "source": [
    "### Display a slice of the image"
   ]
  },
  {
   "cell_type": "code",
   "execution_count": 10,
   "id": "9a360bba",
   "metadata": {},
   "outputs": [],
   "source": [
    "image_copy = input_image.copy()\n",
    "cv2.imshow(\"Image\",image_copy[100:,100:,0])\n",
    "show()"
   ]
  },
  {
   "cell_type": "markdown",
   "id": "9899ef6e",
   "metadata": {},
   "source": [
    "### Create data with NumPy and display"
   ]
  },
  {
   "cell_type": "code",
   "execution_count": 11,
   "id": "55f7306d",
   "metadata": {},
   "outputs": [],
   "source": [
    "import cv2\n",
    "import numpy as np\n",
    "\n",
    "def show():\n",
    "    while True:\n",
    "        if(cv2.waitKey(1) & 0xFF == ord(\"q\")):\n",
    "            break\n",
    "    cv2.destroyAllWindows()\n",
    "\n",
    "height = 200\n",
    "width = 200\n",
    "channels = 3\n",
    "\n",
    "try:\n",
    "    contrived_image = np.random.rand(height,width,channels)\n",
    "    cv2.imshow(\"Image\",contrived_image)\n",
    "except:\n",
    "    print(\"Entered faulty number of channels\")\n",
    "show()"
   ]
  },
  {
   "cell_type": "code",
   "execution_count": 12,
   "id": "fab83de4",
   "metadata": {},
   "outputs": [],
   "source": [
    "import cv2\n",
    "import numpy as np\n",
    "\n",
    "def show():\n",
    "    while True:\n",
    "        if(cv2.waitKey(1) & 0xFF == ord(\"q\")):\n",
    "            break\n",
    "    cv2.destroyAllWindows()\n",
    "\n",
    "height = 200\n",
    "width = 200\n",
    "channels = 3\n",
    "\n",
    "try:\n",
    "    contrived_image = np.random.randn(height,width,channels)\n",
    "    cv2.imshow(\"Image\",contrived_image)\n",
    "except:\n",
    "    print(\"Entered faulty number of channels\")\n",
    "show()"
   ]
  },
  {
   "cell_type": "markdown",
   "id": "2902b17e",
   "metadata": {},
   "source": [
    "### Not quite getting it with randints"
   ]
  },
  {
   "cell_type": "code",
   "execution_count": 13,
   "id": "c3b5d401",
   "metadata": {},
   "outputs": [
    {
     "name": "stdout",
     "output_type": "stream",
     "text": [
      "Entered faulty number of channels\n"
     ]
    }
   ],
   "source": [
    "import cv2\n",
    "import numpy as np\n",
    "\n",
    "def show():\n",
    "    while True:\n",
    "        if(cv2.waitKey(1) & 0xFF == ord(\"q\")):\n",
    "            break\n",
    "    cv2.destroyAllWindows()\n",
    "\n",
    "start = 1\n",
    "stop = 201\n",
    "number = 200\n",
    "channels = 3\n",
    "\n",
    "try:\n",
    "    contrived_image = np.random.randint(start,stop,(number,number))\n",
    "    cv2.imshow(\"Image\",contrived_image)\n",
    "except:\n",
    "    print(\"Entered faulty number of channels\")\n",
    "show()"
   ]
  },
  {
   "cell_type": "code",
   "execution_count": 14,
   "id": "21c8204c",
   "metadata": {},
   "outputs": [
    {
     "data": {
      "text/plain": [
       "(200, 200)"
      ]
     },
     "execution_count": 14,
     "metadata": {},
     "output_type": "execute_result"
    }
   ],
   "source": [
    "contrived_image.shape"
   ]
  },
  {
   "cell_type": "code",
   "execution_count": 15,
   "id": "a9d91b2a",
   "metadata": {},
   "outputs": [
    {
     "data": {
      "text/plain": [
       "array([109, 122, 136], dtype=uint8)"
      ]
     },
     "execution_count": 15,
     "metadata": {},
     "output_type": "execute_result"
    }
   ],
   "source": [
    "input_image[0,0]"
   ]
  },
  {
   "cell_type": "markdown",
   "id": "7becfa43",
   "metadata": {},
   "source": [
    "## Modifying Images\n",
    "### First, change value of colours deterministically"
   ]
  },
  {
   "cell_type": "code",
   "execution_count": 16,
   "id": "b0e043bf",
   "metadata": {},
   "outputs": [],
   "source": [
    "image_copy = input_image.copy()\n",
    "for r in range(image_copy.shape[0]):\n",
    "    for c in range(image_copy.shape[1]):\n",
    "#         if r > 128:\n",
    "#             val = image_copy[r,c,0]\n",
    "#         else:\n",
    "        val1 = image_copy[r,c,2]\n",
    "        val2 = image_copy[r,c,0]\n",
    "        val3 = image_copy[r,c,1]\n",
    "        image_copy[r,c] = (val3,val3,val3)\n",
    "cv2.imshow(\"Image\",image_copy)\n",
    "show()\n",
    "# image_copy[0,0]"
   ]
  },
  {
   "cell_type": "markdown",
   "id": "68ef1096",
   "metadata": {},
   "source": [
    "### Script from George Lecakes"
   ]
  },
  {
   "cell_type": "code",
   "execution_count": 56,
   "id": "c31bfa47",
   "metadata": {},
   "outputs": [],
   "source": [
    "def is_outside(r, c, shape):\n",
    "    if(c < 0 or c >= shape[1]):\n",
    "        return True\n",
    "    if(r < 0 or r >= shape[0]):\n",
    "        return True\n",
    "    else:\n",
    "        return False\n",
    "    \n",
    "output_image = input_image.copy()\n",
    "\n",
    "for r in range(input_image.shape[0]):\n",
    "    for c in range(input_image.shape[1]):\n",
    "        \n",
    "        if r == input_image.shape[0]:\n",
    "            r1 = r + 1\n",
    "        else:\n",
    "            r1 = r - 2\n",
    "        if c == input_image.shape[1]:\n",
    "            c1 = c + 1\n",
    "        else:\n",
    "            c1 = c - 2\n",
    "        \n",
    "        if(is_outside(r1, c1, input_image.shape)):\n",
    "            output_image.itemset((r,c,0), 1)\n",
    "            output_image.itemset((r,c,1), 1)\n",
    "            output_image.itemset((r,c,2), 1)\n",
    "        else:\n",
    "            output_image.itemset((r,c,0), input_image.item((r1,c1,0)))\n",
    "            output_image.itemset((r,c,1), input_image.item((r1,c1,1)))\n",
    "            output_image.itemset((r,c,2), input_image.item((r1,c1,2)))\n",
    "\n",
    "cv2.imshow(\"Image\",output_image)\n",
    "show()"
   ]
  },
  {
   "cell_type": "code",
   "execution_count": 18,
   "id": "5d93cd9f",
   "metadata": {},
   "outputs": [],
   "source": [
    "output_image = input_image.copy()\n",
    "\n",
    "for r in range(input_image.shape[0]):\n",
    "    for c in range(input_image.shape[1]):\n",
    "        \n",
    "        if r == input_image.shape[0]:\n",
    "            r1 = r + 1\n",
    "        else:\n",
    "            r1 = r - 2\n",
    "        if c == input_image.shape[1]:\n",
    "            c1 = c + 1\n",
    "        else:\n",
    "            c1 = c - 2\n",
    "        \n",
    "        output_image.itemset((r,c,0), input_image.item((r1,c1,0)))\n",
    "        output_image.itemset((r,c,1), input_image.item((r1,c1,1)))\n",
    "        output_image.itemset((r,c,2), input_image.item((r1,c1,2)))\n",
    "\n",
    "cv2.imshow(\"Image\",output_image)\n",
    "show()"
   ]
  },
  {
   "cell_type": "markdown",
   "id": "d6fb466a",
   "metadata": {},
   "source": [
    "### Exploring Manipulation"
   ]
  },
  {
   "cell_type": "code",
   "execution_count": 45,
   "id": "33c6b669",
   "metadata": {},
   "outputs": [],
   "source": [
    "height = 2\n",
    "width = 3\n",
    "channels = 3\n",
    "\n",
    "input_image = np.random.rand(height,width,channels)"
   ]
  },
  {
   "cell_type": "code",
   "execution_count": 59,
   "id": "06913292",
   "metadata": {},
   "outputs": [
    {
     "name": "stdout",
     "output_type": "stream",
     "text": [
      "Enter file name to use:fly.jpg\n",
      "Enter the scale factor by which to reduce the image size:25\n"
     ]
    }
   ],
   "source": [
    "path = \"../../media/images/\"\n",
    "file_name = input(\"Enter file name to use:\")\n",
    "image_file = cv2.imread(path+file_name, cv2.IMREAD_UNCHANGED)\n",
    "\n",
    "scale_factor = int(input(\"Enter the scale factor by which to reduce the image size:\"))\n",
    "height = int(image_file.shape[0] * scale_factor/100)\n",
    "width = int(image_file.shape[1] * scale_factor/100)\n",
    "dimensions = (width,height)\n",
    "\n",
    "input_image = cv2.resize(image_file, dimensions)"
   ]
  },
  {
   "cell_type": "code",
   "execution_count": 54,
   "id": "21c5f92b",
   "metadata": {},
   "outputs": [],
   "source": [
    "def is_outside(r, c, shape):\n",
    "    if(c < 0 or c >= shape[1]):\n",
    "        return True\n",
    "    if(r < 0 or r >= shape[0]):\n",
    "        return True\n",
    "    else:\n",
    "        return False"
   ]
  },
  {
   "cell_type": "code",
   "execution_count": 74,
   "id": "8518c39d",
   "metadata": {},
   "outputs": [],
   "source": [
    "output_image = input_image.copy()\n",
    "\n",
    "for r in range(input_image.shape[0]):\n",
    "    for c in range(input_image.shape[1]):\n",
    "        \n",
    "        output_image.itemset((r,c,0), input_image[r,c,0]*math.pi)\n",
    "        output_image.itemset((r,c,1), input_image[r,c,0]*math.e)\n",
    "        output_image.itemset((r,c,2), input_image[r,c,0]*math.sin(r))\n",
    "\n",
    "cv2.imshow(\"Image\",output_image)\n",
    "show()"
   ]
  },
  {
   "cell_type": "code",
   "execution_count": 81,
   "id": "3161475a",
   "metadata": {},
   "outputs": [],
   "source": [
    "output_image = input_image.copy()\n",
    "\n",
    "for r in range(input_image.shape[0]):\n",
    "    for c in range(input_image.shape[1]):\n",
    "        \n",
    "        output_image.itemset((r,c,0), input_image.item((r,c,0))*math.pi)\n",
    "        output_image.itemset((r,c,1), input_image.item((r,c,1))*math.e)\n",
    "        output_image.itemset((r,c,2), input_image.item((r,c,2))*math.sin(r))\n",
    "\n",
    "cv2.imshow(\"Image\",output_image)\n",
    "show()"
   ]
  },
  {
   "cell_type": "code",
   "execution_count": 66,
   "id": "1bc1d13a",
   "metadata": {},
   "outputs": [],
   "source": [
    "output_image = input_image.copy()\n",
    "diameter = 50\n",
    "\n",
    "for r in range(input_image.shape[0]):\n",
    "    for c in range(input_image.shape[1]):\n",
    "        \n",
    "        r1 = r + math.ceil(np.random.uniform(-0.5,0.5) * diameter)\n",
    "        c1 = c + math.ceil(np.random.uniform(-0.5,0.5) * diameter)\n",
    "                \n",
    "        if(is_outside(r1, c1, input_image.shape)):\n",
    "            output_image.itemset((r,c,0), 0)\n",
    "            output_image.itemset((r,c,1), 0)\n",
    "            output_image.itemset((r,c,2), 0)\n",
    "        else:\n",
    "            output_image.itemset((r,c,0), input_image.item((r1,c1,0)))\n",
    "            output_image.itemset((r,c,1), input_image.item((r1,c1,1)))\n",
    "            output_image.itemset((r,c,2), input_image.item((r1,c1,2)))\n",
    "cv2.imshow(\"Image\",output_image)\n",
    "show()"
   ]
  }
 ],
 "metadata": {
  "kernelspec": {
   "display_name": "Python 3",
   "language": "python",
   "name": "python3"
  },
  "language_info": {
   "codemirror_mode": {
    "name": "ipython",
    "version": 3
   },
   "file_extension": ".py",
   "mimetype": "text/x-python",
   "name": "python",
   "nbconvert_exporter": "python",
   "pygments_lexer": "ipython3",
   "version": "3.8.8"
  }
 },
 "nbformat": 4,
 "nbformat_minor": 5
}
