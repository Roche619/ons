{
 "cells": [
  {
   "cell_type": "markdown",
   "id": "6c88c6a8",
   "metadata": {},
   "source": [
    "### Import Libraries"
   ]
  },
  {
   "cell_type": "code",
   "execution_count": 165,
   "id": "f3bb2492",
   "metadata": {},
   "outputs": [],
   "source": [
    "import cv2\n",
    "import numpy as np\n",
    "import random\n",
    "import math"
   ]
  },
  {
   "cell_type": "markdown",
   "id": "dc2d30da",
   "metadata": {},
   "source": [
    "### Define `show()` to control termination of image window"
   ]
  },
  {
   "cell_type": "code",
   "execution_count": 2,
   "id": "35f46e69",
   "metadata": {},
   "outputs": [],
   "source": [
    "def show():\n",
    "    while True:\n",
    "        if(cv2.waitKey(1) & 0xFF == ord(\"q\")):\n",
    "            break\n",
    "    cv2.destroyAllWindows()"
   ]
  },
  {
   "cell_type": "markdown",
   "id": "36203714",
   "metadata": {},
   "source": [
    "### Read in the image. If width is greater than 800 pixels, reduce size."
   ]
  },
  {
   "cell_type": "code",
   "execution_count": 54,
   "id": "fbcfb485",
   "metadata": {},
   "outputs": [
    {
     "name": "stdout",
     "output_type": "stream",
     "text": [
      "Enter file name to use:fly.jpg\n",
      "Enter the scale factor by which to reduce the image size:100\n"
     ]
    }
   ],
   "source": [
    "path = \"../../media/images/\"\n",
    "file_name = input(\"Enter file name to use:\")\n",
    "image_file = cv2.imread(path+file_name, cv2.IMREAD_UNCHANGED)\n",
    "\n",
    "scale_factor = int(input(\"Enter the scale factor by which to reduce the image size:\"))\n",
    "height = int(image_file.shape[0] * scale_factor/100)\n",
    "width = int(image_file.shape[1] * scale_factor/100)\n",
    "dimensions = (width,height)\n",
    "\n",
    "clear_image = cv2.resize(image_file, dimensions)"
   ]
  },
  {
   "cell_type": "markdown",
   "id": "0021c171",
   "metadata": {},
   "source": [
    "### Display image"
   ]
  },
  {
   "cell_type": "code",
   "execution_count": 4,
   "id": "a39d7baf",
   "metadata": {},
   "outputs": [],
   "source": [
    "cv2.imshow(\"Resized Image\",clear_image)\n",
    "\n",
    "show()"
   ]
  },
  {
   "cell_type": "markdown",
   "id": "70918e70",
   "metadata": {},
   "source": [
    "### Display shape information of image (number of rows, number of columns and number of channels)"
   ]
  },
  {
   "cell_type": "code",
   "execution_count": 5,
   "id": "d7d4a974",
   "metadata": {},
   "outputs": [
    {
     "data": {
      "text/plain": [
       "(866, 1300, 3)"
      ]
     },
     "execution_count": 5,
     "metadata": {},
     "output_type": "execute_result"
    }
   ],
   "source": [
    "clear_image.shape"
   ]
  },
  {
   "cell_type": "markdown",
   "id": "56a63b33",
   "metadata": {},
   "source": [
    "### Two ways of displaying value of a pixel of particular channel"
   ]
  },
  {
   "cell_type": "code",
   "execution_count": 6,
   "id": "a72a2bb0",
   "metadata": {},
   "outputs": [
    {
     "data": {
      "text/plain": [
       "(19, 19)"
      ]
     },
     "execution_count": 6,
     "metadata": {},
     "output_type": "execute_result"
    }
   ],
   "source": [
    "clear_image[200,200,2], clear_image.item((200,200,2))"
   ]
  },
  {
   "cell_type": "markdown",
   "id": "66719a88",
   "metadata": {},
   "source": [
    "### Make copy of image to play around with."
   ]
  },
  {
   "cell_type": "code",
   "execution_count": 7,
   "id": "d5fbb574",
   "metadata": {},
   "outputs": [],
   "source": [
    "ci = clear_image.copy()\n",
    "cv2.imshow(\"ci\", ci)\n",
    "show()"
   ]
  },
  {
   "cell_type": "markdown",
   "id": "6cd1bb43",
   "metadata": {},
   "source": [
    "### Two ways of setting the value of a pixel of a particular channel"
   ]
  },
  {
   "cell_type": "code",
   "execution_count": 8,
   "id": "61f3808b",
   "metadata": {},
   "outputs": [
    {
     "data": {
      "text/plain": [
       "(4, 136)"
      ]
     },
     "execution_count": 8,
     "metadata": {},
     "output_type": "execute_result"
    }
   ],
   "source": [
    "ci = clear_image.copy()\n",
    "ci[0,0] = (0,0,4)\n",
    "ci[0,0,2], clear_image[0,0,2]"
   ]
  },
  {
   "cell_type": "code",
   "execution_count": 9,
   "id": "ee54bc27",
   "metadata": {},
   "outputs": [
    {
     "data": {
      "text/plain": [
       "(42, 136)"
      ]
     },
     "execution_count": 9,
     "metadata": {},
     "output_type": "execute_result"
    }
   ],
   "source": [
    "ci.itemset((0,0,2), 42)\n",
    "ci[0,0,2], clear_image[0,0,2]"
   ]
  },
  {
   "cell_type": "markdown",
   "id": "0ef9b673",
   "metadata": {},
   "source": [
    "### Display a slice of the image"
   ]
  },
  {
   "cell_type": "code",
   "execution_count": 10,
   "id": "9a360bba",
   "metadata": {},
   "outputs": [],
   "source": [
    "ci = clear_image.copy()\n",
    "cv2.imshow(\"ci\",ci[100:,100:,0])\n",
    "show()"
   ]
  },
  {
   "cell_type": "markdown",
   "id": "9899ef6e",
   "metadata": {},
   "source": [
    "### Create data with NumPy and display"
   ]
  },
  {
   "cell_type": "code",
   "execution_count": 11,
   "id": "55f7306d",
   "metadata": {},
   "outputs": [],
   "source": [
    "import cv2\n",
    "import numpy as np\n",
    "\n",
    "def show():\n",
    "    while True:\n",
    "        if(cv2.waitKey(1) & 0xFF == ord(\"q\")):\n",
    "            break\n",
    "    cv2.destroyAllWindows()\n",
    "\n",
    "height = 200\n",
    "width = 200\n",
    "channels = 3\n",
    "\n",
    "try:\n",
    "    contrived_image = np.random.rand(height,width,channels)\n",
    "    cv2.imshow(\"ci\",contrived_image)\n",
    "except:\n",
    "    print(\"Entered faulty number of channels\")\n",
    "show()"
   ]
  },
  {
   "cell_type": "code",
   "execution_count": 12,
   "id": "fab83de4",
   "metadata": {},
   "outputs": [],
   "source": [
    "import cv2\n",
    "import numpy as np\n",
    "\n",
    "def show():\n",
    "    while True:\n",
    "        if(cv2.waitKey(1) & 0xFF == ord(\"q\")):\n",
    "            break\n",
    "    cv2.destroyAllWindows()\n",
    "\n",
    "height = 200\n",
    "width = 200\n",
    "channels = 3\n",
    "\n",
    "try:\n",
    "    contrived_image = np.random.randn(height,width,channels)\n",
    "    cv2.imshow(\"ci\",contrived_image)\n",
    "except:\n",
    "    print(\"Entered faulty number of channels\")\n",
    "show()"
   ]
  },
  {
   "cell_type": "markdown",
   "id": "2902b17e",
   "metadata": {},
   "source": [
    "### Not quite getting it with randints"
   ]
  },
  {
   "cell_type": "code",
   "execution_count": 13,
   "id": "046d6abb",
   "metadata": {},
   "outputs": [
    {
     "name": "stdout",
     "output_type": "stream",
     "text": [
      "Entered faulty number of channels\n"
     ]
    }
   ],
   "source": [
    "import cv2\n",
    "import numpy as np\n",
    "\n",
    "def show():\n",
    "    while True:\n",
    "        if(cv2.waitKey(1) & 0xFF == ord(\"q\")):\n",
    "            break\n",
    "    cv2.destroyAllWindows()\n",
    "\n",
    "start = 1\n",
    "stop = 201\n",
    "number = 200\n",
    "channels = 3\n",
    "\n",
    "try:\n",
    "    contrived_image = np.random.randint(start,stop,(number,number))\n",
    "    cv2.imshow(\"ci\",contrived_image)\n",
    "except:\n",
    "    print(\"Entered faulty number of channels\")\n",
    "show()"
   ]
  },
  {
   "cell_type": "code",
   "execution_count": 14,
   "id": "21c8204c",
   "metadata": {},
   "outputs": [
    {
     "data": {
      "text/plain": [
       "(200, 200)"
      ]
     },
     "execution_count": 14,
     "metadata": {},
     "output_type": "execute_result"
    }
   ],
   "source": [
    "contrived_image.shape"
   ]
  },
  {
   "cell_type": "code",
   "execution_count": 15,
   "id": "a9d91b2a",
   "metadata": {},
   "outputs": [
    {
     "data": {
      "text/plain": [
       "array([109, 122, 136], dtype=uint8)"
      ]
     },
     "execution_count": 15,
     "metadata": {},
     "output_type": "execute_result"
    }
   ],
   "source": [
    "clear_image[0,0]"
   ]
  },
  {
   "cell_type": "code",
   "execution_count": null,
   "id": "36766c20",
   "metadata": {},
   "outputs": [],
   "source": []
  },
  {
   "cell_type": "markdown",
   "id": "7becfa43",
   "metadata": {},
   "source": [
    "## Modifying Images\n",
    "### First, change value of colours deterministically"
   ]
  },
  {
   "cell_type": "code",
   "execution_count": 16,
   "id": "b0e043bf",
   "metadata": {},
   "outputs": [],
   "source": [
    "ci = clear_image.copy()\n",
    "for r in range(ci.shape[0]):\n",
    "    for c in range(ci.shape[1]):\n",
    "#         if r > 128:\n",
    "#             val = ci[r,c,0]\n",
    "#         else:\n",
    "        val1 = ci[r,c,2]\n",
    "        val2 = ci[r,c,0]\n",
    "        val3 = ci[r,c,1]\n",
    "        ci[r,c] = (val3,val3,val3)\n",
    "cv2.imshow(\"ci\",ci)\n",
    "show()\n",
    "# ci[0,0]"
   ]
  },
  {
   "cell_type": "markdown",
   "id": "68ef1096",
   "metadata": {},
   "source": [
    "### Script from George Lecakes"
   ]
  },
  {
   "cell_type": "code",
   "execution_count": 17,
   "id": "c31bfa47",
   "metadata": {},
   "outputs": [],
   "source": [
    "def is_outside(r, c, shape):\n",
    "    if(c < 0 or c > shape[1]):\n",
    "        return True\n",
    "    if(r < 0 or r > shape[1]):\n",
    "        return True\n",
    "    else:\n",
    "        return False\n",
    "    \n",
    "new_sample = clear_image.copy()\n",
    "\n",
    "for r in range(clear_image.shape[0]):\n",
    "    for c in range(clear_image.shape[1]):\n",
    "        \n",
    "        if r == clear_image.shape[0]:\n",
    "            r1 = r + 1\n",
    "        else:\n",
    "            r1 = r - 2\n",
    "        if c == clear_image.shape[1]:\n",
    "            c1 = c + 1\n",
    "        else:\n",
    "            c1 = c - 2\n",
    "        \n",
    "        if(is_outside(r1, c1, clear_image.shape)):\n",
    "            new_sample.itemset((r,c,0), 1)\n",
    "            new_sample.itemset((r,c,1), 1)\n",
    "            new_sample.itemset((r,c,2), 1)\n",
    "        else:\n",
    "            new_sample.itemset((r,c,0), clear_image.item((r1,c1,0)))\n",
    "            new_sample.itemset((r,c,1), clear_image.item((r1,c1,1)))\n",
    "            new_sample.itemset((r,c,2), clear_image.item((r1,c1,2)))\n",
    "\n",
    "cv2.imshow(\"sample\",new_sample)\n",
    "show()"
   ]
  },
  {
   "cell_type": "code",
   "execution_count": 30,
   "id": "5d93cd9f",
   "metadata": {},
   "outputs": [],
   "source": [
    "new_sample = clear_image.copy()\n",
    "\n",
    "for r in range(clear_image.shape[0]):\n",
    "    for c in range(clear_image.shape[1]):\n",
    "        \n",
    "        if r == clear_image.shape[0]:\n",
    "            r1 = r + 1\n",
    "        else:\n",
    "            r1 = r - 2\n",
    "        if c == clear_image.shape[1]:\n",
    "            c1 = c + 1\n",
    "        else:\n",
    "            c1 = c - 2\n",
    "        \n",
    "        new_sample.itemset((r,c,0), clear_image.item((r1,c1,0)))\n",
    "        new_sample.itemset((r,c,1), clear_image.item((r1,c1,1)))\n",
    "        new_sample.itemset((r,c,2), clear_image.item((r1,c1,2)))\n",
    "\n",
    "cv2.imshow(\"sample\",new_sample)\n",
    "show()"
   ]
  },
  {
   "cell_type": "markdown",
   "id": "bf7d7822",
   "metadata": {},
   "source": [
    "### Exploring Manipulation"
   ]
  },
  {
   "cell_type": "code",
   "execution_count": 64,
   "id": "9176dfe1",
   "metadata": {},
   "outputs": [],
   "source": [
    "height = 3\n",
    "width = 3\n",
    "channels = 3\n",
    "\n",
    "clear_image = np.random.rand(height,width,channels)"
   ]
  },
  {
   "cell_type": "code",
   "execution_count": 148,
   "id": "ac61c892",
   "metadata": {},
   "outputs": [
    {
     "name": "stdout",
     "output_type": "stream",
     "text": [
      "Enter file name to use:fly.jpg\n",
      "Enter the scale factor by which to reduce the image size:40\n"
     ]
    }
   ],
   "source": [
    "path = \"../../media/images/\"\n",
    "file_name = input(\"Enter file name to use:\")\n",
    "image_file = cv2.imread(path+file_name, cv2.IMREAD_UNCHANGED)\n",
    "\n",
    "scale_factor = int(input(\"Enter the scale factor by which to reduce the image size:\"))\n",
    "height = int(image_file.shape[0] * scale_factor/100)\n",
    "width = int(image_file.shape[1] * scale_factor/100)\n",
    "dimensions = (width,height)\n",
    "\n",
    "clear_image = cv2.resize(image_file, dimensions)"
   ]
  },
  {
   "cell_type": "code",
   "execution_count": 156,
   "id": "a0e9a911",
   "metadata": {},
   "outputs": [],
   "source": [
    "def is_outside(r, c, shape):\n",
    "    if(c < 0 or c > shape[1]):\n",
    "        return True\n",
    "    if(r < 0 or r > shape[1]):\n",
    "        return True\n",
    "    else:\n",
    "        return False"
   ]
  },
  {
   "cell_type": "code",
   "execution_count": 214,
   "id": "0cf2bbf7",
   "metadata": {},
   "outputs": [],
   "source": [
    "new_sample = clear_image.copy()\n",
    "\n",
    "for r in range(clear_image.shape[0]):\n",
    "    for c in range(clear_image.shape[1]):\n",
    "        \n",
    "        new_sample.itemset((r,c,0), clear_image[r,c,0]*math.pi)\n",
    "        new_sample.itemset((r,c,1), clear_image[r,c,0]*math.e)\n",
    "        new_sample.itemset((r,c,2), clear_image[r,c,0]*math.sin(r))\n",
    "\n",
    "cv2.imshow(\"sample\",new_sample)\n",
    "show()"
   ]
  },
  {
   "cell_type": "code",
   "execution_count": 215,
   "id": "8a47561e",
   "metadata": {},
   "outputs": [
    {
     "ename": "IndexError",
     "evalue": "index 520 is out of bounds for axis 1 with size 520",
     "output_type": "error",
     "traceback": [
      "\u001b[0;31m---------------------------------------------------------------------------\u001b[0m",
      "\u001b[0;31mIndexError\u001b[0m                                Traceback (most recent call last)",
      "\u001b[0;32m<ipython-input-215-f1455e771b2e>\u001b[0m in \u001b[0;36m<module>\u001b[0;34m\u001b[0m\n\u001b[1;32m     13\u001b[0m             \u001b[0mnew_sample\u001b[0m\u001b[0;34m.\u001b[0m\u001b[0mitemset\u001b[0m\u001b[0;34m(\u001b[0m\u001b[0;34m(\u001b[0m\u001b[0mr\u001b[0m\u001b[0;34m,\u001b[0m\u001b[0mc\u001b[0m\u001b[0;34m,\u001b[0m\u001b[0;36m2\u001b[0m\u001b[0;34m)\u001b[0m\u001b[0;34m,\u001b[0m \u001b[0;36m1\u001b[0m\u001b[0;34m)\u001b[0m\u001b[0;34m\u001b[0m\u001b[0;34m\u001b[0m\u001b[0m\n\u001b[1;32m     14\u001b[0m         \u001b[0;32melse\u001b[0m\u001b[0;34m:\u001b[0m\u001b[0;34m\u001b[0m\u001b[0;34m\u001b[0m\u001b[0m\n\u001b[0;32m---> 15\u001b[0;31m             \u001b[0mnew_sample\u001b[0m\u001b[0;34m.\u001b[0m\u001b[0mitemset\u001b[0m\u001b[0;34m(\u001b[0m\u001b[0;34m(\u001b[0m\u001b[0mr\u001b[0m\u001b[0;34m,\u001b[0m\u001b[0mc\u001b[0m\u001b[0;34m,\u001b[0m\u001b[0;36m0\u001b[0m\u001b[0;34m)\u001b[0m\u001b[0;34m,\u001b[0m \u001b[0mclear_image\u001b[0m\u001b[0;34m[\u001b[0m\u001b[0mr1\u001b[0m\u001b[0;34m,\u001b[0m\u001b[0mc1\u001b[0m\u001b[0;34m,\u001b[0m\u001b[0;36m0\u001b[0m\u001b[0;34m]\u001b[0m\u001b[0;34m)\u001b[0m\u001b[0;34m\u001b[0m\u001b[0;34m\u001b[0m\u001b[0m\n\u001b[0m\u001b[1;32m     16\u001b[0m             \u001b[0mnew_sample\u001b[0m\u001b[0;34m.\u001b[0m\u001b[0mitemset\u001b[0m\u001b[0;34m(\u001b[0m\u001b[0;34m(\u001b[0m\u001b[0mr\u001b[0m\u001b[0;34m,\u001b[0m\u001b[0mc\u001b[0m\u001b[0;34m,\u001b[0m\u001b[0;36m1\u001b[0m\u001b[0;34m)\u001b[0m\u001b[0;34m,\u001b[0m \u001b[0mclear_image\u001b[0m\u001b[0;34m[\u001b[0m\u001b[0mr1\u001b[0m\u001b[0;34m,\u001b[0m\u001b[0mc1\u001b[0m\u001b[0;34m,\u001b[0m\u001b[0;36m1\u001b[0m\u001b[0;34m]\u001b[0m\u001b[0;34m)\u001b[0m\u001b[0;34m\u001b[0m\u001b[0;34m\u001b[0m\u001b[0m\n\u001b[1;32m     17\u001b[0m             \u001b[0mnew_sample\u001b[0m\u001b[0;34m.\u001b[0m\u001b[0mitemset\u001b[0m\u001b[0;34m(\u001b[0m\u001b[0;34m(\u001b[0m\u001b[0mr\u001b[0m\u001b[0;34m,\u001b[0m\u001b[0mc\u001b[0m\u001b[0;34m,\u001b[0m\u001b[0;36m2\u001b[0m\u001b[0;34m)\u001b[0m\u001b[0;34m,\u001b[0m \u001b[0mclear_image\u001b[0m\u001b[0;34m[\u001b[0m\u001b[0mr1\u001b[0m\u001b[0;34m,\u001b[0m\u001b[0mc1\u001b[0m\u001b[0;34m,\u001b[0m\u001b[0;36m2\u001b[0m\u001b[0;34m]\u001b[0m\u001b[0;34m)\u001b[0m\u001b[0;34m\u001b[0m\u001b[0;34m\u001b[0m\u001b[0m\n",
      "\u001b[0;31mIndexError\u001b[0m: index 520 is out of bounds for axis 1 with size 520"
     ]
    }
   ],
   "source": [
    "new_sample = clear_image.copy()\n",
    "diameter = 10\n",
    "\n",
    "for r in range(clear_image.shape[0]):\n",
    "    for c in range(clear_image.shape[1]):\n",
    "        \n",
    "        r1 = r + math.ceil(np.random.uniform(-0.5,0.5) * diameter)\n",
    "        c1 = c + math.ceil(np.random.uniform(-0.5,0.5) * diameter)\n",
    "                \n",
    "        if(is_outside(r1, c1, clear_image.shape)):\n",
    "            new_sample.itemset((r,c,0), 1)\n",
    "            new_sample.itemset((r,c,1), 1)\n",
    "            new_sample.itemset((r,c,2), 1)\n",
    "        else:\n",
    "            new_sample.itemset((r,c,0), clear_image[r1,c1,0])\n",
    "            new_sample.itemset((r,c,1), clear_image[r1,c1,1])\n",
    "            new_sample.itemset((r,c,2), clear_image[r1,c1,2])\n",
    "\n",
    "cv2.imshow(\"sample\",new_sample)\n",
    "show()"
   ]
  },
  {
   "cell_type": "code",
   "execution_count": 206,
   "id": "d7a6b36c",
   "metadata": {},
   "outputs": [
    {
     "data": {
      "text/plain": [
       "-0.2081072248849436"
      ]
     },
     "execution_count": 206,
     "metadata": {},
     "output_type": "execute_result"
    }
   ],
   "source": [
    "np.random.uniform(-0.5,0.5)"
   ]
  },
  {
   "cell_type": "code",
   "execution_count": 122,
   "id": "9f817ad4",
   "metadata": {},
   "outputs": [
    {
     "data": {
      "text/plain": [
       "0.12562991010746727"
      ]
     },
     "execution_count": 122,
     "metadata": {},
     "output_type": "execute_result"
    }
   ],
   "source": [
    "r = 1\n",
    "c = 2\n",
    "clear_image[r,c,0]*3"
   ]
  },
  {
   "cell_type": "code",
   "execution_count": 69,
   "id": "b870336e",
   "metadata": {},
   "outputs": [
    {
     "data": {
      "text/plain": [
       "array([[[0.20973378, 0.25803559, 0.25817509],\n",
       "        [0.43925552, 0.2059181 , 0.03571784],\n",
       "        [0.65770722, 0.8368351 , 0.90041032]],\n",
       "\n",
       "       [[0.8875103 , 0.71830661, 0.89451212],\n",
       "        [0.58531701, 0.53531046, 0.97802003],\n",
       "        [0.04187664, 0.80996184, 0.63212842]],\n",
       "\n",
       "       [[0.6930825 , 0.77708017, 0.12672578],\n",
       "        [0.4199977 , 0.13197278, 0.51458575],\n",
       "        [0.79286132, 0.6976383 , 0.70319765]]])"
      ]
     },
     "execution_count": 69,
     "metadata": {},
     "output_type": "execute_result"
    }
   ],
   "source": [
    "clear_image"
   ]
  },
  {
   "cell_type": "code",
   "execution_count": 91,
   "id": "194e9cfb",
   "metadata": {},
   "outputs": [],
   "source": [
    "cv2.imshow(\"sample\",clear_image)\n",
    "show()"
   ]
  },
  {
   "cell_type": "code",
   "execution_count": 85,
   "id": "fa064928",
   "metadata": {},
   "outputs": [
    {
     "data": {
      "text/plain": [
       "0.25817509219048973"
      ]
     },
     "execution_count": 85,
     "metadata": {},
     "output_type": "execute_result"
    }
   ],
   "source": [
    "clear_image.item((0,0,2))"
   ]
  },
  {
   "cell_type": "code",
   "execution_count": 133,
   "id": "934e125a",
   "metadata": {},
   "outputs": [],
   "source": [
    "ci = clear_image.copy()\n",
    "ci[0,0,0] = clear_image[0,0,0]*math.pi\n",
    "ci[0,0,1] = clear_image[0,0,1]*math.pi\n",
    "ci[0,0,2] = clear_image[0,0,2]*math.pi\n",
    "cv2.imshow(\"sample\",ci)\n",
    "show()"
   ]
  },
  {
   "cell_type": "code",
   "execution_count": 100,
   "id": "719afa30",
   "metadata": {},
   "outputs": [
    {
     "data": {
      "text/plain": [
       "array([[[0.62920134, 1.25840267, 1.88760401],\n",
       "        [0.43925552, 0.2059181 , 0.03571784],\n",
       "        [0.65770722, 0.8368351 , 0.90041032]],\n",
       "\n",
       "       [[0.8875103 , 0.71830661, 0.89451212],\n",
       "        [0.58531701, 0.53531046, 0.97802003],\n",
       "        [0.04187664, 0.80996184, 0.63212842]],\n",
       "\n",
       "       [[0.6930825 , 0.77708017, 0.12672578],\n",
       "        [0.4199977 , 0.13197278, 0.51458575],\n",
       "        [0.79286132, 0.6976383 , 0.70319765]]])"
      ]
     },
     "execution_count": 100,
     "metadata": {},
     "output_type": "execute_result"
    }
   ],
   "source": [
    "ci"
   ]
  },
  {
   "cell_type": "code",
   "execution_count": 131,
   "id": "0777cbef",
   "metadata": {},
   "outputs": [
    {
     "data": {
      "text/plain": [
       "0.20819951962077496"
      ]
     },
     "execution_count": 131,
     "metadata": {},
     "output_type": "execute_result"
    }
   ],
   "source": [
    "math.sin(clear_image[0,0,0])"
   ]
  }
 ],
 "metadata": {
  "kernelspec": {
   "display_name": "Python 3",
   "language": "python",
   "name": "python3"
  },
  "language_info": {
   "codemirror_mode": {
    "name": "ipython",
    "version": 3
   },
   "file_extension": ".py",
   "mimetype": "text/x-python",
   "name": "python",
   "nbconvert_exporter": "python",
   "pygments_lexer": "ipython3",
   "version": "3.8.8"
  }
 },
 "nbformat": 4,
 "nbformat_minor": 5
}
