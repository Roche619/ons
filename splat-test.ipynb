{
 "cells": [
  {
   "cell_type": "markdown",
   "id": "6c88c6a8",
   "metadata": {},
   "source": [
    "### Import Libraries"
   ]
  },
  {
   "cell_type": "code",
   "execution_count": 1,
   "id": "f3bb2492",
   "metadata": {},
   "outputs": [],
   "source": [
    "import cv2\n",
    "import numpy as np\n",
    "import random\n",
    "import math"
   ]
  },
  {
   "cell_type": "markdown",
   "id": "dc2d30da",
   "metadata": {},
   "source": [
    "### Define `show()` to control termination of image window"
   ]
  },
  {
   "cell_type": "code",
   "execution_count": 2,
   "id": "35f46e69",
   "metadata": {},
   "outputs": [],
   "source": [
    "def show():\n",
    "    while True:\n",
    "        if(cv2.waitKey(1) & 0xFF == ord(\"q\")):\n",
    "            break\n",
    "    cv2.destroyAllWindows()"
   ]
  },
  {
   "cell_type": "markdown",
   "id": "36203714",
   "metadata": {},
   "source": [
    "### Read in the image. If width is greater than 800 pixels, reduce size."
   ]
  },
  {
   "cell_type": "code",
   "execution_count": 3,
   "id": "fbcfb485",
   "metadata": {},
   "outputs": [
    {
     "name": "stdout",
     "output_type": "stream",
     "text": [
      "Enter file name to use:fly.jpg\n",
      "Enter the scale factor by which to reduce the image size:100\n"
     ]
    }
   ],
   "source": [
    "path = \"../../media/images/\"\n",
    "file_name = input(\"Enter file name to use:\")\n",
    "image_file = cv2.imread(path+file_name, cv2.IMREAD_UNCHANGED)\n",
    "\n",
    "scale_factor = int(input(\"Enter the scale factor by which to reduce the image size:\"))\n",
    "height = int(image_file.shape[0] * scale_factor/100)\n",
    "width = int(image_file.shape[1] * scale_factor/100)\n",
    "dimensions = (width,height)\n",
    "\n",
    "input_image = cv2.resize(image_file, dimensions)"
   ]
  },
  {
   "cell_type": "markdown",
   "id": "0021c171",
   "metadata": {},
   "source": [
    "### Display image"
   ]
  },
  {
   "cell_type": "code",
   "execution_count": 4,
   "id": "a39d7baf",
   "metadata": {},
   "outputs": [],
   "source": [
    "cv2.imshow(\"Image\",input_image)\n",
    "\n",
    "show()"
   ]
  },
  {
   "cell_type": "markdown",
   "id": "70918e70",
   "metadata": {},
   "source": [
    "### Display shape information of image (number of rows, number of columns and number of channels)"
   ]
  },
  {
   "cell_type": "code",
   "execution_count": 5,
   "id": "d7d4a974",
   "metadata": {},
   "outputs": [
    {
     "data": {
      "text/plain": [
       "(866, 1300, 3)"
      ]
     },
     "execution_count": 5,
     "metadata": {},
     "output_type": "execute_result"
    }
   ],
   "source": [
    "input_image.shape"
   ]
  },
  {
   "cell_type": "markdown",
   "id": "56a63b33",
   "metadata": {},
   "source": [
    "### Two ways of displaying value of a pixel of particular channel"
   ]
  },
  {
   "cell_type": "code",
   "execution_count": 6,
   "id": "a72a2bb0",
   "metadata": {},
   "outputs": [
    {
     "data": {
      "text/plain": [
       "(19, 19)"
      ]
     },
     "execution_count": 6,
     "metadata": {},
     "output_type": "execute_result"
    }
   ],
   "source": [
    "input_image[200,200,2], input_image.item((200,200,2))"
   ]
  },
  {
   "cell_type": "markdown",
   "id": "66719a88",
   "metadata": {},
   "source": [
    "### Make copy of image to play around with."
   ]
  },
  {
   "cell_type": "code",
   "execution_count": 7,
   "id": "d5fbb574",
   "metadata": {},
   "outputs": [],
   "source": [
    "image_copy = input_image.copy()\n",
    "cv2.imshow(\"Image\", image_copy)\n",
    "show()"
   ]
  },
  {
   "cell_type": "markdown",
   "id": "6cd1bb43",
   "metadata": {},
   "source": [
    "### Two ways of setting the value of a pixel of a particular channel"
   ]
  },
  {
   "cell_type": "code",
   "execution_count": 8,
   "id": "61f3808b",
   "metadata": {},
   "outputs": [
    {
     "data": {
      "text/plain": [
       "(4, 136)"
      ]
     },
     "execution_count": 8,
     "metadata": {},
     "output_type": "execute_result"
    }
   ],
   "source": [
    "image_copy = input_image.copy()\n",
    "image_copy[0,0] = (0,0,4)\n",
    "image_copy[0,0,2], input_image[0,0,2]"
   ]
  },
  {
   "cell_type": "code",
   "execution_count": 9,
   "id": "ee54bc27",
   "metadata": {},
   "outputs": [
    {
     "data": {
      "text/plain": [
       "(42, 136)"
      ]
     },
     "execution_count": 9,
     "metadata": {},
     "output_type": "execute_result"
    }
   ],
   "source": [
    "image_copy.itemset((0,0,2), 42)\n",
    "image_copy[0,0,2], input_image[0,0,2]"
   ]
  },
  {
   "cell_type": "markdown",
   "id": "0ef9b673",
   "metadata": {},
   "source": [
    "### Display a slice of the image"
   ]
  },
  {
   "cell_type": "code",
   "execution_count": 10,
   "id": "9a360bba",
   "metadata": {},
   "outputs": [],
   "source": [
    "image_copy = input_image.copy()\n",
    "cv2.imshow(\"Image\",image_copy[100:,100:,0])\n",
    "show()"
   ]
  },
  {
   "cell_type": "markdown",
   "id": "9899ef6e",
   "metadata": {},
   "source": [
    "### Create data with NumPy and display"
   ]
  },
  {
   "cell_type": "code",
   "execution_count": 11,
   "id": "55f7306d",
   "metadata": {},
   "outputs": [],
   "source": [
    "import cv2\n",
    "import numpy as np\n",
    "\n",
    "def show():\n",
    "    while True:\n",
    "        if(cv2.waitKey(1) & 0xFF == ord(\"q\")):\n",
    "            break\n",
    "    cv2.destroyAllWindows()\n",
    "\n",
    "height = 200\n",
    "width = 200\n",
    "channels = 3\n",
    "\n",
    "try:\n",
    "    contrived_image = np.random.rand(height,width,channels)\n",
    "    cv2.imshow(\"Image\",contrived_image)\n",
    "except:\n",
    "    print(\"Entered faulty number of channels\")\n",
    "show()"
   ]
  },
  {
   "cell_type": "code",
   "execution_count": 12,
   "id": "fab83de4",
   "metadata": {},
   "outputs": [],
   "source": [
    "import cv2\n",
    "import numpy as np\n",
    "\n",
    "def show():\n",
    "    while True:\n",
    "        if(cv2.waitKey(1) & 0xFF == ord(\"q\")):\n",
    "            break\n",
    "    cv2.destroyAllWindows()\n",
    "\n",
    "height = 200\n",
    "width = 200\n",
    "channels = 3\n",
    "\n",
    "try:\n",
    "    contrived_image = np.random.randn(height,width,channels)\n",
    "    cv2.imshow(\"Image\",contrived_image)\n",
    "except:\n",
    "    print(\"Entered faulty number of channels\")\n",
    "show()"
   ]
  },
  {
   "cell_type": "markdown",
   "id": "2902b17e",
   "metadata": {},
   "source": [
    "### Not quite getting it with randints"
   ]
  },
  {
   "cell_type": "code",
   "execution_count": 13,
   "id": "4d1a5a6f",
   "metadata": {},
   "outputs": [
    {
     "name": "stdout",
     "output_type": "stream",
     "text": [
      "Entered faulty number of channels\n"
     ]
    }
   ],
   "source": [
    "import cv2\n",
    "import numpy as np\n",
    "\n",
    "def show():\n",
    "    while True:\n",
    "        if(cv2.waitKey(1) & 0xFF == ord(\"q\")):\n",
    "            break\n",
    "    cv2.destroyAllWindows()\n",
    "\n",
    "start = 1\n",
    "stop = 201\n",
    "number = 200\n",
    "channels = 3\n",
    "\n",
    "try:\n",
    "    contrived_image = np.random.randint(start,stop,(number,number))\n",
    "    cv2.imshow(\"Image\",contrived_image)\n",
    "except:\n",
    "    print(\"Entered faulty number of channels\")\n",
    "show()"
   ]
  },
  {
   "cell_type": "code",
   "execution_count": 14,
   "id": "21c8204c",
   "metadata": {},
   "outputs": [
    {
     "data": {
      "text/plain": [
       "(200, 200)"
      ]
     },
     "execution_count": 14,
     "metadata": {},
     "output_type": "execute_result"
    }
   ],
   "source": [
    "contrived_image.shape"
   ]
  },
  {
   "cell_type": "code",
   "execution_count": 15,
   "id": "a9d91b2a",
   "metadata": {},
   "outputs": [
    {
     "data": {
      "text/plain": [
       "array([109, 122, 136], dtype=uint8)"
      ]
     },
     "execution_count": 15,
     "metadata": {},
     "output_type": "execute_result"
    }
   ],
   "source": [
    "input_image[0,0]"
   ]
  },
  {
   "cell_type": "markdown",
   "id": "7becfa43",
   "metadata": {},
   "source": [
    "## Modifying Images\n",
    "### First, change value of colours deterministically"
   ]
  },
  {
   "cell_type": "code",
   "execution_count": 16,
   "id": "b0e043bf",
   "metadata": {},
   "outputs": [],
   "source": [
    "image_copy = input_image.copy()\n",
    "for r in range(image_copy.shape[0]):\n",
    "    for c in range(image_copy.shape[1]):\n",
    "#         if r > 128:\n",
    "#             val = image_copy[r,c,0]\n",
    "#         else:\n",
    "        val1 = image_copy[r,c,2]\n",
    "        val2 = image_copy[r,c,0]\n",
    "        val3 = image_copy[r,c,1]\n",
    "        image_copy[r,c] = (val3,val3,val3)\n",
    "cv2.imshow(\"Image\",image_copy)\n",
    "show()\n",
    "# image_copy[0,0]"
   ]
  },
  {
   "cell_type": "markdown",
   "id": "68ef1096",
   "metadata": {},
   "source": [
    "### Script from George Lecakes"
   ]
  },
  {
   "cell_type": "code",
   "execution_count": 56,
   "id": "c31bfa47",
   "metadata": {},
   "outputs": [],
   "source": [
    "def is_outside(r, c, shape):\n",
    "    if(c < 0 or c >= shape[1]):\n",
    "        return True\n",
    "    if(r < 0 or r >= shape[0]):\n",
    "        return True\n",
    "    else:\n",
    "        return False\n",
    "    \n",
    "output_image = input_image.copy()\n",
    "\n",
    "for r in range(input_image.shape[0]):\n",
    "    for c in range(input_image.shape[1]):\n",
    "        \n",
    "        if r == input_image.shape[0]:\n",
    "            r1 = r + 1\n",
    "        else:\n",
    "            r1 = r - 2\n",
    "        if c == input_image.shape[1]:\n",
    "            c1 = c + 1\n",
    "        else:\n",
    "            c1 = c - 2\n",
    "        \n",
    "        if(is_outside(r1, c1, input_image.shape)):\n",
    "            output_image.itemset((r,c,0), 1)\n",
    "            output_image.itemset((r,c,1), 1)\n",
    "            output_image.itemset((r,c,2), 1)\n",
    "        else:\n",
    "            output_image.itemset((r,c,0), input_image.item((r1,c1,0)))\n",
    "            output_image.itemset((r,c,1), input_image.item((r1,c1,1)))\n",
    "            output_image.itemset((r,c,2), input_image.item((r1,c1,2)))\n",
    "\n",
    "cv2.imshow(\"Image\",output_image)\n",
    "show()"
   ]
  },
  {
   "cell_type": "code",
   "execution_count": 18,
   "id": "5d93cd9f",
   "metadata": {},
   "outputs": [],
   "source": [
    "output_image = input_image.copy()\n",
    "\n",
    "for r in range(input_image.shape[0]):\n",
    "    for c in range(input_image.shape[1]):\n",
    "        \n",
    "        if r == input_image.shape[0]:\n",
    "            r1 = r + 1\n",
    "        else:\n",
    "            r1 = r - 2\n",
    "        if c == input_image.shape[1]:\n",
    "            c1 = c + 1\n",
    "        else:\n",
    "            c1 = c - 2\n",
    "        \n",
    "        output_image.itemset((r,c,0), input_image.item((r1,c1,0)))\n",
    "        output_image.itemset((r,c,1), input_image.item((r1,c1,1)))\n",
    "        output_image.itemset((r,c,2), input_image.item((r1,c1,2)))\n",
    "\n",
    "cv2.imshow(\"Image\",output_image)\n",
    "show()"
   ]
  },
  {
   "cell_type": "markdown",
   "id": "cddad9e1",
   "metadata": {},
   "source": [
    "### Exploring Manipulation"
   ]
  },
  {
   "cell_type": "code",
   "execution_count": 45,
   "id": "251e3f29",
   "metadata": {},
   "outputs": [],
   "source": [
    "height = 2\n",
    "width = 3\n",
    "channels = 3\n",
    "\n",
    "input_image = np.random.rand(height,width,channels)"
   ]
  },
  {
   "cell_type": "code",
   "execution_count": 59,
   "id": "af6da147",
   "metadata": {},
   "outputs": [
    {
     "name": "stdout",
     "output_type": "stream",
     "text": [
      "Enter file name to use:fly.jpg\n",
      "Enter the scale factor by which to reduce the image size:25\n"
     ]
    }
   ],
   "source": [
    "path = \"../../media/images/\"\n",
    "file_name = input(\"Enter file name to use:\")\n",
    "image_file = cv2.imread(path+file_name, cv2.IMREAD_UNCHANGED)\n",
    "\n",
    "scale_factor = int(input(\"Enter the scale factor by which to reduce the image size:\"))\n",
    "height = int(image_file.shape[0] * scale_factor/100)\n",
    "width = int(image_file.shape[1] * scale_factor/100)\n",
    "dimensions = (width,height)\n",
    "\n",
    "input_image = cv2.resize(image_file, dimensions)"
   ]
  },
  {
   "cell_type": "code",
   "execution_count": 54,
   "id": "18a4bd7d",
   "metadata": {},
   "outputs": [],
   "source": [
    "def is_outside(r, c, shape):\n",
    "    if(c < 0 or c >= shape[1]):\n",
    "        return True\n",
    "    if(r < 0 or r >= shape[0]):\n",
    "        return True\n",
    "    else:\n",
    "        return False"
   ]
  },
  {
   "cell_type": "code",
   "execution_count": 22,
   "id": "16fa3382",
   "metadata": {},
   "outputs": [],
   "source": [
    "output_image = input_image.copy()\n",
    "\n",
    "for r in range(input_image.shape[0]):\n",
    "    for c in range(input_image.shape[1]):\n",
    "        \n",
    "        output_image.itemset((r,c,0), input_image[r,c,0]*math.pi)\n",
    "        output_image.itemset((r,c,1), input_image[r,c,0]*math.e)\n",
    "        output_image.itemset((r,c,2), input_image[r,c,0]*math.sin(r))\n",
    "\n",
    "cv2.imshow(\"Image\",output_image)\n",
    "show()"
   ]
  },
  {
   "cell_type": "code",
   "execution_count": 62,
   "id": "2052e1e1",
   "metadata": {},
   "outputs": [],
   "source": [
    "output_image = input_image.copy()\n",
    "diameter = 50\n",
    "\n",
    "for r in range(input_image.shape[0]):\n",
    "    for c in range(input_image.shape[1]):\n",
    "        \n",
    "        r1 = r + math.ceil(np.random.uniform(-0.5,0.5) * diameter)\n",
    "        c1 = c + math.ceil(np.random.uniform(-0.5,0.5) * diameter)\n",
    "                \n",
    "        if(is_outside(r1, c1, input_image.shape)):\n",
    "            output_image.itemset((r,c,0), 0)\n",
    "            output_image.itemset((r,c,1), 0)\n",
    "            output_image.itemset((r,c,2), 0)\n",
    "        else:\n",
    "            output_image.itemset((r,c,0), input_image[r1,c1,0])\n",
    "            output_image.itemset((r,c,1), input_image[r1,c1,1])\n",
    "            output_image.itemset((r,c,2), input_image[r1,c1,2])\n",
    "\n",
    "cv2.imshow(\"Image\",output_image)\n",
    "show()"
   ]
  },
  {
   "cell_type": "code",
   "execution_count": 25,
   "id": "098be0d4",
   "metadata": {},
   "outputs": [
    {
     "data": {
      "text/plain": [
       "315"
      ]
     },
     "execution_count": 25,
     "metadata": {},
     "output_type": "execute_result"
    }
   ],
   "source": [
    "r = 1\n",
    "c = 2\n",
    "input_image[r,c,0]*3"
   ]
  },
  {
   "cell_type": "code",
   "execution_count": 26,
   "id": "23edf417",
   "metadata": {},
   "outputs": [
    {
     "data": {
      "text/plain": [
       "array([[[109, 122, 136],\n",
       "        [107, 123, 136],\n",
       "        [104, 118, 136],\n",
       "        ...,\n",
       "        [ 59,  54,  55],\n",
       "        [ 53,  55,  55],\n",
       "        [ 55,  55,  55]],\n",
       "\n",
       "       [[110, 123, 137],\n",
       "        [107, 120, 134],\n",
       "        [105, 121, 134],\n",
       "        ...,\n",
       "        [ 60,  59,  61],\n",
       "        [ 53,  55,  55],\n",
       "        [ 57,  57,  57]],\n",
       "\n",
       "       [[105, 118, 132],\n",
       "        [106, 119, 133],\n",
       "        [103, 116, 130],\n",
       "        ...,\n",
       "        [ 61,  60,  62],\n",
       "        [ 52,  57,  56],\n",
       "        [ 59,  59,  59]],\n",
       "\n",
       "       ...,\n",
       "\n",
       "       [[ 89,  89, 101],\n",
       "        [ 82,  84,  95],\n",
       "        [ 89,  91, 102],\n",
       "        ...,\n",
       "        [106, 113, 138],\n",
       "        [101, 108, 133],\n",
       "        [108, 113, 138]],\n",
       "\n",
       "       [[ 81,  83,  94],\n",
       "        [ 84,  82, 101],\n",
       "        [ 88,  85, 101],\n",
       "        ...,\n",
       "        [112, 119, 144],\n",
       "        [111, 119, 142],\n",
       "        [106, 115, 135]],\n",
       "\n",
       "       [[ 82,  82,  98],\n",
       "        [ 88,  88, 104],\n",
       "        [ 93,  94, 108],\n",
       "        ...,\n",
       "        [124, 131, 156],\n",
       "        [115, 123, 146],\n",
       "        [103, 112, 132]]], dtype=uint8)"
      ]
     },
     "execution_count": 26,
     "metadata": {},
     "output_type": "execute_result"
    }
   ],
   "source": [
    "input_image"
   ]
  },
  {
   "cell_type": "code",
   "execution_count": 27,
   "id": "65845d8a",
   "metadata": {},
   "outputs": [],
   "source": [
    "cv2.imshow(\"Image\",input_image)\n",
    "show()"
   ]
  },
  {
   "cell_type": "code",
   "execution_count": 28,
   "id": "dd9dc489",
   "metadata": {},
   "outputs": [
    {
     "data": {
      "text/plain": [
       "136"
      ]
     },
     "execution_count": 28,
     "metadata": {},
     "output_type": "execute_result"
    }
   ],
   "source": [
    "input_image.item((0,0,2))"
   ]
  },
  {
   "cell_type": "code",
   "execution_count": 29,
   "id": "83129e5f",
   "metadata": {},
   "outputs": [],
   "source": [
    "image_copy = input_image.copy()\n",
    "image_copy[0,0,0] = input_image[0,0,0]*math.pi\n",
    "image_copy[0,0,1] = input_image[0,0,1]*math.pi\n",
    "image_copy[0,0,2] = input_image[0,0,2]*math.pi\n",
    "cv2.imshow(\"Image\",image_copy)\n",
    "show()"
   ]
  },
  {
   "cell_type": "code",
   "execution_count": 30,
   "id": "959fcbf8",
   "metadata": {},
   "outputs": [
    {
     "data": {
      "text/plain": [
       "array([[[ 86, 127, 171],\n",
       "        [107, 123, 136],\n",
       "        [104, 118, 136],\n",
       "        ...,\n",
       "        [ 59,  54,  55],\n",
       "        [ 53,  55,  55],\n",
       "        [ 55,  55,  55]],\n",
       "\n",
       "       [[110, 123, 137],\n",
       "        [107, 120, 134],\n",
       "        [105, 121, 134],\n",
       "        ...,\n",
       "        [ 60,  59,  61],\n",
       "        [ 53,  55,  55],\n",
       "        [ 57,  57,  57]],\n",
       "\n",
       "       [[105, 118, 132],\n",
       "        [106, 119, 133],\n",
       "        [103, 116, 130],\n",
       "        ...,\n",
       "        [ 61,  60,  62],\n",
       "        [ 52,  57,  56],\n",
       "        [ 59,  59,  59]],\n",
       "\n",
       "       ...,\n",
       "\n",
       "       [[ 89,  89, 101],\n",
       "        [ 82,  84,  95],\n",
       "        [ 89,  91, 102],\n",
       "        ...,\n",
       "        [106, 113, 138],\n",
       "        [101, 108, 133],\n",
       "        [108, 113, 138]],\n",
       "\n",
       "       [[ 81,  83,  94],\n",
       "        [ 84,  82, 101],\n",
       "        [ 88,  85, 101],\n",
       "        ...,\n",
       "        [112, 119, 144],\n",
       "        [111, 119, 142],\n",
       "        [106, 115, 135]],\n",
       "\n",
       "       [[ 82,  82,  98],\n",
       "        [ 88,  88, 104],\n",
       "        [ 93,  94, 108],\n",
       "        ...,\n",
       "        [124, 131, 156],\n",
       "        [115, 123, 146],\n",
       "        [103, 112, 132]]], dtype=uint8)"
      ]
     },
     "execution_count": 30,
     "metadata": {},
     "output_type": "execute_result"
    }
   ],
   "source": [
    "image_copy"
   ]
  },
  {
   "cell_type": "code",
   "execution_count": 31,
   "id": "1647ddb7",
   "metadata": {},
   "outputs": [
    {
     "data": {
      "text/plain": [
       "0.8167426066363169"
      ]
     },
     "execution_count": 31,
     "metadata": {},
     "output_type": "execute_result"
    }
   ],
   "source": [
    "math.sin(input_image[0,0,0])"
   ]
  }
 ],
 "metadata": {
  "kernelspec": {
   "display_name": "Python 3",
   "language": "python",
   "name": "python3"
  },
  "language_info": {
   "codemirror_mode": {
    "name": "ipython",
    "version": 3
   },
   "file_extension": ".py",
   "mimetype": "text/x-python",
   "name": "python",
   "nbconvert_exporter": "python",
   "pygments_lexer": "ipython3",
   "version": "3.8.8"
  }
 },
 "nbformat": 4,
 "nbformat_minor": 5
}
