{
 "cells": [
  {
   "cell_type": "markdown",
   "id": "6c88c6a8",
   "metadata": {},
   "source": [
    "### Import Libraries"
   ]
  },
  {
   "cell_type": "code",
   "execution_count": 42,
   "id": "f3bb2492",
   "metadata": {},
   "outputs": [],
   "source": [
    "import cv2\n",
    "import numpy as np\n",
    "import random\n",
    "import math"
   ]
  },
  {
   "cell_type": "markdown",
   "id": "e6d66516",
   "metadata": {},
   "source": [
    "### Define `show()` to control termination of image window"
   ]
  },
  {
   "cell_type": "code",
   "execution_count": 43,
   "id": "bfbbb096",
   "metadata": {},
   "outputs": [],
   "source": [
    "def show():\n",
    "    while True:\n",
    "        if(cv2.waitKey(1) & 0xFF == ord(\"q\")):\n",
    "            break\n",
    "    cv2.destroyAllWindows()"
   ]
  },
  {
   "cell_type": "markdown",
   "id": "36203714",
   "metadata": {},
   "source": [
    "### Read in the image. If width is greater than 800 pixels, reduce size."
   ]
  },
  {
   "cell_type": "code",
   "execution_count": 111,
   "id": "fbcfb485",
   "metadata": {},
   "outputs": [],
   "source": [
    "path = \"../../media/images/\"\n",
    "clear_image = cv2.imread(path+\"flyeye.jpg\", cv2.IMREAD_UNCHANGED)\n",
    "\n",
    "if clear_image.shape[1] > 800:\n",
    "    scale_factor = 50\n",
    "    height = int(clear_image.shape[0] * scale_factor/100)\n",
    "    width = int(clear_image.shape[1] * scale_factor/100)\n",
    "    dimensions = (width,height)\n",
    "\n",
    "    clear_image = cv2.resize(clear_image, dimensions)"
   ]
  },
  {
   "cell_type": "markdown",
   "id": "19d84d3b",
   "metadata": {},
   "source": [
    "### Display image"
   ]
  },
  {
   "cell_type": "code",
   "execution_count": null,
   "id": "a39d7baf",
   "metadata": {},
   "outputs": [],
   "source": [
    "cv2.imshow(\"Resized Image\",clear_image)\n",
    "\n",
    "show()"
   ]
  },
  {
   "cell_type": "markdown",
   "id": "27412e2f",
   "metadata": {},
   "source": [
    "### Display shape information of image (number of rows, number of columns and number of channels)"
   ]
  },
  {
   "cell_type": "code",
   "execution_count": null,
   "id": "e0dbb7e8",
   "metadata": {},
   "outputs": [],
   "source": [
    "clear_image.shape"
   ]
  },
  {
   "cell_type": "markdown",
   "id": "36c36fd4",
   "metadata": {},
   "source": [
    "### Two ways of displaying value of a pixel of particular channel"
   ]
  },
  {
   "cell_type": "code",
   "execution_count": null,
   "id": "7865cac5",
   "metadata": {},
   "outputs": [],
   "source": [
    "clear_image[200,200,2], clear_image.item((200,200,2))"
   ]
  },
  {
   "cell_type": "markdown",
   "id": "cb158c86",
   "metadata": {},
   "source": [
    "### Make copy of image to play around with."
   ]
  },
  {
   "cell_type": "code",
   "execution_count": null,
   "id": "a51352c1",
   "metadata": {},
   "outputs": [],
   "source": [
    "ci = clear_image.copy()\n",
    "cv2.imshow(\"ci\", ci)\n",
    "show()"
   ]
  },
  {
   "cell_type": "markdown",
   "id": "3782e73a",
   "metadata": {},
   "source": [
    "### Two ways of setting the value of a pixel of a particular channel"
   ]
  },
  {
   "cell_type": "code",
   "execution_count": null,
   "id": "5287f364",
   "metadata": {},
   "outputs": [],
   "source": [
    "ci = clear_image.copy()\n",
    "ci[0,0] = (0,0,4)\n",
    "ci[0,0,2], clear_image[0,0,2]"
   ]
  },
  {
   "cell_type": "code",
   "execution_count": null,
   "id": "f47dc9f4",
   "metadata": {},
   "outputs": [],
   "source": [
    "ci.itemset((0,0,2), 42)\n",
    "ci[0,0,2], clear_image[0,0,2]"
   ]
  },
  {
   "cell_type": "markdown",
   "id": "ab4e092a",
   "metadata": {},
   "source": [
    "### Display a slice of the image"
   ]
  },
  {
   "cell_type": "code",
   "execution_count": null,
   "id": "87357db5",
   "metadata": {},
   "outputs": [],
   "source": [
    "ci = clear_image.copy()\n",
    "cv2.imshow(\"ci\",ci[100:,100:,0])\n",
    "show()"
   ]
  },
  {
   "cell_type": "markdown",
   "id": "ae1b152e",
   "metadata": {},
   "source": [
    "### Create data with NumPy and display"
   ]
  },
  {
   "cell_type": "code",
   "execution_count": 6,
   "id": "70eb0ed2",
   "metadata": {},
   "outputs": [],
   "source": [
    "import cv2\n",
    "import numpy as np\n",
    "\n",
    "def show():\n",
    "    while True:\n",
    "        if(cv2.waitKey(1) & 0xFF == ord(\"q\")):\n",
    "            break\n",
    "    cv2.destroyAllWindows()\n",
    "\n",
    "height = 200\n",
    "width = 200\n",
    "channels = 3\n",
    "\n",
    "try:\n",
    "    contrived_image = np.random.rand(height,width,channels)\n",
    "    cv2.imshow(\"ci\",contrived_image)\n",
    "except:\n",
    "    print(\"Entered faulty number of channels\")\n",
    "show()"
   ]
  },
  {
   "cell_type": "code",
   "execution_count": 31,
   "id": "af11322f",
   "metadata": {},
   "outputs": [],
   "source": [
    "import cv2\n",
    "import numpy as np\n",
    "\n",
    "def show():\n",
    "    while True:\n",
    "        if(cv2.waitKey(1) & 0xFF == ord(\"q\")):\n",
    "            break\n",
    "    cv2.destroyAllWindows()\n",
    "\n",
    "height = 200\n",
    "width = 200\n",
    "channels = 3\n",
    "\n",
    "try:\n",
    "    contrived_image = np.random.randn(height,width,channels)\n",
    "    cv2.imshow(\"ci\",contrived_image)\n",
    "except:\n",
    "    print(\"Entered faulty number of channels\")\n",
    "show()"
   ]
  },
  {
   "cell_type": "markdown",
   "id": "4a4b80be",
   "metadata": {},
   "source": [
    "### Not quite getting it with randints"
   ]
  },
  {
   "cell_type": "code",
   "execution_count": 40,
   "id": "41cf2bbf",
   "metadata": {},
   "outputs": [
    {
     "name": "stdout",
     "output_type": "stream",
     "text": [
      "Entered faulty number of channels\n"
     ]
    }
   ],
   "source": [
    "import cv2\n",
    "import numpy as np\n",
    "\n",
    "def show():\n",
    "    while True:\n",
    "        if(cv2.waitKey(1) & 0xFF == ord(\"q\")):\n",
    "            break\n",
    "    cv2.destroyAllWindows()\n",
    "\n",
    "start = 1\n",
    "stop = 201\n",
    "number = 200\n",
    "channels = 3\n",
    "\n",
    "try:\n",
    "    contrived_image = np.random.randint(start,stop,(number,number))\n",
    "    cv2.imshow(\"ci\",contrived_image)\n",
    "except:\n",
    "    print(\"Entered faulty number of channels\")\n",
    "show()"
   ]
  },
  {
   "cell_type": "code",
   "execution_count": 36,
   "id": "72e42a2b",
   "metadata": {},
   "outputs": [
    {
     "data": {
      "text/plain": [
       "(200, 200, 3)"
      ]
     },
     "execution_count": 36,
     "metadata": {},
     "output_type": "execute_result"
    }
   ],
   "source": [
    "contrived_image.shape"
   ]
  },
  {
   "cell_type": "code",
   "execution_count": 46,
   "id": "42bb5d7b",
   "metadata": {},
   "outputs": [
    {
     "data": {
      "text/plain": [
       "array([37, 43, 42], dtype=uint8)"
      ]
     },
     "execution_count": 46,
     "metadata": {},
     "output_type": "execute_result"
    }
   ],
   "source": [
    "clear_image[0,0]"
   ]
  },
  {
   "cell_type": "code",
   "execution_count": null,
   "id": "e429f151",
   "metadata": {},
   "outputs": [],
   "source": []
  },
  {
   "cell_type": "markdown",
   "id": "0b30261b",
   "metadata": {},
   "source": [
    "## Modifying Images\n",
    "### First, change value of colours deterministically"
   ]
  },
  {
   "cell_type": "code",
   "execution_count": 47,
   "id": "b9da238a",
   "metadata": {},
   "outputs": [],
   "source": [
    "ci = clear_image.copy()\n",
    "for r in range(ci.shape[0]):\n",
    "    for c in range(ci.shape[1]):\n",
    "#         if r > 128:\n",
    "#             val = ci[r,c,0]\n",
    "#         else:\n",
    "        val1 = ci[c,r,0]\n",
    "        val2 = ci[c,r,1]\n",
    "        val3 = ci[c,r,2]\n",
    "        ci[r,c] = (val3,val3,val3)\n",
    "cv2.imshow(\"ci\",ci)\n",
    "show()\n",
    "# ci[0,0]"
   ]
  },
  {
   "cell_type": "code",
   "execution_count": 88,
   "id": "dedb4479",
   "metadata": {},
   "outputs": [],
   "source": [
    "sample = cv2.imread(path+\"sample.jpg\", cv2.IMREAD_UNCHANGED)\n",
    "cv2.imshow(\"sample\",sample)\n",
    "show()"
   ]
  },
  {
   "cell_type": "code",
   "execution_count": 50,
   "id": "1fefcdda",
   "metadata": {},
   "outputs": [
    {
     "data": {
      "text/plain": [
       "(20, 20, 3)"
      ]
     },
     "execution_count": 50,
     "metadata": {},
     "output_type": "execute_result"
    }
   ],
   "source": [
    "sample.shape"
   ]
  },
  {
   "cell_type": "code",
   "execution_count": 55,
   "id": "ca7c36c4",
   "metadata": {},
   "outputs": [
    {
     "data": {
      "text/plain": [
       "array([[ 65,  83, 146],\n",
       "       [ 59,  81, 123],\n",
       "       [ 60,  81, 102],\n",
       "       [ 60,  79,  82],\n",
       "       [ 59,  78,  63],\n",
       "       [ 67,  85,  54],\n",
       "       [ 68,  85,  41],\n",
       "       [ 67,  86,  29],\n",
       "       [ 65,  87,  29],\n",
       "       [ 65,  88,  26],\n",
       "       [ 69,  90,  27],\n",
       "       [ 73,  89,  28],\n",
       "       [ 75,  90,  29],\n",
       "       [ 78,  89,  27],\n",
       "       [ 82,  90,  29],\n",
       "       [ 80,  88,  27],\n",
       "       [ 75,  90,  28],\n",
       "       [ 74,  89,  28],\n",
       "       [ 73,  87,  29],\n",
       "       [ 79,  90,  34]], dtype=uint8)"
      ]
     },
     "execution_count": 55,
     "metadata": {},
     "output_type": "execute_result"
    }
   ],
   "source": [
    "#get first row of sample\n",
    "\n",
    "sample[1]"
   ]
  },
  {
   "cell_type": "code",
   "execution_count": 66,
   "id": "622d5931",
   "metadata": {},
   "outputs": [
    {
     "data": {
      "text/plain": [
       "[array([[ 65,  84, 121],\n",
       "        [ 55,  77,  95],\n",
       "        [ 59,  79,  80],\n",
       "        [ 63,  80,  66],\n",
       "        [ 64,  83,  50],\n",
       "        [ 69,  89,  44],\n",
       "        [ 71,  88,  37],\n",
       "        [ 68,  85,  28],\n",
       "        [ 70,  87,  30],\n",
       "        [ 74,  92,  33],\n",
       "        [ 71,  89,  30],\n",
       "        [ 71,  85,  31],\n",
       "        [ 74,  86,  34],\n",
       "        [ 75,  85,  32],\n",
       "        [ 78,  89,  33],\n",
       "        [ 78,  88,  35],\n",
       "        [ 78,  90,  32],\n",
       "        [ 78,  89,  33],\n",
       "        [ 77,  87,  34],\n",
       "        [ 79,  88,  37]], dtype=uint8),\n",
       " array([[ 65,  84, 121],\n",
       "        [ 55,  77,  95],\n",
       "        [ 59,  79,  80],\n",
       "        [ 63,  80,  66],\n",
       "        [ 64,  83,  50],\n",
       "        [ 69,  89,  44],\n",
       "        [ 71,  88,  37],\n",
       "        [ 68,  85,  28],\n",
       "        [ 70,  87,  30],\n",
       "        [ 74,  92,  33],\n",
       "        [ 71,  89,  30],\n",
       "        [ 71,  85,  31],\n",
       "        [ 74,  86,  34],\n",
       "        [ 75,  85,  32],\n",
       "        [ 78,  89,  33],\n",
       "        [ 78,  88,  35],\n",
       "        [ 78,  90,  32],\n",
       "        [ 78,  89,  33],\n",
       "        [ 77,  87,  34],\n",
       "        [ 79,  88,  37]], dtype=uint8),\n",
       " array([[ 65,  84, 121],\n",
       "        [ 55,  77,  95],\n",
       "        [ 59,  79,  80],\n",
       "        [ 63,  80,  66],\n",
       "        [ 64,  83,  50],\n",
       "        [ 69,  89,  44],\n",
       "        [ 71,  88,  37],\n",
       "        [ 68,  85,  28],\n",
       "        [ 70,  87,  30],\n",
       "        [ 74,  92,  33],\n",
       "        [ 71,  89,  30],\n",
       "        [ 71,  85,  31],\n",
       "        [ 74,  86,  34],\n",
       "        [ 75,  85,  32],\n",
       "        [ 78,  89,  33],\n",
       "        [ 78,  88,  35],\n",
       "        [ 78,  90,  32],\n",
       "        [ 78,  89,  33],\n",
       "        [ 77,  87,  34],\n",
       "        [ 79,  88,  37]], dtype=uint8),\n",
       " array([[ 65,  84, 121],\n",
       "        [ 55,  77,  95],\n",
       "        [ 59,  79,  80],\n",
       "        [ 63,  80,  66],\n",
       "        [ 64,  83,  50],\n",
       "        [ 69,  89,  44],\n",
       "        [ 71,  88,  37],\n",
       "        [ 68,  85,  28],\n",
       "        [ 70,  87,  30],\n",
       "        [ 74,  92,  33],\n",
       "        [ 71,  89,  30],\n",
       "        [ 71,  85,  31],\n",
       "        [ 74,  86,  34],\n",
       "        [ 75,  85,  32],\n",
       "        [ 78,  89,  33],\n",
       "        [ 78,  88,  35],\n",
       "        [ 78,  90,  32],\n",
       "        [ 78,  89,  33],\n",
       "        [ 77,  87,  34],\n",
       "        [ 79,  88,  37]], dtype=uint8),\n",
       " array([[ 65,  84, 121],\n",
       "        [ 55,  77,  95],\n",
       "        [ 59,  79,  80],\n",
       "        [ 63,  80,  66],\n",
       "        [ 64,  83,  50],\n",
       "        [ 69,  89,  44],\n",
       "        [ 71,  88,  37],\n",
       "        [ 68,  85,  28],\n",
       "        [ 70,  87,  30],\n",
       "        [ 74,  92,  33],\n",
       "        [ 71,  89,  30],\n",
       "        [ 71,  85,  31],\n",
       "        [ 74,  86,  34],\n",
       "        [ 75,  85,  32],\n",
       "        [ 78,  89,  33],\n",
       "        [ 78,  88,  35],\n",
       "        [ 78,  90,  32],\n",
       "        [ 78,  89,  33],\n",
       "        [ 77,  87,  34],\n",
       "        [ 79,  88,  37]], dtype=uint8),\n",
       " array([[ 65,  84, 121],\n",
       "        [ 55,  77,  95],\n",
       "        [ 59,  79,  80],\n",
       "        [ 63,  80,  66],\n",
       "        [ 64,  83,  50],\n",
       "        [ 69,  89,  44],\n",
       "        [ 71,  88,  37],\n",
       "        [ 68,  85,  28],\n",
       "        [ 70,  87,  30],\n",
       "        [ 74,  92,  33],\n",
       "        [ 71,  89,  30],\n",
       "        [ 71,  85,  31],\n",
       "        [ 74,  86,  34],\n",
       "        [ 75,  85,  32],\n",
       "        [ 78,  89,  33],\n",
       "        [ 78,  88,  35],\n",
       "        [ 78,  90,  32],\n",
       "        [ 78,  89,  33],\n",
       "        [ 77,  87,  34],\n",
       "        [ 79,  88,  37]], dtype=uint8),\n",
       " array([[ 65,  84, 121],\n",
       "        [ 55,  77,  95],\n",
       "        [ 59,  79,  80],\n",
       "        [ 63,  80,  66],\n",
       "        [ 64,  83,  50],\n",
       "        [ 69,  89,  44],\n",
       "        [ 71,  88,  37],\n",
       "        [ 68,  85,  28],\n",
       "        [ 70,  87,  30],\n",
       "        [ 74,  92,  33],\n",
       "        [ 71,  89,  30],\n",
       "        [ 71,  85,  31],\n",
       "        [ 74,  86,  34],\n",
       "        [ 75,  85,  32],\n",
       "        [ 78,  89,  33],\n",
       "        [ 78,  88,  35],\n",
       "        [ 78,  90,  32],\n",
       "        [ 78,  89,  33],\n",
       "        [ 77,  87,  34],\n",
       "        [ 79,  88,  37]], dtype=uint8),\n",
       " array([[ 65,  84, 121],\n",
       "        [ 55,  77,  95],\n",
       "        [ 59,  79,  80],\n",
       "        [ 63,  80,  66],\n",
       "        [ 64,  83,  50],\n",
       "        [ 69,  89,  44],\n",
       "        [ 71,  88,  37],\n",
       "        [ 68,  85,  28],\n",
       "        [ 70,  87,  30],\n",
       "        [ 74,  92,  33],\n",
       "        [ 71,  89,  30],\n",
       "        [ 71,  85,  31],\n",
       "        [ 74,  86,  34],\n",
       "        [ 75,  85,  32],\n",
       "        [ 78,  89,  33],\n",
       "        [ 78,  88,  35],\n",
       "        [ 78,  90,  32],\n",
       "        [ 78,  89,  33],\n",
       "        [ 77,  87,  34],\n",
       "        [ 79,  88,  37]], dtype=uint8),\n",
       " array([[ 65,  84, 121],\n",
       "        [ 55,  77,  95],\n",
       "        [ 59,  79,  80],\n",
       "        [ 63,  80,  66],\n",
       "        [ 64,  83,  50],\n",
       "        [ 69,  89,  44],\n",
       "        [ 71,  88,  37],\n",
       "        [ 68,  85,  28],\n",
       "        [ 70,  87,  30],\n",
       "        [ 74,  92,  33],\n",
       "        [ 71,  89,  30],\n",
       "        [ 71,  85,  31],\n",
       "        [ 74,  86,  34],\n",
       "        [ 75,  85,  32],\n",
       "        [ 78,  89,  33],\n",
       "        [ 78,  88,  35],\n",
       "        [ 78,  90,  32],\n",
       "        [ 78,  89,  33],\n",
       "        [ 77,  87,  34],\n",
       "        [ 79,  88,  37]], dtype=uint8),\n",
       " array([[ 65,  84, 121],\n",
       "        [ 55,  77,  95],\n",
       "        [ 59,  79,  80],\n",
       "        [ 63,  80,  66],\n",
       "        [ 64,  83,  50],\n",
       "        [ 69,  89,  44],\n",
       "        [ 71,  88,  37],\n",
       "        [ 68,  85,  28],\n",
       "        [ 70,  87,  30],\n",
       "        [ 74,  92,  33],\n",
       "        [ 71,  89,  30],\n",
       "        [ 71,  85,  31],\n",
       "        [ 74,  86,  34],\n",
       "        [ 75,  85,  32],\n",
       "        [ 78,  89,  33],\n",
       "        [ 78,  88,  35],\n",
       "        [ 78,  90,  32],\n",
       "        [ 78,  89,  33],\n",
       "        [ 77,  87,  34],\n",
       "        [ 79,  88,  37]], dtype=uint8),\n",
       " array([[ 65,  84, 121],\n",
       "        [ 55,  77,  95],\n",
       "        [ 59,  79,  80],\n",
       "        [ 63,  80,  66],\n",
       "        [ 64,  83,  50],\n",
       "        [ 69,  89,  44],\n",
       "        [ 71,  88,  37],\n",
       "        [ 68,  85,  28],\n",
       "        [ 70,  87,  30],\n",
       "        [ 74,  92,  33],\n",
       "        [ 71,  89,  30],\n",
       "        [ 71,  85,  31],\n",
       "        [ 74,  86,  34],\n",
       "        [ 75,  85,  32],\n",
       "        [ 78,  89,  33],\n",
       "        [ 78,  88,  35],\n",
       "        [ 78,  90,  32],\n",
       "        [ 78,  89,  33],\n",
       "        [ 77,  87,  34],\n",
       "        [ 79,  88,  37]], dtype=uint8),\n",
       " array([[ 65,  84, 121],\n",
       "        [ 55,  77,  95],\n",
       "        [ 59,  79,  80],\n",
       "        [ 63,  80,  66],\n",
       "        [ 64,  83,  50],\n",
       "        [ 69,  89,  44],\n",
       "        [ 71,  88,  37],\n",
       "        [ 68,  85,  28],\n",
       "        [ 70,  87,  30],\n",
       "        [ 74,  92,  33],\n",
       "        [ 71,  89,  30],\n",
       "        [ 71,  85,  31],\n",
       "        [ 74,  86,  34],\n",
       "        [ 75,  85,  32],\n",
       "        [ 78,  89,  33],\n",
       "        [ 78,  88,  35],\n",
       "        [ 78,  90,  32],\n",
       "        [ 78,  89,  33],\n",
       "        [ 77,  87,  34],\n",
       "        [ 79,  88,  37]], dtype=uint8),\n",
       " array([[ 65,  84, 121],\n",
       "        [ 55,  77,  95],\n",
       "        [ 59,  79,  80],\n",
       "        [ 63,  80,  66],\n",
       "        [ 64,  83,  50],\n",
       "        [ 69,  89,  44],\n",
       "        [ 71,  88,  37],\n",
       "        [ 68,  85,  28],\n",
       "        [ 70,  87,  30],\n",
       "        [ 74,  92,  33],\n",
       "        [ 71,  89,  30],\n",
       "        [ 71,  85,  31],\n",
       "        [ 74,  86,  34],\n",
       "        [ 75,  85,  32],\n",
       "        [ 78,  89,  33],\n",
       "        [ 78,  88,  35],\n",
       "        [ 78,  90,  32],\n",
       "        [ 78,  89,  33],\n",
       "        [ 77,  87,  34],\n",
       "        [ 79,  88,  37]], dtype=uint8),\n",
       " array([[ 65,  84, 121],\n",
       "        [ 55,  77,  95],\n",
       "        [ 59,  79,  80],\n",
       "        [ 63,  80,  66],\n",
       "        [ 64,  83,  50],\n",
       "        [ 69,  89,  44],\n",
       "        [ 71,  88,  37],\n",
       "        [ 68,  85,  28],\n",
       "        [ 70,  87,  30],\n",
       "        [ 74,  92,  33],\n",
       "        [ 71,  89,  30],\n",
       "        [ 71,  85,  31],\n",
       "        [ 74,  86,  34],\n",
       "        [ 75,  85,  32],\n",
       "        [ 78,  89,  33],\n",
       "        [ 78,  88,  35],\n",
       "        [ 78,  90,  32],\n",
       "        [ 78,  89,  33],\n",
       "        [ 77,  87,  34],\n",
       "        [ 79,  88,  37]], dtype=uint8),\n",
       " array([[ 65,  84, 121],\n",
       "        [ 55,  77,  95],\n",
       "        [ 59,  79,  80],\n",
       "        [ 63,  80,  66],\n",
       "        [ 64,  83,  50],\n",
       "        [ 69,  89,  44],\n",
       "        [ 71,  88,  37],\n",
       "        [ 68,  85,  28],\n",
       "        [ 70,  87,  30],\n",
       "        [ 74,  92,  33],\n",
       "        [ 71,  89,  30],\n",
       "        [ 71,  85,  31],\n",
       "        [ 74,  86,  34],\n",
       "        [ 75,  85,  32],\n",
       "        [ 78,  89,  33],\n",
       "        [ 78,  88,  35],\n",
       "        [ 78,  90,  32],\n",
       "        [ 78,  89,  33],\n",
       "        [ 77,  87,  34],\n",
       "        [ 79,  88,  37]], dtype=uint8),\n",
       " array([[ 65,  84, 121],\n",
       "        [ 55,  77,  95],\n",
       "        [ 59,  79,  80],\n",
       "        [ 63,  80,  66],\n",
       "        [ 64,  83,  50],\n",
       "        [ 69,  89,  44],\n",
       "        [ 71,  88,  37],\n",
       "        [ 68,  85,  28],\n",
       "        [ 70,  87,  30],\n",
       "        [ 74,  92,  33],\n",
       "        [ 71,  89,  30],\n",
       "        [ 71,  85,  31],\n",
       "        [ 74,  86,  34],\n",
       "        [ 75,  85,  32],\n",
       "        [ 78,  89,  33],\n",
       "        [ 78,  88,  35],\n",
       "        [ 78,  90,  32],\n",
       "        [ 78,  89,  33],\n",
       "        [ 77,  87,  34],\n",
       "        [ 79,  88,  37]], dtype=uint8),\n",
       " array([[ 65,  84, 121],\n",
       "        [ 55,  77,  95],\n",
       "        [ 59,  79,  80],\n",
       "        [ 63,  80,  66],\n",
       "        [ 64,  83,  50],\n",
       "        [ 69,  89,  44],\n",
       "        [ 71,  88,  37],\n",
       "        [ 68,  85,  28],\n",
       "        [ 70,  87,  30],\n",
       "        [ 74,  92,  33],\n",
       "        [ 71,  89,  30],\n",
       "        [ 71,  85,  31],\n",
       "        [ 74,  86,  34],\n",
       "        [ 75,  85,  32],\n",
       "        [ 78,  89,  33],\n",
       "        [ 78,  88,  35],\n",
       "        [ 78,  90,  32],\n",
       "        [ 78,  89,  33],\n",
       "        [ 77,  87,  34],\n",
       "        [ 79,  88,  37]], dtype=uint8),\n",
       " array([[ 65,  84, 121],\n",
       "        [ 55,  77,  95],\n",
       "        [ 59,  79,  80],\n",
       "        [ 63,  80,  66],\n",
       "        [ 64,  83,  50],\n",
       "        [ 69,  89,  44],\n",
       "        [ 71,  88,  37],\n",
       "        [ 68,  85,  28],\n",
       "        [ 70,  87,  30],\n",
       "        [ 74,  92,  33],\n",
       "        [ 71,  89,  30],\n",
       "        [ 71,  85,  31],\n",
       "        [ 74,  86,  34],\n",
       "        [ 75,  85,  32],\n",
       "        [ 78,  89,  33],\n",
       "        [ 78,  88,  35],\n",
       "        [ 78,  90,  32],\n",
       "        [ 78,  89,  33],\n",
       "        [ 77,  87,  34],\n",
       "        [ 79,  88,  37]], dtype=uint8),\n",
       " array([[ 65,  84, 121],\n",
       "        [ 55,  77,  95],\n",
       "        [ 59,  79,  80],\n",
       "        [ 63,  80,  66],\n",
       "        [ 64,  83,  50],\n",
       "        [ 69,  89,  44],\n",
       "        [ 71,  88,  37],\n",
       "        [ 68,  85,  28],\n",
       "        [ 70,  87,  30],\n",
       "        [ 74,  92,  33],\n",
       "        [ 71,  89,  30],\n",
       "        [ 71,  85,  31],\n",
       "        [ 74,  86,  34],\n",
       "        [ 75,  85,  32],\n",
       "        [ 78,  89,  33],\n",
       "        [ 78,  88,  35],\n",
       "        [ 78,  90,  32],\n",
       "        [ 78,  89,  33],\n",
       "        [ 77,  87,  34],\n",
       "        [ 79,  88,  37]], dtype=uint8),\n",
       " array([[ 65,  84, 121],\n",
       "        [ 55,  77,  95],\n",
       "        [ 59,  79,  80],\n",
       "        [ 63,  80,  66],\n",
       "        [ 64,  83,  50],\n",
       "        [ 69,  89,  44],\n",
       "        [ 71,  88,  37],\n",
       "        [ 68,  85,  28],\n",
       "        [ 70,  87,  30],\n",
       "        [ 74,  92,  33],\n",
       "        [ 71,  89,  30],\n",
       "        [ 71,  85,  31],\n",
       "        [ 74,  86,  34],\n",
       "        [ 75,  85,  32],\n",
       "        [ 78,  89,  33],\n",
       "        [ 78,  88,  35],\n",
       "        [ 78,  90,  32],\n",
       "        [ 78,  89,  33],\n",
       "        [ 77,  87,  34],\n",
       "        [ 79,  88,  37]], dtype=uint8)]"
      ]
     },
     "execution_count": 66,
     "metadata": {},
     "output_type": "execute_result"
    }
   ],
   "source": [
    "new_sample = []\n",
    "for i in sample[1]:\n",
    "    r = sample[0]\n",
    "    new_sample.append(r)\n",
    "new_sample"
   ]
  },
  {
   "cell_type": "code",
   "execution_count": 95,
   "id": "385bd616",
   "metadata": {},
   "outputs": [
    {
     "data": {
      "text/plain": [
       "array([[[ 65,  84, 121],\n",
       "        [ 55,  77,  95],\n",
       "        [ 59,  79,  80]],\n",
       "\n",
       "       [[ 65,  83, 146],\n",
       "        [ 59,  81, 123],\n",
       "        [ 60,  81, 102]]], dtype=uint8)"
      ]
     },
     "execution_count": 95,
     "metadata": {},
     "output_type": "execute_result"
    }
   ],
   "source": [
    "new_sample = sample[:2,:3].copy()\n",
    "new_sample"
   ]
  },
  {
   "cell_type": "code",
   "execution_count": 79,
   "id": "5b5db797",
   "metadata": {},
   "outputs": [
    {
     "data": {
      "text/plain": [
       "123"
      ]
     },
     "execution_count": 79,
     "metadata": {},
     "output_type": "execute_result"
    }
   ],
   "source": [
    "new_sample[0,0,0] = new_sample.item((1,1,2))\n",
    "new_sample.item((0,0,0))"
   ]
  },
  {
   "cell_type": "code",
   "execution_count": 173,
   "id": "7cac5488",
   "metadata": {},
   "outputs": [
    {
     "ename": "IndexError",
     "evalue": "index 433 is out of bounds for axis 0 with size 433",
     "output_type": "error",
     "traceback": [
      "\u001b[0;31m---------------------------------------------------------------------------\u001b[0m",
      "\u001b[0;31mIndexError\u001b[0m                                Traceback (most recent call last)",
      "\u001b[0;32m<ipython-input-173-58cf91b128c5>\u001b[0m in \u001b[0;36m<module>\u001b[0;34m\u001b[0m\n\u001b[1;32m     27\u001b[0m             \u001b[0mnew_sample\u001b[0m\u001b[0;34m.\u001b[0m\u001b[0mitemset\u001b[0m\u001b[0;34m(\u001b[0m\u001b[0;34m(\u001b[0m\u001b[0mr\u001b[0m\u001b[0;34m,\u001b[0m\u001b[0mc\u001b[0m\u001b[0;34m,\u001b[0m\u001b[0;36m2\u001b[0m\u001b[0;34m)\u001b[0m\u001b[0;34m,\u001b[0m \u001b[0;36m1\u001b[0m\u001b[0;34m)\u001b[0m\u001b[0;34m\u001b[0m\u001b[0;34m\u001b[0m\u001b[0m\n\u001b[1;32m     28\u001b[0m         \u001b[0;32melse\u001b[0m\u001b[0;34m:\u001b[0m\u001b[0;34m\u001b[0m\u001b[0;34m\u001b[0m\u001b[0m\n\u001b[0;32m---> 29\u001b[0;31m             \u001b[0mnew_sample\u001b[0m\u001b[0;34m.\u001b[0m\u001b[0mitemset\u001b[0m\u001b[0;34m(\u001b[0m\u001b[0;34m(\u001b[0m\u001b[0mr\u001b[0m\u001b[0;34m,\u001b[0m\u001b[0mc\u001b[0m\u001b[0;34m,\u001b[0m\u001b[0;36m0\u001b[0m\u001b[0;34m)\u001b[0m\u001b[0;34m,\u001b[0m \u001b[0mto_process\u001b[0m\u001b[0;34m.\u001b[0m\u001b[0mitem\u001b[0m\u001b[0;34m(\u001b[0m\u001b[0;34m(\u001b[0m\u001b[0mc1\u001b[0m\u001b[0;34m,\u001b[0m\u001b[0mr1\u001b[0m\u001b[0;34m,\u001b[0m\u001b[0;36m0\u001b[0m\u001b[0;34m)\u001b[0m\u001b[0;34m)\u001b[0m\u001b[0;34m)\u001b[0m\u001b[0;34m\u001b[0m\u001b[0;34m\u001b[0m\u001b[0m\n\u001b[0m\u001b[1;32m     30\u001b[0m             \u001b[0mnew_sample\u001b[0m\u001b[0;34m.\u001b[0m\u001b[0mitemset\u001b[0m\u001b[0;34m(\u001b[0m\u001b[0;34m(\u001b[0m\u001b[0mr\u001b[0m\u001b[0;34m,\u001b[0m\u001b[0mc\u001b[0m\u001b[0;34m,\u001b[0m\u001b[0;36m1\u001b[0m\u001b[0;34m)\u001b[0m\u001b[0;34m,\u001b[0m \u001b[0mto_process\u001b[0m\u001b[0;34m.\u001b[0m\u001b[0mitem\u001b[0m\u001b[0;34m(\u001b[0m\u001b[0;34m(\u001b[0m\u001b[0mr1\u001b[0m\u001b[0;34m,\u001b[0m\u001b[0mc1\u001b[0m\u001b[0;34m,\u001b[0m\u001b[0;36m1\u001b[0m\u001b[0;34m)\u001b[0m\u001b[0;34m)\u001b[0m\u001b[0;34m)\u001b[0m\u001b[0;34m\u001b[0m\u001b[0;34m\u001b[0m\u001b[0m\n\u001b[1;32m     31\u001b[0m             \u001b[0mnew_sample\u001b[0m\u001b[0;34m.\u001b[0m\u001b[0mitemset\u001b[0m\u001b[0;34m(\u001b[0m\u001b[0;34m(\u001b[0m\u001b[0mr\u001b[0m\u001b[0;34m,\u001b[0m\u001b[0mc\u001b[0m\u001b[0;34m,\u001b[0m\u001b[0;36m2\u001b[0m\u001b[0;34m)\u001b[0m\u001b[0;34m,\u001b[0m \u001b[0mto_process\u001b[0m\u001b[0;34m.\u001b[0m\u001b[0mitem\u001b[0m\u001b[0;34m(\u001b[0m\u001b[0;34m(\u001b[0m\u001b[0mc1\u001b[0m\u001b[0;34m,\u001b[0m\u001b[0mr1\u001b[0m\u001b[0;34m,\u001b[0m\u001b[0;36m2\u001b[0m\u001b[0;34m)\u001b[0m\u001b[0;34m)\u001b[0m\u001b[0;34m)\u001b[0m\u001b[0;34m\u001b[0m\u001b[0;34m\u001b[0m\u001b[0m\n",
      "\u001b[0;31mIndexError\u001b[0m: index 433 is out of bounds for axis 0 with size 433"
     ]
    }
   ],
   "source": [
    "to_process = clear_image.copy()\n",
    "new_sample = new_sample.copy()\n",
    "\n",
    "def is_outside(r, c, shape):\n",
    "    if(c < 0 or c > shape[1]):\n",
    "        return True\n",
    "    if(r < 0 or r > shape[1]):\n",
    "        return True\n",
    "    else:\n",
    "        return False\n",
    "    \n",
    "for r in range(new_sample.shape[0]):\n",
    "    for c in range(new_sample.shape[1]):\n",
    "        \n",
    "        if r == 400:\n",
    "            r1 = r + 1\n",
    "        else:\n",
    "            r1 = r - 2\n",
    "        if c == 400:\n",
    "            c1 = c + 1\n",
    "        else:\n",
    "            c1 = c - 2\n",
    "        \n",
    "        if(is_outside(r1, c1, to_process.shape)):\n",
    "            new_sample.itemset((r,c,0), 1)\n",
    "            new_sample.itemset((r,c,1), 1)\n",
    "            new_sample.itemset((r,c,2), 1)\n",
    "        else:\n",
    "            new_sample.itemset((r,c,0), to_process.item((c1,r1,0)))\n",
    "            new_sample.itemset((r,c,1), to_process.item((r1,c1,1)))\n",
    "            new_sample.itemset((r,c,2), to_process.item((c1,r1,2)))\n",
    "\n",
    "cv2.imshow(\"sample\",new_sample)\n",
    "show()"
   ]
  },
  {
   "cell_type": "markdown",
   "id": "3404d57d",
   "metadata": {},
   "source": [
    "### This is working for square images. But not for rectangular images. Why?"
   ]
  },
  {
   "cell_type": "code",
   "execution_count": 180,
   "id": "9e523b89",
   "metadata": {},
   "outputs": [],
   "source": [
    "clear_image = cv2.imread(path+\"flys.jpg\", cv2.IMREAD_UNCHANGED)\n",
    "\n",
    "if clear_image.shape[1] > 5800:\n",
    "    scale_factor = 50\n",
    "    height = int(clear_image.shape[0] * scale_factor/100)\n",
    "    width = int(clear_image.shape[1] * scale_factor/100)\n",
    "    dimensions = (width,height)\n",
    "\n",
    "    clear_image = cv2.resize(clear_image, dimensions)\n",
    "\n",
    "to_process = clear_image\n",
    "new_sample = to_process.copy()\n",
    "\n",
    "rows = new_sample.shape[0]\n",
    "columns = new_sample.shape[1]\n",
    "\n",
    "for r in range(rows):\n",
    "    for c in range(columns):\n",
    "        \n",
    "        if r == rows:\n",
    "            r1 = r + 1\n",
    "        else:\n",
    "            r1 = r - 1\n",
    "        if c == columns:\n",
    "            c1 = c + 1\n",
    "        else:\n",
    "            c1 = c - 1\n",
    "        \n",
    "        new_sample.itemset((r,c,0), to_process.item((c1,r1,0)))\n",
    "        new_sample.itemset((r,c,1), to_process.item((r1,c1,1)))\n",
    "        new_sample.itemset((r,c,2), to_process.item((c1,r1,2)))\n",
    "\n",
    "cv2.imshow(\"sample\",new_sample)\n",
    "show()"
   ]
  },
  {
   "cell_type": "code",
   "execution_count": 181,
   "id": "37d7ea30",
   "metadata": {},
   "outputs": [
    {
     "data": {
      "text/plain": [
       "(866, 866, 3)"
      ]
     },
     "execution_count": 181,
     "metadata": {},
     "output_type": "execute_result"
    }
   ],
   "source": [
    "clear_image.shape"
   ]
  },
  {
   "cell_type": "code",
   "execution_count": 182,
   "id": "f2554b20",
   "metadata": {},
   "outputs": [
    {
     "data": {
      "text/plain": [
       "(866, 866, 3)"
      ]
     },
     "execution_count": 182,
     "metadata": {},
     "output_type": "execute_result"
    }
   ],
   "source": [
    "new_sample.shape"
   ]
  },
  {
   "cell_type": "code",
   "execution_count": 127,
   "id": "13f636fa",
   "metadata": {},
   "outputs": [
    {
     "data": {
      "text/plain": [
       "array([[[42, 37, 43],\n",
       "        [38, 34, 39],\n",
       "        [48, 45, 50],\n",
       "        ...,\n",
       "        [90, 30, 47],\n",
       "        [88, 37, 50],\n",
       "        [85, 41, 51]],\n",
       "\n",
       "       [[45, 40, 46],\n",
       "        [41, 38, 43],\n",
       "        [41, 40, 46],\n",
       "        ...,\n",
       "        [97, 38, 54],\n",
       "        [95, 41, 56],\n",
       "        [93, 42, 55]],\n",
       "\n",
       "       [[50, 47, 52],\n",
       "        [50, 49, 55],\n",
       "        [43, 42, 48],\n",
       "        ...,\n",
       "        [96, 37, 53],\n",
       "        [96, 37, 53],\n",
       "        [93, 33, 50]],\n",
       "\n",
       "       ...,\n",
       "\n",
       "       [[ 1,  4,  5],\n",
       "        [10, 13, 14],\n",
       "        [16, 19, 20],\n",
       "        ...,\n",
       "        [15,  9, 14],\n",
       "        [14,  9, 15],\n",
       "        [14,  9, 15]],\n",
       "\n",
       "       [[ 7, 10, 11],\n",
       "        [14, 17, 18],\n",
       "        [20, 23, 24],\n",
       "        ...,\n",
       "        [15,  9, 14],\n",
       "        [14,  8, 13],\n",
       "        [13,  7, 12]],\n",
       "\n",
       "       [[10, 13, 14],\n",
       "        [16, 19, 20],\n",
       "        [18, 21, 22],\n",
       "        ...,\n",
       "        [15,  9, 14],\n",
       "        [13,  5, 13],\n",
       "        [12,  2,  9]]], dtype=uint8)"
      ]
     },
     "execution_count": 127,
     "metadata": {},
     "output_type": "execute_result"
    }
   ],
   "source": [
    "to_process = clear_image.copy()\n",
    "new_sample = new_sample.copy()\n",
    "    \n",
    "for r in range(new_sample.shape[0]):\n",
    "    for c in range(new_sample.shape[1]):\n",
    "        new_sample.itemset((r,c,0), to_process.item((r,c,2)))\n",
    "        new_sample.itemset((r,c,1), to_process.item((r,c,0)))\n",
    "        new_sample.itemset((r,c,2), to_process.item((r,c,1)))\n",
    "new_sample"
   ]
  },
  {
   "cell_type": "code",
   "execution_count": 104,
   "id": "adb2c4ac",
   "metadata": {},
   "outputs": [
    {
     "data": {
      "text/plain": [
       "(400, 400, 3)"
      ]
     },
     "execution_count": 104,
     "metadata": {},
     "output_type": "execute_result"
    }
   ],
   "source": [
    "new_sample.shape"
   ]
  },
  {
   "cell_type": "code",
   "execution_count": 137,
   "id": "b5f4b9db",
   "metadata": {},
   "outputs": [],
   "source": [
    "cv2.imshow(\"sample\",new_sample)\n",
    "show()"
   ]
  },
  {
   "cell_type": "code",
   "execution_count": 83,
   "id": "bd2e2f04",
   "metadata": {},
   "outputs": [
    {
     "data": {
      "text/plain": [
       "123"
      ]
     },
     "execution_count": 83,
     "metadata": {},
     "output_type": "execute_result"
    }
   ],
   "source": [
    "new_sample.itemset((0,0,1), sample.item((1,1,2)))\n",
    "new_sample.item((0,0,1))"
   ]
  }
 ],
 "metadata": {
  "kernelspec": {
   "display_name": "Python 3",
   "language": "python",
   "name": "python3"
  },
  "language_info": {
   "codemirror_mode": {
    "name": "ipython",
    "version": 3
   },
   "file_extension": ".py",
   "mimetype": "text/x-python",
   "name": "python",
   "nbconvert_exporter": "python",
   "pygments_lexer": "ipython3",
   "version": "3.8.8"
  }
 },
 "nbformat": 4,
 "nbformat_minor": 5
}
