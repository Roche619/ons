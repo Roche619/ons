{
 "cells": [
  {
   "cell_type": "markdown",
   "id": "6c88c6a8",
   "metadata": {},
   "source": [
    "### Import Libraries"
   ]
  },
  {
   "cell_type": "code",
   "execution_count": 1,
   "id": "f3bb2492",
   "metadata": {},
   "outputs": [],
   "source": [
    "import cv2\n",
    "import numpy as np\n",
    "import random\n",
    "import math"
   ]
  },
  {
   "cell_type": "markdown",
   "id": "36203714",
   "metadata": {},
   "source": [
    "### Read in the image"
   ]
  },
  {
   "cell_type": "code",
   "execution_count": 23,
   "id": "fbcfb485",
   "metadata": {},
   "outputs": [],
   "source": [
    "clear_image = cv2.imread(\"../media/images/flyeye.jpg\", cv2.IMREAD_COLOR)\n",
    "\n",
    "if clear_image.shape[1] > 800:\n",
    "    scale_factor = 50\n",
    "    height = int(clear_image.shape[0] * scale_factor/100)\n",
    "    width = int(clear_image.shape[1] * scale_factor/100)\n",
    "    dimensions = (width,height)\n",
    "\n",
    "    clear_image = cv2.resize(clear_image, dimensions)"
   ]
  },
  {
   "cell_type": "code",
   "execution_count": 25,
   "id": "a39d7baf",
   "metadata": {},
   "outputs": [],
   "source": [
    "cv2.imshow(\"Resized Image\",clear_image)\n",
    "\n",
    "while True:\n",
    "    if(cv2.waitKey(1) & 0xFF == ord(\"q\")):\n",
    "        break\n",
    "cv2.destroyAllWindows()"
   ]
  }
 ],
 "metadata": {
  "kernelspec": {
   "display_name": "Python 3",
   "language": "python",
   "name": "python3"
  },
  "language_info": {
   "codemirror_mode": {
    "name": "ipython",
    "version": 3
   },
   "file_extension": ".py",
   "mimetype": "text/x-python",
   "name": "python",
   "nbconvert_exporter": "python",
   "pygments_lexer": "ipython3",
   "version": "3.8.8"
  }
 },
 "nbformat": 4,
 "nbformat_minor": 5
}
