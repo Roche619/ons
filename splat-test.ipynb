{
 "cells": [
  {
   "cell_type": "markdown",
   "id": "6c88c6a8",
   "metadata": {},
   "source": [
    "### Import Libraries"
   ]
  },
  {
   "cell_type": "code",
   "execution_count": 42,
   "id": "f3bb2492",
   "metadata": {},
   "outputs": [],
   "source": [
    "import cv2\n",
    "import numpy as np\n",
    "import random\n",
    "import math"
   ]
  },
  {
   "cell_type": "markdown",
   "id": "3337eeb1",
   "metadata": {},
   "source": [
    "### Define `show()` to control termination of image window"
   ]
  },
  {
   "cell_type": "code",
   "execution_count": 43,
   "id": "3b82faac",
   "metadata": {},
   "outputs": [],
   "source": [
    "def show():\n",
    "    while True:\n",
    "        if(cv2.waitKey(1) & 0xFF == ord(\"q\")):\n",
    "            break\n",
    "    cv2.destroyAllWindows()"
   ]
  },
  {
   "cell_type": "markdown",
   "id": "36203714",
   "metadata": {},
   "source": [
    "### Read in the image. If width is greater than 800 pixels, reduce size."
   ]
  },
  {
   "cell_type": "code",
   "execution_count": 111,
   "id": "fbcfb485",
   "metadata": {},
   "outputs": [],
   "source": [
    "path = \"../../media/images/\"\n",
    "clear_image = cv2.imread(path+\"flyeye.jpg\", cv2.IMREAD_UNCHANGED)\n",
    "\n",
    "if clear_image.shape[1] > 800:\n",
    "    scale_factor = 50\n",
    "    height = int(clear_image.shape[0] * scale_factor/100)\n",
    "    width = int(clear_image.shape[1] * scale_factor/100)\n",
    "    dimensions = (width,height)\n",
    "\n",
    "    clear_image = cv2.resize(clear_image, dimensions)"
   ]
  },
  {
   "cell_type": "markdown",
   "id": "8cce5f90",
   "metadata": {},
   "source": [
    "### Display image"
   ]
  },
  {
   "cell_type": "code",
   "execution_count": null,
   "id": "a39d7baf",
   "metadata": {},
   "outputs": [],
   "source": [
    "cv2.imshow(\"Resized Image\",clear_image)\n",
    "\n",
    "show()"
   ]
  },
  {
   "cell_type": "markdown",
   "id": "295202f1",
   "metadata": {},
   "source": [
    "### Display shape information of image (number of rows, number of columns and number of channels)"
   ]
  },
  {
   "cell_type": "code",
   "execution_count": null,
   "id": "39a56481",
   "metadata": {},
   "outputs": [],
   "source": [
    "clear_image.shape"
   ]
  },
  {
   "cell_type": "markdown",
   "id": "9ef8ef07",
   "metadata": {},
   "source": [
    "### Two ways of displaying value of a pixel of particular channel"
   ]
  },
  {
   "cell_type": "code",
   "execution_count": null,
   "id": "e902d6f4",
   "metadata": {},
   "outputs": [],
   "source": [
    "clear_image[200,200,2], clear_image.item((200,200,2))"
   ]
  },
  {
   "cell_type": "markdown",
   "id": "f39daca9",
   "metadata": {},
   "source": [
    "### Make copy of image to play around with."
   ]
  },
  {
   "cell_type": "code",
   "execution_count": null,
   "id": "c7075143",
   "metadata": {},
   "outputs": [],
   "source": [
    "ci = clear_image.copy()\n",
    "cv2.imshow(\"ci\", ci)\n",
    "show()"
   ]
  },
  {
   "cell_type": "markdown",
   "id": "8ddb2afe",
   "metadata": {},
   "source": [
    "### Two ways of setting the value of a pixel of a particular channel"
   ]
  },
  {
   "cell_type": "code",
   "execution_count": null,
   "id": "6eefb01b",
   "metadata": {},
   "outputs": [],
   "source": [
    "ci = clear_image.copy()\n",
    "ci[0,0] = (0,0,4)\n",
    "ci[0,0,2], clear_image[0,0,2]"
   ]
  },
  {
   "cell_type": "code",
   "execution_count": null,
   "id": "d2752141",
   "metadata": {},
   "outputs": [],
   "source": [
    "ci.itemset((0,0,2), 42)\n",
    "ci[0,0,2], clear_image[0,0,2]"
   ]
  },
  {
   "cell_type": "markdown",
   "id": "bbb0d486",
   "metadata": {},
   "source": [
    "### Display a slice of the image"
   ]
  },
  {
   "cell_type": "code",
   "execution_count": null,
   "id": "019f0c30",
   "metadata": {},
   "outputs": [],
   "source": [
    "ci = clear_image.copy()\n",
    "cv2.imshow(\"ci\",ci[100:,100:,0])\n",
    "show()"
   ]
  },
  {
   "cell_type": "markdown",
   "id": "8f5fe223",
   "metadata": {},
   "source": [
    "### Create data with NumPy and display"
   ]
  },
  {
   "cell_type": "code",
   "execution_count": 6,
   "id": "6f83ac9a",
   "metadata": {},
   "outputs": [],
   "source": [
    "import cv2\n",
    "import numpy as np\n",
    "\n",
    "def show():\n",
    "    while True:\n",
    "        if(cv2.waitKey(1) & 0xFF == ord(\"q\")):\n",
    "            break\n",
    "    cv2.destroyAllWindows()\n",
    "\n",
    "height = 200\n",
    "width = 200\n",
    "channels = 3\n",
    "\n",
    "try:\n",
    "    contrived_image = np.random.rand(height,width,channels)\n",
    "    cv2.imshow(\"ci\",contrived_image)\n",
    "except:\n",
    "    print(\"Entered faulty number of channels\")\n",
    "show()"
   ]
  },
  {
   "cell_type": "code",
   "execution_count": 31,
   "id": "c331a5b1",
   "metadata": {},
   "outputs": [],
   "source": [
    "import cv2\n",
    "import numpy as np\n",
    "\n",
    "def show():\n",
    "    while True:\n",
    "        if(cv2.waitKey(1) & 0xFF == ord(\"q\")):\n",
    "            break\n",
    "    cv2.destroyAllWindows()\n",
    "\n",
    "height = 200\n",
    "width = 200\n",
    "channels = 3\n",
    "\n",
    "try:\n",
    "    contrived_image = np.random.randn(height,width,channels)\n",
    "    cv2.imshow(\"ci\",contrived_image)\n",
    "except:\n",
    "    print(\"Entered faulty number of channels\")\n",
    "show()"
   ]
  },
  {
   "cell_type": "markdown",
   "id": "6d0819b9",
   "metadata": {},
   "source": [
    "### Not quite getting it with randints"
   ]
  },
  {
   "cell_type": "code",
   "execution_count": 40,
   "id": "d914d88c",
   "metadata": {},
   "outputs": [
    {
     "name": "stdout",
     "output_type": "stream",
     "text": [
      "Entered faulty number of channels\n"
     ]
    }
   ],
   "source": [
    "import cv2\n",
    "import numpy as np\n",
    "\n",
    "def show():\n",
    "    while True:\n",
    "        if(cv2.waitKey(1) & 0xFF == ord(\"q\")):\n",
    "            break\n",
    "    cv2.destroyAllWindows()\n",
    "\n",
    "start = 1\n",
    "stop = 201\n",
    "number = 200\n",
    "channels = 3\n",
    "\n",
    "try:\n",
    "    contrived_image = np.random.randint(start,stop,(number,number))\n",
    "    cv2.imshow(\"ci\",contrived_image)\n",
    "except:\n",
    "    print(\"Entered faulty number of channels\")\n",
    "show()"
   ]
  },
  {
   "cell_type": "code",
   "execution_count": 36,
   "id": "e9858485",
   "metadata": {},
   "outputs": [
    {
     "data": {
      "text/plain": [
       "(200, 200, 3)"
      ]
     },
     "execution_count": 36,
     "metadata": {},
     "output_type": "execute_result"
    }
   ],
   "source": [
    "contrived_image.shape"
   ]
  },
  {
   "cell_type": "code",
   "execution_count": 46,
   "id": "ba552980",
   "metadata": {},
   "outputs": [
    {
     "data": {
      "text/plain": [
       "array([37, 43, 42], dtype=uint8)"
      ]
     },
     "execution_count": 46,
     "metadata": {},
     "output_type": "execute_result"
    }
   ],
   "source": [
    "clear_image[0,0]"
   ]
  },
  {
   "cell_type": "code",
   "execution_count": null,
   "id": "4b7f9aef",
   "metadata": {},
   "outputs": [],
   "source": []
  },
  {
   "cell_type": "markdown",
   "id": "f57035c6",
   "metadata": {},
   "source": [
    "## Modifying Images\n",
    "### First, change value of colours deterministically"
   ]
  },
  {
   "cell_type": "code",
   "execution_count": 47,
   "id": "f5974a91",
   "metadata": {},
   "outputs": [],
   "source": [
    "ci = clear_image.copy()\n",
    "for r in range(ci.shape[0]):\n",
    "    for c in range(ci.shape[1]):\n",
    "#         if r > 128:\n",
    "#             val = ci[r,c,0]\n",
    "#         else:\n",
    "        val1 = ci[c,r,0]\n",
    "        val2 = ci[c,r,1]\n",
    "        val3 = ci[c,r,2]\n",
    "        ci[r,c] = (val3,val3,val3)\n",
    "cv2.imshow(\"ci\",ci)\n",
    "show()\n",
    "# ci[0,0]"
   ]
  },
  {
   "cell_type": "markdown",
   "id": "6827d7e6",
   "metadata": {},
   "source": [
    "### Script from George Lecakes"
   ]
  },
  {
   "cell_type": "code",
   "execution_count": 173,
   "id": "19f6ae37",
   "metadata": {},
   "outputs": [
    {
     "ename": "IndexError",
     "evalue": "index 433 is out of bounds for axis 0 with size 433",
     "output_type": "error",
     "traceback": [
      "\u001b[0;31m---------------------------------------------------------------------------\u001b[0m",
      "\u001b[0;31mIndexError\u001b[0m                                Traceback (most recent call last)",
      "\u001b[0;32m<ipython-input-173-58cf91b128c5>\u001b[0m in \u001b[0;36m<module>\u001b[0;34m\u001b[0m\n\u001b[1;32m     27\u001b[0m             \u001b[0mnew_sample\u001b[0m\u001b[0;34m.\u001b[0m\u001b[0mitemset\u001b[0m\u001b[0;34m(\u001b[0m\u001b[0;34m(\u001b[0m\u001b[0mr\u001b[0m\u001b[0;34m,\u001b[0m\u001b[0mc\u001b[0m\u001b[0;34m,\u001b[0m\u001b[0;36m2\u001b[0m\u001b[0;34m)\u001b[0m\u001b[0;34m,\u001b[0m \u001b[0;36m1\u001b[0m\u001b[0;34m)\u001b[0m\u001b[0;34m\u001b[0m\u001b[0;34m\u001b[0m\u001b[0m\n\u001b[1;32m     28\u001b[0m         \u001b[0;32melse\u001b[0m\u001b[0;34m:\u001b[0m\u001b[0;34m\u001b[0m\u001b[0;34m\u001b[0m\u001b[0m\n\u001b[0;32m---> 29\u001b[0;31m             \u001b[0mnew_sample\u001b[0m\u001b[0;34m.\u001b[0m\u001b[0mitemset\u001b[0m\u001b[0;34m(\u001b[0m\u001b[0;34m(\u001b[0m\u001b[0mr\u001b[0m\u001b[0;34m,\u001b[0m\u001b[0mc\u001b[0m\u001b[0;34m,\u001b[0m\u001b[0;36m0\u001b[0m\u001b[0;34m)\u001b[0m\u001b[0;34m,\u001b[0m \u001b[0mto_process\u001b[0m\u001b[0;34m.\u001b[0m\u001b[0mitem\u001b[0m\u001b[0;34m(\u001b[0m\u001b[0;34m(\u001b[0m\u001b[0mc1\u001b[0m\u001b[0;34m,\u001b[0m\u001b[0mr1\u001b[0m\u001b[0;34m,\u001b[0m\u001b[0;36m0\u001b[0m\u001b[0;34m)\u001b[0m\u001b[0;34m)\u001b[0m\u001b[0;34m)\u001b[0m\u001b[0;34m\u001b[0m\u001b[0;34m\u001b[0m\u001b[0m\n\u001b[0m\u001b[1;32m     30\u001b[0m             \u001b[0mnew_sample\u001b[0m\u001b[0;34m.\u001b[0m\u001b[0mitemset\u001b[0m\u001b[0;34m(\u001b[0m\u001b[0;34m(\u001b[0m\u001b[0mr\u001b[0m\u001b[0;34m,\u001b[0m\u001b[0mc\u001b[0m\u001b[0;34m,\u001b[0m\u001b[0;36m1\u001b[0m\u001b[0;34m)\u001b[0m\u001b[0;34m,\u001b[0m \u001b[0mto_process\u001b[0m\u001b[0;34m.\u001b[0m\u001b[0mitem\u001b[0m\u001b[0;34m(\u001b[0m\u001b[0;34m(\u001b[0m\u001b[0mr1\u001b[0m\u001b[0;34m,\u001b[0m\u001b[0mc1\u001b[0m\u001b[0;34m,\u001b[0m\u001b[0;36m1\u001b[0m\u001b[0;34m)\u001b[0m\u001b[0;34m)\u001b[0m\u001b[0;34m)\u001b[0m\u001b[0;34m\u001b[0m\u001b[0;34m\u001b[0m\u001b[0m\n\u001b[1;32m     31\u001b[0m             \u001b[0mnew_sample\u001b[0m\u001b[0;34m.\u001b[0m\u001b[0mitemset\u001b[0m\u001b[0;34m(\u001b[0m\u001b[0;34m(\u001b[0m\u001b[0mr\u001b[0m\u001b[0;34m,\u001b[0m\u001b[0mc\u001b[0m\u001b[0;34m,\u001b[0m\u001b[0;36m2\u001b[0m\u001b[0;34m)\u001b[0m\u001b[0;34m,\u001b[0m \u001b[0mto_process\u001b[0m\u001b[0;34m.\u001b[0m\u001b[0mitem\u001b[0m\u001b[0;34m(\u001b[0m\u001b[0;34m(\u001b[0m\u001b[0mc1\u001b[0m\u001b[0;34m,\u001b[0m\u001b[0mr1\u001b[0m\u001b[0;34m,\u001b[0m\u001b[0;36m2\u001b[0m\u001b[0;34m)\u001b[0m\u001b[0;34m)\u001b[0m\u001b[0;34m)\u001b[0m\u001b[0;34m\u001b[0m\u001b[0;34m\u001b[0m\u001b[0m\n",
      "\u001b[0;31mIndexError\u001b[0m: index 433 is out of bounds for axis 0 with size 433"
     ]
    }
   ],
   "source": [
    "to_process = clear_image.copy()\n",
    "new_sample = new_sample.copy()\n",
    "\n",
    "def is_outside(r, c, shape):\n",
    "    if(c < 0 or c > shape[1]):\n",
    "        return True\n",
    "    if(r < 0 or r > shape[1]):\n",
    "        return True\n",
    "    else:\n",
    "        return False\n",
    "    \n",
    "for r in range(new_sample.shape[0]):\n",
    "    for c in range(new_sample.shape[1]):\n",
    "        \n",
    "        if r == 400:\n",
    "            r1 = r + 1\n",
    "        else:\n",
    "            r1 = r - 2\n",
    "        if c == 400:\n",
    "            c1 = c + 1\n",
    "        else:\n",
    "            c1 = c - 2\n",
    "        \n",
    "        if(is_outside(r1, c1, to_process.shape)):\n",
    "            new_sample.itemset((r,c,0), 1)\n",
    "            new_sample.itemset((r,c,1), 1)\n",
    "            new_sample.itemset((r,c,2), 1)\n",
    "        else:\n",
    "            new_sample.itemset((r,c,0), to_process.item((c1,r1,0)))\n",
    "            new_sample.itemset((r,c,1), to_process.item((r1,c1,1)))\n",
    "            new_sample.itemset((r,c,2), to_process.item((c1,r1,2)))\n",
    "\n",
    "cv2.imshow(\"sample\",new_sample)\n",
    "show()"
   ]
  },
  {
   "cell_type": "markdown",
   "id": "33d68943",
   "metadata": {},
   "source": [
    "### This is working for square images. But not for rectangular images. Why?"
   ]
  },
  {
   "cell_type": "code",
   "execution_count": 83,
   "id": "cd798e1a",
   "metadata": {},
   "outputs": [
    {
     "data": {
      "text/plain": [
       "123"
      ]
     },
     "execution_count": 83,
     "metadata": {},
     "output_type": "execute_result"
    }
   ],
   "source": [
    "new_sample.itemset((0,0,1), sample.item((1,1,2)))\n",
    "new_sample.item((0,0,1))"
   ]
  },
  {
   "cell_type": "code",
   "execution_count": 180,
   "id": "ae1db794",
   "metadata": {},
   "outputs": [],
   "source": [
    "clear_image = cv2.imread(path+\"flys.jpg\", cv2.IMREAD_UNCHANGED)\n",
    "\n",
    "if clear_image.shape[1] > 5800:\n",
    "    scale_factor = 50\n",
    "    height = int(clear_image.shape[0] * scale_factor/100)\n",
    "    width = int(clear_image.shape[1] * scale_factor/100)\n",
    "    dimensions = (width,height)\n",
    "\n",
    "    clear_image = cv2.resize(clear_image, dimensions)\n",
    "\n",
    "to_process = clear_image\n",
    "new_sample = to_process.copy()\n",
    "\n",
    "rows = new_sample.shape[0]\n",
    "columns = new_sample.shape[1]\n",
    "\n",
    "for r in range(rows):\n",
    "    for c in range(columns):\n",
    "        \n",
    "        if r == rows:\n",
    "            r1 = r + 1\n",
    "        else:\n",
    "            r1 = r - 1\n",
    "        if c == columns:\n",
    "            c1 = c + 1\n",
    "        else:\n",
    "            c1 = c - 1\n",
    "        \n",
    "        new_sample.itemset((r,c,0), to_process.item((c1,r1,0)))\n",
    "        new_sample.itemset((r,c,1), to_process.item((r1,c1,1)))\n",
    "        new_sample.itemset((r,c,2), to_process.item((c1,r1,2)))\n",
    "\n",
    "cv2.imshow(\"sample\",new_sample)\n",
    "show()"
   ]
  },
  {
   "cell_type": "markdown",
   "id": "2b96157c",
   "metadata": {},
   "source": [
    "### Troubleshooting for rectangular images"
   ]
  },
  {
   "cell_type": "code",
   "execution_count": 279,
   "id": "9b275d44",
   "metadata": {},
   "outputs": [
    {
     "name": "stdout",
     "output_type": "stream",
     "text": [
      "1\n",
      "2\n",
      "3\n",
      "1\n",
      "2\n",
      "3\n"
     ]
    }
   ],
   "source": [
    "clear_image = cv2.imread(path+\"flyeye.jpg\", cv2.IMREAD_UNCHANGED)\n",
    "\n",
    "if clear_image.shape[1] > 400:\n",
    "    scale_factor = 5\n",
    "    height = int(clear_image.shape[0] * scale_factor/100)\n",
    "    width = int(clear_image.shape[1] * scale_factor/100)\n",
    "    dimensions = (width,height)\n",
    "\n",
    "    clear_image = cv2.resize(clear_image, dimensions)\n",
    "\n",
    "to_process = clear_image\n",
    "new_sample = to_process.copy()\n",
    "\n",
    "rows = new_sample.shape[0]\n",
    "columns = new_sample.shape[1]\n",
    "\n",
    "for r in range(2):\n",
    "    for c in range(3):\n",
    "        \n",
    "        if r != rows:\n",
    "            r1 = r + 1\n",
    "        else:\n",
    "            r1 = r - 1\n",
    "        if c != columns:\n",
    "            c1 = c + 1\n",
    "        else:\n",
    "            c1 = c - 1\n",
    "\n",
    "        print(c1)\n",
    "#         new_sample.itemset((r,c,0), to_process.item((c1,r1,0)))\n",
    "#         new_sample.itemset((r,c,1), to_process.item((r1,c1,1)))\n",
    "#         new_sample.itemset((r,c,2), to_process.item((c1,r1,2)))\n",
    "\n",
    "# cv2.imshow(\"sample\",new_sample)\n",
    "# show()"
   ]
  },
  {
   "cell_type": "code",
   "execution_count": 266,
   "id": "fe8d4be2",
   "metadata": {},
   "outputs": [
    {
     "data": {
      "text/plain": [
       "array([[[109, 122, 136],\n",
       "        [107, 123, 136],\n",
       "        [104, 118, 136],\n",
       "        ...,\n",
       "        [ 59,  54,  55],\n",
       "        [ 53,  55,  55],\n",
       "        [ 55,  55,  55]],\n",
       "\n",
       "       [[110, 123, 137],\n",
       "        [107, 120, 134],\n",
       "        [105, 121, 134],\n",
       "        ...,\n",
       "        [ 60,  59,  61],\n",
       "        [ 53,  55,  55],\n",
       "        [ 57,  57,  57]],\n",
       "\n",
       "       [[105, 118, 132],\n",
       "        [106, 119, 133],\n",
       "        [103, 116, 130],\n",
       "        ...,\n",
       "        [ 61,  60,  62],\n",
       "        [ 52,  57,  56],\n",
       "        [ 59,  59,  59]],\n",
       "\n",
       "       ...,\n",
       "\n",
       "       [[ 89,  89, 101],\n",
       "        [ 82,  84,  95],\n",
       "        [ 89,  91, 102],\n",
       "        ...,\n",
       "        [106, 113, 138],\n",
       "        [101, 108, 133],\n",
       "        [108, 113, 138]],\n",
       "\n",
       "       [[ 81,  83,  94],\n",
       "        [ 84,  82, 101],\n",
       "        [ 88,  85, 101],\n",
       "        ...,\n",
       "        [112, 119, 144],\n",
       "        [111, 119, 142],\n",
       "        [106, 115, 135]],\n",
       "\n",
       "       [[ 82,  82,  98],\n",
       "        [ 88,  88, 104],\n",
       "        [ 93,  94, 108],\n",
       "        ...,\n",
       "        [124, 131, 156],\n",
       "        [115, 123, 146],\n",
       "        [103, 112, 132]]], dtype=uint8)"
      ]
     },
     "execution_count": 266,
     "metadata": {},
     "output_type": "execute_result"
    }
   ],
   "source": []
  },
  {
   "cell_type": "code",
   "execution_count": 232,
   "id": "08b2cb6f",
   "metadata": {},
   "outputs": [
    {
     "data": {
      "text/plain": [
       "['T',\n",
       " '__abs__',\n",
       " '__add__',\n",
       " '__and__',\n",
       " '__array__',\n",
       " '__array_finalize__',\n",
       " '__array_function__',\n",
       " '__array_interface__',\n",
       " '__array_prepare__',\n",
       " '__array_priority__',\n",
       " '__array_struct__',\n",
       " '__array_ufunc__',\n",
       " '__array_wrap__',\n",
       " '__bool__',\n",
       " '__class__',\n",
       " '__complex__',\n",
       " '__contains__',\n",
       " '__copy__',\n",
       " '__deepcopy__',\n",
       " '__delattr__',\n",
       " '__delitem__',\n",
       " '__dir__',\n",
       " '__divmod__',\n",
       " '__doc__',\n",
       " '__eq__',\n",
       " '__float__',\n",
       " '__floordiv__',\n",
       " '__format__',\n",
       " '__ge__',\n",
       " '__getattribute__',\n",
       " '__getitem__',\n",
       " '__gt__',\n",
       " '__hash__',\n",
       " '__iadd__',\n",
       " '__iand__',\n",
       " '__ifloordiv__',\n",
       " '__ilshift__',\n",
       " '__imatmul__',\n",
       " '__imod__',\n",
       " '__imul__',\n",
       " '__index__',\n",
       " '__init__',\n",
       " '__init_subclass__',\n",
       " '__int__',\n",
       " '__invert__',\n",
       " '__ior__',\n",
       " '__ipow__',\n",
       " '__irshift__',\n",
       " '__isub__',\n",
       " '__iter__',\n",
       " '__itruediv__',\n",
       " '__ixor__',\n",
       " '__le__',\n",
       " '__len__',\n",
       " '__lshift__',\n",
       " '__lt__',\n",
       " '__matmul__',\n",
       " '__mod__',\n",
       " '__mul__',\n",
       " '__ne__',\n",
       " '__neg__',\n",
       " '__new__',\n",
       " '__or__',\n",
       " '__pos__',\n",
       " '__pow__',\n",
       " '__radd__',\n",
       " '__rand__',\n",
       " '__rdivmod__',\n",
       " '__reduce__',\n",
       " '__reduce_ex__',\n",
       " '__repr__',\n",
       " '__rfloordiv__',\n",
       " '__rlshift__',\n",
       " '__rmatmul__',\n",
       " '__rmod__',\n",
       " '__rmul__',\n",
       " '__ror__',\n",
       " '__rpow__',\n",
       " '__rrshift__',\n",
       " '__rshift__',\n",
       " '__rsub__',\n",
       " '__rtruediv__',\n",
       " '__rxor__',\n",
       " '__setattr__',\n",
       " '__setitem__',\n",
       " '__setstate__',\n",
       " '__sizeof__',\n",
       " '__str__',\n",
       " '__sub__',\n",
       " '__subclasshook__',\n",
       " '__truediv__',\n",
       " '__xor__',\n",
       " 'all',\n",
       " 'any',\n",
       " 'argmax',\n",
       " 'argmin',\n",
       " 'argpartition',\n",
       " 'argsort',\n",
       " 'astype',\n",
       " 'base',\n",
       " 'byteswap',\n",
       " 'choose',\n",
       " 'clip',\n",
       " 'compress',\n",
       " 'conj',\n",
       " 'conjugate',\n",
       " 'copy',\n",
       " 'ctypes',\n",
       " 'cumprod',\n",
       " 'cumsum',\n",
       " 'data',\n",
       " 'diagonal',\n",
       " 'dot',\n",
       " 'dtype',\n",
       " 'dump',\n",
       " 'dumps',\n",
       " 'fill',\n",
       " 'flags',\n",
       " 'flat',\n",
       " 'flatten',\n",
       " 'getfield',\n",
       " 'imag',\n",
       " 'item',\n",
       " 'itemset',\n",
       " 'itemsize',\n",
       " 'max',\n",
       " 'mean',\n",
       " 'min',\n",
       " 'nbytes',\n",
       " 'ndim',\n",
       " 'newbyteorder',\n",
       " 'nonzero',\n",
       " 'partition',\n",
       " 'prod',\n",
       " 'ptp',\n",
       " 'put',\n",
       " 'ravel',\n",
       " 'real',\n",
       " 'repeat',\n",
       " 'reshape',\n",
       " 'resize',\n",
       " 'round',\n",
       " 'searchsorted',\n",
       " 'setfield',\n",
       " 'setflags',\n",
       " 'shape',\n",
       " 'size',\n",
       " 'sort',\n",
       " 'squeeze',\n",
       " 'std',\n",
       " 'strides',\n",
       " 'sum',\n",
       " 'swapaxes',\n",
       " 'take',\n",
       " 'tobytes',\n",
       " 'tofile',\n",
       " 'tolist',\n",
       " 'tostring',\n",
       " 'trace',\n",
       " 'transpose',\n",
       " 'var',\n",
       " 'view']"
      ]
     },
     "execution_count": 232,
     "metadata": {},
     "output_type": "execute_result"
    }
   ],
   "source": [
    "dir(to_process)"
   ]
  },
  {
   "cell_type": "code",
   "execution_count": 220,
   "id": "2956774c",
   "metadata": {},
   "outputs": [],
   "source": [
    "height = 2000\n",
    "width = 2000\n",
    "channels = 3\n",
    "\n",
    "contrived_image = np.random.rand(height,width,channels)\n",
    "cv2.imshow(\"ci\",contrived_image)\n",
    "show()"
   ]
  }
 ],
 "metadata": {
  "kernelspec": {
   "display_name": "Python 3",
   "language": "python",
   "name": "python3"
  },
  "language_info": {
   "codemirror_mode": {
    "name": "ipython",
    "version": 3
   },
   "file_extension": ".py",
   "mimetype": "text/x-python",
   "name": "python",
   "nbconvert_exporter": "python",
   "pygments_lexer": "ipython3",
   "version": "3.8.8"
  }
 },
 "nbformat": 4,
 "nbformat_minor": 5
}
