{
 "cells": [
  {
   "cell_type": "markdown",
   "id": "6c88c6a8",
   "metadata": {},
   "source": [
    "### Import Libraries"
   ]
  },
  {
   "cell_type": "code",
   "execution_count": 1,
   "id": "f3bb2492",
   "metadata": {},
   "outputs": [],
   "source": [
    "import cv2\n",
    "import numpy as np\n",
    "import math"
   ]
  },
  {
   "cell_type": "markdown",
   "id": "dc2d30da",
   "metadata": {},
   "source": [
    "### Define `show()` to control termination of image window"
   ]
  },
  {
   "cell_type": "code",
   "execution_count": 2,
   "id": "35f46e69",
   "metadata": {},
   "outputs": [],
   "source": [
    "def show():\n",
    "    while True:\n",
    "        if(cv2.waitKey(1) & 0xFF == ord(\"q\")):\n",
    "            break\n",
    "    cv2.destroyAllWindows()"
   ]
  },
  {
   "cell_type": "markdown",
   "id": "36203714",
   "metadata": {},
   "source": [
    "### Read in the image. If width is greater than 800 pixels, reduce size."
   ]
  },
  {
   "cell_type": "code",
   "execution_count": 3,
   "id": "fbcfb485",
   "metadata": {},
   "outputs": [
    {
     "name": "stdout",
     "output_type": "stream",
     "text": [
      "Enter file name to use:fly.jpg\n",
      "Enter the scale factor by which to reduce the image size:100\n"
     ]
    }
   ],
   "source": [
    "path = \"../../media/images/\"\n",
    "file_name = input(\"Enter file name to use:\")\n",
    "image_file = cv2.imread(path+file_name, cv2.IMREAD_UNCHANGED)\n",
    "\n",
    "scale_factor = int(input(\"Enter the scale factor by which to reduce the image size:\"))\n",
    "height = int(image_file.shape[0] * scale_factor/100)\n",
    "width = int(image_file.shape[1] * scale_factor/100)\n",
    "dimensions = (width,height)\n",
    "\n",
    "input_image = cv2.resize(image_file, dimensions)"
   ]
  },
  {
   "cell_type": "markdown",
   "id": "0021c171",
   "metadata": {},
   "source": [
    "### Display image"
   ]
  },
  {
   "cell_type": "code",
   "execution_count": 4,
   "id": "a39d7baf",
   "metadata": {},
   "outputs": [],
   "source": [
    "cv2.imshow(\"Image\",input_image)\n",
    "show()"
   ]
  },
  {
   "cell_type": "markdown",
   "id": "70918e70",
   "metadata": {},
   "source": [
    "### Display shape information of image (number of rows, number of columns and number of channels)"
   ]
  },
  {
   "cell_type": "code",
   "execution_count": 5,
   "id": "d7d4a974",
   "metadata": {},
   "outputs": [
    {
     "data": {
      "text/plain": [
       "(866, 1300, 3)"
      ]
     },
     "execution_count": 5,
     "metadata": {},
     "output_type": "execute_result"
    }
   ],
   "source": [
    "input_image.shape"
   ]
  },
  {
   "cell_type": "markdown",
   "id": "56a63b33",
   "metadata": {},
   "source": [
    "### Two ways of displaying value of a pixel of particular channel"
   ]
  },
  {
   "cell_type": "code",
   "execution_count": 6,
   "id": "a72a2bb0",
   "metadata": {},
   "outputs": [
    {
     "data": {
      "text/plain": [
       "(19, 19)"
      ]
     },
     "execution_count": 6,
     "metadata": {},
     "output_type": "execute_result"
    }
   ],
   "source": [
    "input_image[200,200,2], input_image.item((200,200,2))"
   ]
  },
  {
   "cell_type": "markdown",
   "id": "0ef9b673",
   "metadata": {},
   "source": [
    "### Display a slice of the image\n",
    "#### Full Colour"
   ]
  },
  {
   "cell_type": "code",
   "execution_count": 7,
   "id": "9a360bba",
   "metadata": {},
   "outputs": [],
   "source": [
    "cv2.imshow(\"Image\",input_image[200:400,200:400])\n",
    "show()"
   ]
  },
  {
   "cell_type": "markdown",
   "id": "9da6c1f5",
   "metadata": {},
   "source": [
    "#### One Channel Colour"
   ]
  },
  {
   "cell_type": "code",
   "execution_count": 8,
   "id": "acedda6f",
   "metadata": {},
   "outputs": [],
   "source": [
    "cv2.imshow(\"Image\",input_image[200:400,200:400,1])\n",
    "show()"
   ]
  },
  {
   "cell_type": "markdown",
   "id": "66719a88",
   "metadata": {},
   "source": [
    "### Make a contrived image to play around with."
   ]
  },
  {
   "cell_type": "code",
   "execution_count": 9,
   "id": "2f6d6005",
   "metadata": {},
   "outputs": [],
   "source": [
    "height = 20\n",
    "width = 20\n",
    "channels = 3\n",
    "contrived_image = np.random.rand(height,width,channels)"
   ]
  },
  {
   "cell_type": "markdown",
   "id": "6cd1bb43",
   "metadata": {},
   "source": [
    "### Two ways of setting the value of a pixel of a particular channel"
   ]
  },
  {
   "cell_type": "code",
   "execution_count": 10,
   "id": "61f3808b",
   "metadata": {},
   "outputs": [
    {
     "data": {
      "text/plain": [
       "(0.025470667419116855, 42.0)"
      ]
     },
     "execution_count": 10,
     "metadata": {},
     "output_type": "execute_result"
    }
   ],
   "source": [
    "image_copy = contrived_image.copy()\n",
    "image_copy[0,0] = (0,0,42)\n",
    "contrived_image.item((0,0,2)), image_copy.item((0,0,2))"
   ]
  },
  {
   "cell_type": "code",
   "execution_count": 11,
   "id": "ee54bc27",
   "metadata": {},
   "outputs": [
    {
     "data": {
      "text/plain": [
       "(0.025470667419116855, 42.0)"
      ]
     },
     "execution_count": 11,
     "metadata": {},
     "output_type": "execute_result"
    }
   ],
   "source": [
    "image_copy.itemset((0,0,2), 42)\n",
    "contrived_image.item((0,0,2)), image_copy.item((0,0,2))"
   ]
  },
  {
   "cell_type": "markdown",
   "id": "9899ef6e",
   "metadata": {},
   "source": [
    "### Create data with NumPy and display"
   ]
  },
  {
   "cell_type": "markdown",
   "id": "51e79f3d",
   "metadata": {},
   "source": [
    "#### Use uniformly distributed data"
   ]
  },
  {
   "cell_type": "code",
   "execution_count": 12,
   "id": "55f7306d",
   "metadata": {},
   "outputs": [],
   "source": [
    "contrived_image = np.random.rand(height,width,channels)\n",
    "cv2.imshow(\"Image\",contrived_image)\n",
    "show()"
   ]
  },
  {
   "cell_type": "markdown",
   "id": "a06c96bb",
   "metadata": {},
   "source": [
    "#### Use normally distributed data"
   ]
  },
  {
   "cell_type": "code",
   "execution_count": 13,
   "id": "fab83de4",
   "metadata": {},
   "outputs": [],
   "source": [
    "contrived_image = np.random.randn(height,width,channels)\n",
    "cv2.imshow(\"Image\",contrived_image)\n",
    "show()"
   ]
  },
  {
   "cell_type": "markdown",
   "id": "7becfa43",
   "metadata": {},
   "source": [
    "## Modifying Images\n",
    "### First, change value of colours deterministically"
   ]
  },
  {
   "cell_type": "code",
   "execution_count": 14,
   "id": "b0e043bf",
   "metadata": {},
   "outputs": [],
   "source": [
    "image_copy = input_image.copy()\n",
    "for r in range(image_copy.shape[0]):\n",
    "    for c in range(image_copy.shape[1]):\n",
    "#         if r > 128:\n",
    "#             val = image_copy[r,c,0]\n",
    "#         else:\n",
    "        val1 = image_copy[r,c,2]\n",
    "        val2 = image_copy[r,c,0]\n",
    "        val3 = image_copy[r,c,1]\n",
    "        image_copy[r,c] = (val3,val3,val3)\n",
    "cv2.imshow(\"Image\",image_copy)\n",
    "show()\n",
    "# image_copy[0,0]"
   ]
  },
  {
   "cell_type": "markdown",
   "id": "8b0882ee",
   "metadata": {},
   "source": [
    "### Random Effects"
   ]
  },
  {
   "cell_type": "code",
   "execution_count": 15,
   "id": "fc29438b",
   "metadata": {},
   "outputs": [],
   "source": [
    "output_image = input_image.copy()\n",
    "\n",
    "for r in range(input_image.shape[0]):\n",
    "    for c in range(input_image.shape[1]):\n",
    "        \n",
    "        output_image.itemset((r,c,0), input_image.item((r,c,0))*math.pi)\n",
    "        output_image.itemset((r,c,1), input_image.item((r,c,1))*math.e)\n",
    "        output_image.itemset((r,c,2), input_image.item((r,c,2))*math.sin(r))\n",
    "\n",
    "cv2.imshow(\"Image\",output_image)\n",
    "show()"
   ]
  },
  {
   "cell_type": "markdown",
   "id": "53e73e93",
   "metadata": {},
   "source": [
    "### Script from George Lecakes"
   ]
  },
  {
   "cell_type": "code",
   "execution_count": 16,
   "id": "731153bf",
   "metadata": {},
   "outputs": [],
   "source": [
    "def is_outside(r, c, shape):\n",
    "    if(c < 0 or c >= shape[1]):\n",
    "        return True\n",
    "    if(r < 0 or r >= shape[0]):\n",
    "        return True\n",
    "    else:\n",
    "        return False\n",
    "    \n",
    "output_image = input_image.copy()\n",
    "diameter = 50\n",
    "\n",
    "for r in range(input_image.shape[0]):\n",
    "    for c in range(input_image.shape[1]):\n",
    "        \n",
    "        r1 = r + math.ceil(np.random.uniform(-0.5,0.5) * diameter)\n",
    "        c1 = c + math.ceil(np.random.uniform(-0.5,0.5) * diameter)\n",
    "                \n",
    "        if(is_outside(r1, c1, input_image.shape)):\n",
    "            output_image.itemset((r,c,0), 0)\n",
    "            output_image.itemset((r,c,1), 0)\n",
    "            output_image.itemset((r,c,2), 0)\n",
    "        else:\n",
    "            output_image.itemset((r,c,0), input_image.item((r1,c1,0)))\n",
    "            output_image.itemset((r,c,1), input_image.item((r1,c1,1)))\n",
    "            output_image.itemset((r,c,2), input_image.item((r1,c1,2)))\n",
    "cv2.imshow(\"Image\",output_image)\n",
    "show()"
   ]
  }
 ],
 "metadata": {
  "kernelspec": {
   "display_name": "Python 3",
   "language": "python",
   "name": "python3"
  },
  "language_info": {
   "codemirror_mode": {
    "name": "ipython",
    "version": 3
   },
   "file_extension": ".py",
   "mimetype": "text/x-python",
   "name": "python",
   "nbconvert_exporter": "python",
   "pygments_lexer": "ipython3",
   "version": "3.8.8"
  }
 },
 "nbformat": 4,
 "nbformat_minor": 5
}
