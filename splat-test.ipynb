{
 "cells": [
  {
   "cell_type": "markdown",
   "id": "6c88c6a8",
   "metadata": {},
   "source": [
    "### Import Libraries"
   ]
  },
  {
   "cell_type": "code",
   "execution_count": 1,
   "id": "f3bb2492",
   "metadata": {},
   "outputs": [],
   "source": [
    "import cv2\n",
    "import numpy as np\n",
    "import math"
   ]
  },
  {
   "cell_type": "markdown",
   "id": "dc2d30da",
   "metadata": {},
   "source": [
    "### Define `show()` to control termination of image window"
   ]
  },
  {
   "cell_type": "code",
   "execution_count": 2,
   "id": "35f46e69",
   "metadata": {},
   "outputs": [],
   "source": [
    "def show():\n",
    "    while True:\n",
    "        if(cv2.waitKey(1) & 0xFF == ord(\"q\")):\n",
    "            break\n",
    "    cv2.destroyAllWindows()"
   ]
  },
  {
   "cell_type": "markdown",
   "id": "0da0257e",
   "metadata": {},
   "source": [
    "### Define `image_resize()` to resize image"
   ]
  },
  {
   "cell_type": "code",
   "execution_count": 22,
   "id": "3e5cd786",
   "metadata": {},
   "outputs": [],
   "source": [
    "def image_resize(image):\n",
    "    scale_factor = int(input(\"Enter the scale factor by which to reduce the image size:\"))\n",
    "    height = int(image.shape[0] * scale_factor/100)\n",
    "    width = int(image.shape[1] * scale_factor/100)\n",
    "    dimensions = (width,height)\n",
    "\n",
    "    return cv2.resize(image, dimensions)"
   ]
  },
  {
   "cell_type": "markdown",
   "id": "36203714",
   "metadata": {},
   "source": [
    "### Read in the image."
   ]
  },
  {
   "cell_type": "code",
   "execution_count": 25,
   "id": "fbcfb485",
   "metadata": {},
   "outputs": [
    {
     "name": "stdout",
     "output_type": "stream",
     "text": [
      "Enter file name to use:fly.jpg\n",
      "Enter the scale factor by which to reduce the image size:100\n"
     ]
    }
   ],
   "source": [
    "path = \"../../media/images/\"\n",
    "file_name = input(\"Enter file name to use:\")\n",
    "image_file = cv2.imread(path+file_name, cv2.IMREAD_UNCHANGED)\n",
    "\n",
    "input_image = image_resize(image_file)"
   ]
  },
  {
   "cell_type": "markdown",
   "id": "0021c171",
   "metadata": {},
   "source": [
    "### Display image"
   ]
  },
  {
   "cell_type": "code",
   "execution_count": 4,
   "id": "a39d7baf",
   "metadata": {},
   "outputs": [],
   "source": [
    "cv2.imshow(\"Image\",input_image)\n",
    "show()"
   ]
  },
  {
   "cell_type": "markdown",
   "id": "70918e70",
   "metadata": {},
   "source": [
    "### Display shape information of image (number of rows, number of columns and number of channels)"
   ]
  },
  {
   "cell_type": "code",
   "execution_count": 5,
   "id": "d7d4a974",
   "metadata": {},
   "outputs": [
    {
     "data": {
      "text/plain": [
       "(866, 1300, 3)"
      ]
     },
     "execution_count": 5,
     "metadata": {},
     "output_type": "execute_result"
    }
   ],
   "source": [
    "input_image.shape"
   ]
  },
  {
   "cell_type": "markdown",
   "id": "0ef9b673",
   "metadata": {},
   "source": [
    "### Display a slice of the image\n",
    "#### Full Colour"
   ]
  },
  {
   "cell_type": "code",
   "execution_count": 7,
   "id": "9a360bba",
   "metadata": {},
   "outputs": [],
   "source": [
    "cv2.imshow(\"Image\",input_image[200:400,200:400])\n",
    "show()"
   ]
  },
  {
   "cell_type": "markdown",
   "id": "aa480fa9",
   "metadata": {},
   "source": [
    "#### One Channel Colour"
   ]
  },
  {
   "cell_type": "code",
   "execution_count": 8,
   "id": "1f90809f",
   "metadata": {},
   "outputs": [],
   "source": [
    "cv2.imshow(\"Image\",input_image[200:400,200:400,1])\n",
    "show()"
   ]
  },
  {
   "cell_type": "markdown",
   "id": "66719a88",
   "metadata": {},
   "source": [
    "### Make a contrived image to play around with."
   ]
  },
  {
   "cell_type": "code",
   "execution_count": 116,
   "id": "05bafa78",
   "metadata": {},
   "outputs": [],
   "source": [
    "height = 100\n",
    "width = 100\n",
    "channels = 3\n",
    "contrived_image = (np.random.rand(height,width,channels) * 10).astype(int)"
   ]
  },
  {
   "cell_type": "markdown",
   "id": "56a63b33",
   "metadata": {},
   "source": [
    "### Two ways of displaying value of a pixel of particular channel"
   ]
  },
  {
   "cell_type": "code",
   "execution_count": 117,
   "id": "325bb0f0",
   "metadata": {},
   "outputs": [
    {
     "data": {
      "text/plain": [
       "array([[[7, 2, 5],\n",
       "        [9, 7, 8],\n",
       "        [7, 0, 3]],\n",
       "\n",
       "       [[3, 4, 1],\n",
       "        [4, 1, 7],\n",
       "        [4, 7, 7]]])"
      ]
     },
     "execution_count": 117,
     "metadata": {},
     "output_type": "execute_result"
    }
   ],
   "source": [
    "contrived_image[:2, :3]"
   ]
  },
  {
   "cell_type": "code",
   "execution_count": 118,
   "id": "a72a2bb0",
   "metadata": {},
   "outputs": [
    {
     "data": {
      "text/plain": [
       "(7, 7)"
      ]
     },
     "execution_count": 118,
     "metadata": {},
     "output_type": "execute_result"
    }
   ],
   "source": [
    "contrived_image[1,2,1], contrived_image.item((1,2,1))"
   ]
  },
  {
   "cell_type": "markdown",
   "id": "6cd1bb43",
   "metadata": {},
   "source": [
    "### Two ways of setting the value of a pixel of a particular channel"
   ]
  },
  {
   "cell_type": "code",
   "execution_count": 123,
   "id": "61f3808b",
   "metadata": {},
   "outputs": [
    {
     "data": {
      "text/plain": [
       "(5, 41)"
      ]
     },
     "execution_count": 123,
     "metadata": {},
     "output_type": "execute_result"
    }
   ],
   "source": [
    "image_copy = contrived_image.copy()\n",
    "image_copy[0,0,2] = 41\n",
    "contrived_image.item((0,0,2)), image_copy.item((0,0,2))"
   ]
  },
  {
   "cell_type": "code",
   "execution_count": 124,
   "id": "9518e869",
   "metadata": {},
   "outputs": [
    {
     "data": {
      "text/plain": [
       "array([[[ 7,  2, 41],\n",
       "        [ 9,  7,  8],\n",
       "        [ 7,  0,  3]],\n",
       "\n",
       "       [[ 3,  4,  1],\n",
       "        [ 4,  1,  7],\n",
       "        [ 4,  7,  7]]])"
      ]
     },
     "execution_count": 124,
     "metadata": {},
     "output_type": "execute_result"
    }
   ],
   "source": [
    "image_copy[:2, :3]"
   ]
  },
  {
   "cell_type": "code",
   "execution_count": 125,
   "id": "ee54bc27",
   "metadata": {},
   "outputs": [
    {
     "data": {
      "text/plain": [
       "(5, 42)"
      ]
     },
     "execution_count": 125,
     "metadata": {},
     "output_type": "execute_result"
    }
   ],
   "source": [
    "image_copy = contrived_image.copy()\n",
    "image_copy.itemset((0,0,2), 42)\n",
    "contrived_image.item((0,0,2)), image_copy.item((0,0,2))"
   ]
  },
  {
   "cell_type": "code",
   "execution_count": 126,
   "id": "b6f08e4b",
   "metadata": {},
   "outputs": [
    {
     "data": {
      "text/plain": [
       "array([[[ 7,  2, 42],\n",
       "        [ 9,  7,  8],\n",
       "        [ 7,  0,  3]],\n",
       "\n",
       "       [[ 3,  4,  1],\n",
       "        [ 4,  1,  7],\n",
       "        [ 4,  7,  7]]])"
      ]
     },
     "execution_count": 126,
     "metadata": {},
     "output_type": "execute_result"
    }
   ],
   "source": [
    "image_copy[:2, :3]"
   ]
  },
  {
   "cell_type": "markdown",
   "id": "9899ef6e",
   "metadata": {},
   "source": [
    "### Create data with NumPy and display"
   ]
  },
  {
   "cell_type": "markdown",
   "id": "ba23068a",
   "metadata": {},
   "source": [
    "#### Use uniformly distributed data"
   ]
  },
  {
   "cell_type": "code",
   "execution_count": 12,
   "id": "55f7306d",
   "metadata": {},
   "outputs": [],
   "source": [
    "contrived_image = np.random.rand(height,width,channels)\n",
    "cv2.imshow(\"Image\",contrived_image)\n",
    "show()"
   ]
  },
  {
   "cell_type": "markdown",
   "id": "d3b09cf1",
   "metadata": {},
   "source": [
    "#### Use normally distributed data"
   ]
  },
  {
   "cell_type": "code",
   "execution_count": 13,
   "id": "fab83de4",
   "metadata": {},
   "outputs": [],
   "source": [
    "contrived_image = np.random.randn(height,width,channels)\n",
    "cv2.imshow(\"Image\",contrived_image)\n",
    "show()"
   ]
  },
  {
   "cell_type": "markdown",
   "id": "7becfa43",
   "metadata": {},
   "source": [
    "## Modifying Images\n",
    "### First, change value of colours deterministically"
   ]
  },
  {
   "cell_type": "code",
   "execution_count": 27,
   "id": "b0e043bf",
   "metadata": {},
   "outputs": [
    {
     "name": "stdout",
     "output_type": "stream",
     "text": [
      "Enter the scale factor by which to reduce the image size:50\n"
     ]
    }
   ],
   "source": [
    "image_copy = image_resize(input_image)\n",
    "for r in range(image_copy.shape[0]):\n",
    "    for c in range(image_copy.shape[1]):\n",
    "        \n",
    "        if(is_outside(r1, c1, input_image.shape)):\n",
    "            image_copy.itemset((r,c,0), 0)\n",
    "            image_copy.itemset((r,c,1), 0)\n",
    "            image_copy.itemset((r,c,2), 0)\n",
    "        else:\n",
    "            val1 = image_copy[r,c,2]\n",
    "            val2 = image_copy[r,c,0]\n",
    "            val3 = image_copy[r,c,1]\n",
    "        image_copy[r,c] = (val3,val3,val3)\n",
    "cv2.imshow(\"Image\",image_copy)\n",
    "show()"
   ]
  },
  {
   "cell_type": "markdown",
   "id": "c41312d8",
   "metadata": {},
   "source": [
    "### Random Effects"
   ]
  },
  {
   "cell_type": "code",
   "execution_count": 15,
   "id": "6ab64bad",
   "metadata": {},
   "outputs": [],
   "source": [
    "output_image = input_image.copy()\n",
    "\n",
    "for r in range(input_image.shape[0]):\n",
    "    for c in range(input_image.shape[1]):\n",
    "        \n",
    "        output_image.itemset((r,c,0), input_image.item((r,c,0))*math.pi)\n",
    "        output_image.itemset((r,c,1), input_image.item((r,c,1))*math.e)\n",
    "        output_image.itemset((r,c,2), input_image.item((r,c,2))*math.sin(r))\n",
    "\n",
    "cv2.imshow(\"Image\",output_image)\n",
    "show()"
   ]
  },
  {
   "cell_type": "markdown",
   "id": "e6812257",
   "metadata": {},
   "source": [
    "### Script from George Lecakes"
   ]
  },
  {
   "cell_type": "code",
   "execution_count": 16,
   "id": "57609cbb",
   "metadata": {},
   "outputs": [],
   "source": [
    "def is_outside(r, c, shape):\n",
    "    if(c < 0 or c >= shape[1]):\n",
    "        return True\n",
    "    if(r < 0 or r >= shape[0]):\n",
    "        return True\n",
    "    else:\n",
    "        return False\n",
    "    \n",
    "output_image = input_image.copy()\n",
    "diameter = 50\n",
    "\n",
    "for r in range(input_image.shape[0]):\n",
    "    for c in range(input_image.shape[1]):\n",
    "        \n",
    "        r1 = r + math.ceil(np.random.uniform(-0.5,0.5) * diameter)\n",
    "        c1 = c + math.ceil(np.random.uniform(-0.5,0.5) * diameter)\n",
    "                \n",
    "        if(is_outside(r1, c1, input_image.shape)):\n",
    "            output_image.itemset((r,c,0), 0)\n",
    "            output_image.itemset((r,c,1), 0)\n",
    "            output_image.itemset((r,c,2), 0)\n",
    "        else:\n",
    "            output_image.itemset((r,c,0), input_image.item((r1,c1,0)))\n",
    "            output_image.itemset((r,c,1), input_image.item((r1,c1,1)))\n",
    "            output_image.itemset((r,c,2), input_image.item((r1,c1,2)))\n",
    "cv2.imshow(\"Image\",output_image)\n",
    "show()"
   ]
  }
 ],
 "metadata": {
  "kernelspec": {
   "display_name": "Python 3",
   "language": "python",
   "name": "python3"
  },
  "language_info": {
   "codemirror_mode": {
    "name": "ipython",
    "version": 3
   },
   "file_extension": ".py",
   "mimetype": "text/x-python",
   "name": "python",
   "nbconvert_exporter": "python",
   "pygments_lexer": "ipython3",
   "version": "3.8.8"
  }
 },
 "nbformat": 4,
 "nbformat_minor": 5
}
