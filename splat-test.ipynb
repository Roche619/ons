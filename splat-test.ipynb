{
 "cells": [
  {
   "cell_type": "markdown",
   "id": "91e5275b",
   "metadata": {},
   "source": [
    "# Image Manipulation with OpenCV and NumPy "
   ]
  },
  {
   "cell_type": "markdown",
   "id": "ddfc8cc8",
   "metadata": {},
   "source": [
    "## Introduction"
   ]
  },
  {
   "cell_type": "markdown",
   "id": "6c88c6a8",
   "metadata": {},
   "source": [
    "### Import Libraries"
   ]
  },
  {
   "cell_type": "code",
   "execution_count": 199,
   "id": "f3bb2492",
   "metadata": {},
   "outputs": [],
   "source": [
    "import cv2\n",
    "import numpy as np\n",
    "import math"
   ]
  },
  {
   "cell_type": "markdown",
   "id": "dc2d30da",
   "metadata": {},
   "source": [
    "### Define `show()` to control termination of image window"
   ]
  },
  {
   "cell_type": "code",
   "execution_count": 2,
   "id": "35f46e69",
   "metadata": {},
   "outputs": [],
   "source": [
    "def show():\n",
    "    while True:\n",
    "        if(cv2.waitKey(1) & 0xFF == ord(\"q\")):\n",
    "            break\n",
    "    cv2.destroyAllWindows()"
   ]
  },
  {
   "cell_type": "markdown",
   "id": "4e3a4937",
   "metadata": {},
   "source": [
    "### Define `image_resize()` to resize image"
   ]
  },
  {
   "cell_type": "code",
   "execution_count": 3,
   "id": "b3819577",
   "metadata": {},
   "outputs": [],
   "source": [
    "def image_resize(image):\n",
    "    scale_factor = int(input(\"Enter the scale factor by which to reduce the image size:\"))\n",
    "    height = int(image.shape[0] * scale_factor/100)\n",
    "    width = int(image.shape[1] * scale_factor/100)\n",
    "    dimensions = (width,height)\n",
    "\n",
    "    return cv2.resize(image, dimensions)"
   ]
  },
  {
   "cell_type": "markdown",
   "id": "788efb4b",
   "metadata": {},
   "source": [
    "### Define `is_outside()` to test limits of image data"
   ]
  },
  {
   "cell_type": "code",
   "execution_count": 4,
   "id": "be0b406d",
   "metadata": {},
   "outputs": [],
   "source": [
    "def is_outside(r, c, shape):\n",
    "    if(c < 0 or c >= shape[1]):\n",
    "        return True\n",
    "    if(r < 0 or r >= shape[0]):\n",
    "        return True\n",
    "    else:\n",
    "        return False"
   ]
  },
  {
   "cell_type": "markdown",
   "id": "36203714",
   "metadata": {},
   "source": [
    "### Read in the image."
   ]
  },
  {
   "cell_type": "code",
   "execution_count": 163,
   "id": "fbcfb485",
   "metadata": {},
   "outputs": [
    {
     "name": "stdout",
     "output_type": "stream",
     "text": [
      "Enter file name to use:01.jpg\n",
      "Enter the scale factor by which to reduce the image size:100\n"
     ]
    }
   ],
   "source": [
    "path = \"../../media/images/\"\n",
    "file_name = input(\"Enter file name to use:\")\n",
    "image_file = cv2.imread(path+file_name, cv2.IMREAD_UNCHANGED)\n",
    "\n",
    "input_image = image_resize(image_file)"
   ]
  },
  {
   "cell_type": "markdown",
   "id": "0021c171",
   "metadata": {},
   "source": [
    "### Display image"
   ]
  },
  {
   "cell_type": "code",
   "execution_count": 6,
   "id": "a39d7baf",
   "metadata": {},
   "outputs": [],
   "source": [
    "cv2.imshow(\"Image\",input_image)\n",
    "show()"
   ]
  },
  {
   "cell_type": "markdown",
   "id": "70918e70",
   "metadata": {},
   "source": [
    "### Display shape information of image (number of rows, number of columns and number of channels)"
   ]
  },
  {
   "cell_type": "code",
   "execution_count": 7,
   "id": "d7d4a974",
   "metadata": {},
   "outputs": [
    {
     "data": {
      "text/plain": [
       "(866, 1300, 3)"
      ]
     },
     "execution_count": 7,
     "metadata": {},
     "output_type": "execute_result"
    }
   ],
   "source": [
    "input_image.shape"
   ]
  },
  {
   "cell_type": "markdown",
   "id": "0ef9b673",
   "metadata": {},
   "source": [
    "### Display a slice of the image\n",
    "#### Full Colour"
   ]
  },
  {
   "cell_type": "code",
   "execution_count": 8,
   "id": "9a360bba",
   "metadata": {},
   "outputs": [],
   "source": [
    "cv2.imshow(\"Image\",input_image[200:400,200:400])\n",
    "show()"
   ]
  },
  {
   "cell_type": "markdown",
   "id": "700b9e92",
   "metadata": {},
   "source": [
    "#### One Channel Colour"
   ]
  },
  {
   "cell_type": "code",
   "execution_count": 9,
   "id": "41a0a325",
   "metadata": {},
   "outputs": [],
   "source": [
    "cv2.imshow(\"Image\",input_image[200:400,200:400,1])\n",
    "show()"
   ]
  },
  {
   "cell_type": "markdown",
   "id": "66719a88",
   "metadata": {},
   "source": [
    "### Make a contrived image to play around with."
   ]
  },
  {
   "cell_type": "code",
   "execution_count": 26,
   "id": "589b9f05",
   "metadata": {},
   "outputs": [],
   "source": [
    "height = 500\n",
    "width = 500\n",
    "channels = 3\n",
    "contrived_image = (np.random.rand(height,width,channels) * 10).round(2)"
   ]
  },
  {
   "cell_type": "markdown",
   "id": "56a63b33",
   "metadata": {},
   "source": [
    "### Two ways of displaying value of a pixel of particular channel"
   ]
  },
  {
   "cell_type": "code",
   "execution_count": 36,
   "id": "e77b2766",
   "metadata": {},
   "outputs": [
    {
     "data": {
      "text/plain": [
       "array([[[8.37, 6.41, 8.54]]])"
      ]
     },
     "execution_count": 36,
     "metadata": {},
     "output_type": "execute_result"
    }
   ],
   "source": [
    "contrived_image[:1, :1]"
   ]
  },
  {
   "cell_type": "code",
   "execution_count": 28,
   "id": "a72a2bb0",
   "metadata": {},
   "outputs": [
    {
     "data": {
      "text/plain": [
       "(8.56, 8.56)"
      ]
     },
     "execution_count": 28,
     "metadata": {},
     "output_type": "execute_result"
    }
   ],
   "source": [
    "contrived_image[1,2,1], contrived_image.item((1,2,1))"
   ]
  },
  {
   "cell_type": "markdown",
   "id": "6cd1bb43",
   "metadata": {},
   "source": [
    "### Two ways of setting the value of a pixel of a particular channel"
   ]
  },
  {
   "cell_type": "code",
   "execution_count": 29,
   "id": "61f3808b",
   "metadata": {},
   "outputs": [
    {
     "data": {
      "text/plain": [
       "(8.54, 42.0)"
      ]
     },
     "execution_count": 29,
     "metadata": {},
     "output_type": "execute_result"
    }
   ],
   "source": [
    "image_copy = contrived_image.copy()\n",
    "image_copy[0,0,2] = 42\n",
    "contrived_image.item((0,0,2)), image_copy.item((0,0,2))"
   ]
  },
  {
   "cell_type": "code",
   "execution_count": 37,
   "id": "77e311a9",
   "metadata": {},
   "outputs": [
    {
     "data": {
      "text/plain": [
       "array([[[ 8.37,  6.41, 42.  ]]])"
      ]
     },
     "execution_count": 37,
     "metadata": {},
     "output_type": "execute_result"
    }
   ],
   "source": [
    "image_copy[:1, :1]"
   ]
  },
  {
   "cell_type": "code",
   "execution_count": 32,
   "id": "ee54bc27",
   "metadata": {},
   "outputs": [
    {
     "data": {
      "text/plain": [
       "(8.54, 42.0)"
      ]
     },
     "execution_count": 32,
     "metadata": {},
     "output_type": "execute_result"
    }
   ],
   "source": [
    "image_copy = contrived_image.copy()\n",
    "image_copy.itemset((0,0,2), 42)\n",
    "contrived_image.item((0,0,2)), image_copy.item((0,0,2))"
   ]
  },
  {
   "cell_type": "code",
   "execution_count": 38,
   "id": "ec3468a6",
   "metadata": {},
   "outputs": [
    {
     "data": {
      "text/plain": [
       "array([[[ 8.37,  6.41, 42.  ]]])"
      ]
     },
     "execution_count": 38,
     "metadata": {},
     "output_type": "execute_result"
    }
   ],
   "source": [
    "image_copy[:1, :1]"
   ]
  },
  {
   "cell_type": "markdown",
   "id": "9899ef6e",
   "metadata": {},
   "source": [
    "### Create data with NumPy and display"
   ]
  },
  {
   "cell_type": "markdown",
   "id": "78e21cb0",
   "metadata": {},
   "source": [
    "#### Use uniformly distributed data"
   ]
  },
  {
   "cell_type": "code",
   "execution_count": 17,
   "id": "55f7306d",
   "metadata": {},
   "outputs": [],
   "source": [
    "contrived_image = np.random.rand(height,width,channels)\n",
    "cv2.imshow(\"Image\",contrived_image)\n",
    "show()"
   ]
  },
  {
   "cell_type": "markdown",
   "id": "272118c8",
   "metadata": {},
   "source": [
    "#### Use normally distributed data"
   ]
  },
  {
   "cell_type": "code",
   "execution_count": 18,
   "id": "fab83de4",
   "metadata": {},
   "outputs": [],
   "source": [
    "contrived_image = np.random.randn(height,width,channels)\n",
    "cv2.imshow(\"Image\",contrived_image)\n",
    "show()"
   ]
  },
  {
   "cell_type": "markdown",
   "id": "7becfa43",
   "metadata": {},
   "source": [
    "## Modifying Images\n",
    "### First, change value of colours deterministically"
   ]
  },
  {
   "cell_type": "code",
   "execution_count": 164,
   "id": "86d1508d",
   "metadata": {},
   "outputs": [
    {
     "name": "stdout",
     "output_type": "stream",
     "text": [
      "Enter the scale factor by which to reduce the image size:50\n"
     ]
    }
   ],
   "source": [
    "resized_image = image_resize(input_image)"
   ]
  },
  {
   "cell_type": "code",
   "execution_count": 20,
   "id": "b0e043bf",
   "metadata": {},
   "outputs": [],
   "source": [
    "output_image = resized_image.copy()\n",
    "for r in range(output_image.shape[0]):\n",
    "    for c in range(output_image.shape[1]):\n",
    "        \n",
    "        if(is_outside(r, c, resized_image.shape)):\n",
    "            output_image.itemset((r,c,0), 0)\n",
    "            output_image.itemset((r,c,1), 0)\n",
    "            output_image.itemset((r,c,2), 0)\n",
    "        else:\n",
    "            val_0 = output_image.item((r,c,2))\n",
    "            val_1 = output_image.item((r,c,0))\n",
    "            val_2 = output_image.item((r,c,1))\n",
    "        output_image[r,c] = (val_2,val_0,val_1)\n",
    "cv2.imshow(\"Image\",output_image)\n",
    "show()"
   ]
  },
  {
   "cell_type": "code",
   "execution_count": 39,
   "id": "7501c22b",
   "metadata": {},
   "outputs": [],
   "source": [
    "output_image = resized_image.copy()\n",
    "diameter = 20\n",
    "\n",
    "for r in range(resized_image.shape[0]):\n",
    "    for c in range(resized_image.shape[1]):\n",
    "        \n",
    "        if resized_image.item((r,c,1)) >= 128:\n",
    "            r1 = 128\n",
    "        else:\n",
    "            r1 = math.ceil(r / 20)\n",
    "        if resized_image.item((r,c,1)) >= 128:\n",
    "            c1 = 128\n",
    "        else:\n",
    "            c1 = math.ceil(c / 20)\n",
    "                \n",
    "        if(is_outside(r1, c1, resized_image.shape)):\n",
    "            output_image.itemset((r,c,0), 0)\n",
    "            output_image.itemset((r,c,1), 0)\n",
    "            output_image.itemset((r,c,2), 0)\n",
    "        else:\n",
    "            output_image.itemset((r,c,0), resized_image.item((r1,c1,0)))\n",
    "            output_image.itemset((r,c,1), resized_image.item((r1,c1,1)))\n",
    "            output_image.itemset((r,c,2), resized_image.item((r1,c1,2)))\n",
    "cv2.imshow(\"Image\",output_image)\n",
    "show()"
   ]
  },
  {
   "cell_type": "code",
   "execution_count": 132,
   "id": "9610e6d6",
   "metadata": {},
   "outputs": [
    {
     "name": "stdout",
     "output_type": "stream",
     "text": [
      "Enter the scale factor by which to reduce the image size:50\n"
     ]
    }
   ],
   "source": [
    "for r in range(resized_image.shape[0]):\n",
    "    for c in range(resized_image.shape[1]):\n",
    "        if(is_outside(r, c, resized_image.shape)):\n",
    "            output_image.itemset((r,c,0), 0)\n",
    "            output_image.itemset((r,c,1), 0)\n",
    "            output_image.itemset((r,c,2), 0)\n",
    "        else:\n",
    "            output_image.itemset((r,c,0), np.min([resized_image.item((r,c,1)), resized_image.item((r,c,2))]))\n",
    "            output_image.itemset((r,c,1), np.min([resized_image.item((r,c,0)), resized_image.item((r,c,2))]))\n",
    "            output_image.itemset((r,c,2), np.min([resized_image.item((r,c,0)), resized_image.item((r,c,1))]))\n",
    "cv2.imshow(\"Image\",output_image)\n",
    "show()"
   ]
  },
  {
   "cell_type": "code",
   "execution_count": 211,
   "id": "dcaed203",
   "metadata": {},
   "outputs": [
    {
     "name": "stdout",
     "output_type": "stream",
     "text": [
      "Enter file name to use:g_16.jpg\n",
      "Enter the scale factor by which to reduce the image size:80\n"
     ]
    }
   ],
   "source": [
    "path = \"../../media/images/\"\n",
    "file_name = input(\"Enter file name to use:\")\n",
    "image_file = cv2.imread(path+file_name, cv2.IMREAD_UNCHANGED)\n",
    "\n",
    "if image_file.shape[1] > 800:\n",
    "    resized_image = image_resize(image_file)\n",
    "else:\n",
    "    resized_image = image_file\n",
    "    \n",
    "output_image = resized_image.copy()\n",
    "dim = output_image.shape[0]\n",
    "output_image = output_image[:dim,:dim,:3]\n",
    "for r in range(output_image.shape[0]):\n",
    "    for c in range(output_image.shape[1]):\n",
    "        \n",
    "        if(is_outside(r, c, resized_image.shape)):\n",
    "            output_image.itemset((r,c,0), 0)\n",
    "            output_image.itemset((r,c,1), 0)\n",
    "            output_image.itemset((r,c,2), 0)\n",
    "        else:\n",
    "            val_0 = output_image.item((c,r,0))\n",
    "            val_1 = output_image.item((c,r,1))\n",
    "            val_2 = output_image.item((c,r,2))\n",
    "\n",
    "        output_image[r,c] = (val_0,val_1,val_2)\n",
    "cv2.imshow(\"Image\",output_image)\n",
    "show()"
   ]
  },
  {
   "cell_type": "code",
   "execution_count": 208,
   "id": "f172f43e",
   "metadata": {},
   "outputs": [
    {
     "data": {
      "text/plain": [
       "(801, 801, 3)"
      ]
     },
     "execution_count": 208,
     "metadata": {},
     "output_type": "execute_result"
    }
   ],
   "source": [
    "output_image.shape"
   ]
  },
  {
   "cell_type": "markdown",
   "id": "3d9b7b27",
   "metadata": {},
   "source": [
    "### Change pixel values using mathematical functions"
   ]
  },
  {
   "cell_type": "code",
   "execution_count": 21,
   "id": "ec29d164",
   "metadata": {},
   "outputs": [],
   "source": [
    "output_image = resized_image.copy()\n",
    "\n",
    "for r in range(resized_image.shape[0]):\n",
    "    for c in range(resized_image.shape[1]):\n",
    "        output_image.itemset((r,c,0), resized_image.item((r,c,0))*math.e)\n",
    "        output_image.itemset((r,c,1), resized_image.item((r,c,1))*math.e)\n",
    "        output_image.itemset((r,c,2), resized_image.item((r,c,2))*math.e)\n",
    "\n",
    "cv2.imshow(\"Image\",output_image)\n",
    "show()"
   ]
  },
  {
   "cell_type": "markdown",
   "id": "f3464056",
   "metadata": {},
   "source": [
    "### Random Effects"
   ]
  },
  {
   "cell_type": "markdown",
   "id": "34ee4b39",
   "metadata": {},
   "source": [
    "### Script from George Lecakes demonstrating splatting\n",
    "#### Using Uniformly Distributed Random Data"
   ]
  },
  {
   "cell_type": "code",
   "execution_count": 124,
   "id": "021c0e0e",
   "metadata": {},
   "outputs": [],
   "source": [
    "output_image = resized_image.copy()\n",
    "diameter = 20\n",
    "\n",
    "for r in range(resized_image.shape[0]):\n",
    "    for c in range(resized_image.shape[1]):\n",
    "        \n",
    "        r1 = r + math.ceil(np.random.uniform(-0.5,0.5) * diameter)\n",
    "        c1 = c + math.ceil(np.random.uniform(-0.5,0.5) * diameter)\n",
    "                \n",
    "        if(is_outside(r1, c1, resized_image.shape)):\n",
    "            output_image.itemset((r,c,0), 0)\n",
    "            output_image.itemset((r,c,1), 0)\n",
    "            output_image.itemset((r,c,2), 0)\n",
    "        else:\n",
    "            output_image.itemset((r,c,0), resized_image.item((r1,c1,0)))\n",
    "            output_image.itemset((r,c,1), resized_image.item((r1,c1,1)))\n",
    "            output_image.itemset((r,c,2), resized_image.item((r1,c1,2)))\n",
    "cv2.imshow(\"Image\",output_image)\n",
    "show()"
   ]
  },
  {
   "cell_type": "markdown",
   "id": "fb9a5cca",
   "metadata": {},
   "source": [
    "#### Using Normally Distributed Random Data"
   ]
  },
  {
   "cell_type": "code",
   "execution_count": 125,
   "id": "ecf4e824",
   "metadata": {},
   "outputs": [],
   "source": [
    "output_image = resized_image.copy()\n",
    "diameter = 60\n",
    "\n",
    "for r in range(resized_image.shape[0]):\n",
    "    for c in range(resized_image.shape[1]):\n",
    "        \n",
    "        r1 = r + math.ceil(np.random.normal(-0.5,0.5) * diameter)\n",
    "        c1 = c + math.ceil(np.random.normal(-0.5,0.5) * diameter)\n",
    "                \n",
    "        if(is_outside(r1, c1, resized_image.shape)):\n",
    "            output_image.itemset((r,c,0), 0)\n",
    "            output_image.itemset((r,c,1), 0)\n",
    "            output_image.itemset((r,c,2), 0)\n",
    "        else:\n",
    "            output_image.itemset((r,c,0), resized_image.item((r1,c1,0)))\n",
    "            output_image.itemset((r,c,1), resized_image.item((r1,c1,1)))\n",
    "            output_image.itemset((r,c,2), resized_image.item((r1,c1,2)))\n",
    "cv2.imshow(\"Image\",output_image)\n",
    "show()"
   ]
  }
 ],
 "metadata": {
  "kernelspec": {
   "display_name": "Python 3",
   "language": "python",
   "name": "python3"
  },
  "language_info": {
   "codemirror_mode": {
    "name": "ipython",
    "version": 3
   },
   "file_extension": ".py",
   "mimetype": "text/x-python",
   "name": "python",
   "nbconvert_exporter": "python",
   "pygments_lexer": "ipython3",
   "version": "3.8.8"
  }
 },
 "nbformat": 4,
 "nbformat_minor": 5
}
