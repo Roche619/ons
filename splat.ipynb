{
 "cells": [
  {
   "cell_type": "markdown",
   "id": "5f8eda72",
   "metadata": {},
   "source": [
    "# Image Manipulation with OpenCV and NumPy Deployed on [Streamlit](https://bit.ly/3qNybNt)"
   ]
  },
  {
   "cell_type": "markdown",
   "id": "dff9ee36",
   "metadata": {},
   "source": [
    "## Introduction"
   ]
  },
  {
   "cell_type": "markdown",
   "id": "6c88c6a8",
   "metadata": {},
   "source": [
    "### Import Libraries"
   ]
  },
  {
   "cell_type": "code",
   "execution_count": 1,
   "id": "f3bb2492",
   "metadata": {},
   "outputs": [],
   "source": [
    "import cv2\n",
    "import numpy as np\n",
    "import math"
   ]
  },
  {
   "cell_type": "markdown",
   "id": "94c780a4",
   "metadata": {},
   "source": [
    "### Define `image_resize()` to resize image"
   ]
  },
  {
   "cell_type": "code",
   "execution_count": 2,
   "id": "7c3aa87e",
   "metadata": {},
   "outputs": [],
   "source": [
    "def image_resize(image):\n",
    "    scale_factor = int(input(\"Enter the scale factor by which to reduce the image size:\"))\n",
    "    height = int(image.shape[0] * scale_factor/100)\n",
    "    width = int(image.shape[1] * scale_factor/100)\n",
    "    dimensions = (width,height)\n",
    "\n",
    "    return cv2.resize(image, dimensions)"
   ]
  },
  {
   "cell_type": "markdown",
   "id": "2ef35cd1",
   "metadata": {},
   "source": [
    "### Define `is_outside()` to test limits of image data"
   ]
  },
  {
   "cell_type": "code",
   "execution_count": 3,
   "id": "27abf69e",
   "metadata": {},
   "outputs": [],
   "source": [
    "def is_outside(r, c, shape):\n",
    "    if(c < 0 or c >= shape[1]):\n",
    "        return True\n",
    "    if(r < 0 or r >= shape[0]):\n",
    "        return True\n",
    "    else:\n",
    "        return False"
   ]
  },
  {
   "cell_type": "markdown",
   "id": "36203714",
   "metadata": {},
   "source": [
    "### Read in the image."
   ]
  },
  {
   "cell_type": "code",
   "execution_count": 33,
   "id": "fbcfb485",
   "metadata": {},
   "outputs": [
    {
     "name": "stdout",
     "output_type": "stream",
     "text": [
      "Enter file name to use:fly.jpg\n",
      "Enter the scale factor by which to reduce the image size:100\n"
     ]
    }
   ],
   "source": [
    "path = \"../../media/images/\"\n",
    "file_name = input(\"Enter file name to use:\")\n",
    "image_file = cv2.imread(path+file_name)\n",
    "\n",
    "input_image = image_resize(image_file)"
   ]
  },
  {
   "cell_type": "code",
   "execution_count": 17,
   "id": "4ed26696",
   "metadata": {},
   "outputs": [
    {
     "name": "stdout",
     "output_type": "stream",
     "text": [
      "[[[109 122 136]\n",
      "  [107 123 136]]\n",
      "\n",
      " [[110 123 137]\n",
      "  [107 120 134]]]\n"
     ]
    }
   ],
   "source": [
    "print(image_file[:2,:2])"
   ]
  },
  {
   "cell_type": "markdown",
   "id": "0021c171",
   "metadata": {},
   "source": [
    "### Display image"
   ]
  },
  {
   "cell_type": "code",
   "execution_count": 37,
   "id": "a39d7baf",
   "metadata": {},
   "outputs": [],
   "source": [
    "cv2.imshow(\"Image\",input_image)\n",
    "while True:\n",
    "        if(cv2.waitKey(1) & 0xFF == ord(\"q\")):\n",
    "            break\n",
    "cv2.destroyAllWindows()"
   ]
  },
  {
   "cell_type": "markdown",
   "id": "dc2d30da",
   "metadata": {},
   "source": [
    "### Define `show_image()` to display image"
   ]
  },
  {
   "cell_type": "code",
   "execution_count": 6,
   "id": "35f46e69",
   "metadata": {},
   "outputs": [],
   "source": [
    "def show_image(name,image):\n",
    "    cv2.imshow(name,image)\n",
    "    while True:\n",
    "        if(cv2.waitKey(1) & 0xFF == ord(\"q\")):\n",
    "            break\n",
    "    cv2.destroyAllWindows()"
   ]
  },
  {
   "cell_type": "code",
   "execution_count": 7,
   "id": "dbbc9ccf",
   "metadata": {},
   "outputs": [],
   "source": [
    "show_image(\"Image\", input_image)"
   ]
  },
  {
   "cell_type": "markdown",
   "id": "2710ed6e",
   "metadata": {},
   "source": [
    "### Write Image to File"
   ]
  },
  {
   "cell_type": "code",
   "execution_count": 8,
   "id": "6f78e159",
   "metadata": {},
   "outputs": [
    {
     "data": {
      "text/plain": [
       "True"
      ]
     },
     "execution_count": 8,
     "metadata": {},
     "output_type": "execute_result"
    }
   ],
   "source": [
    "cv2.imwrite(path+\"resized.jpg\", input_image)"
   ]
  },
  {
   "cell_type": "markdown",
   "id": "70918e70",
   "metadata": {},
   "source": [
    "### Display shape information of image (number of rows, number of columns and number of channels)"
   ]
  },
  {
   "cell_type": "code",
   "execution_count": 9,
   "id": "d7d4a974",
   "metadata": {},
   "outputs": [
    {
     "data": {
      "text/plain": [
       "(536, 800, 3)"
      ]
     },
     "execution_count": 9,
     "metadata": {},
     "output_type": "execute_result"
    }
   ],
   "source": [
    "input_image.shape"
   ]
  },
  {
   "cell_type": "markdown",
   "id": "0ef9b673",
   "metadata": {},
   "source": [
    "### Display a slice of the image\n",
    "#### Full Colour"
   ]
  },
  {
   "cell_type": "code",
   "execution_count": 10,
   "id": "9a360bba",
   "metadata": {},
   "outputs": [],
   "source": [
    "show_image(\"Image\",input_image[200:400,200:400])"
   ]
  },
  {
   "cell_type": "markdown",
   "id": "202d81c3",
   "metadata": {},
   "source": [
    "#### One Channel Colour"
   ]
  },
  {
   "cell_type": "code",
   "execution_count": 11,
   "id": "c2f8dfd2",
   "metadata": {},
   "outputs": [],
   "source": [
    "show_image(\"Image\",input_image[200:400,200:400,1])"
   ]
  },
  {
   "cell_type": "markdown",
   "id": "66719a88",
   "metadata": {},
   "source": [
    "### Make a contrived image to play around with."
   ]
  },
  {
   "cell_type": "code",
   "execution_count": 12,
   "id": "4307fd6e",
   "metadata": {},
   "outputs": [],
   "source": [
    "height = 500\n",
    "width = 500\n",
    "channels = 3\n",
    "contrived_image = (np.random.rand(height,width,channels) * 10).round(2)"
   ]
  },
  {
   "cell_type": "markdown",
   "id": "56a63b33",
   "metadata": {},
   "source": [
    "### Two ways of displaying value of a pixel of particular channel"
   ]
  },
  {
   "cell_type": "code",
   "execution_count": 13,
   "id": "74194e4d",
   "metadata": {},
   "outputs": [
    {
     "data": {
      "text/plain": [
       "array([[[3.72, 4.9 , 2.33]]])"
      ]
     },
     "execution_count": 13,
     "metadata": {},
     "output_type": "execute_result"
    }
   ],
   "source": [
    "contrived_image[:1, :1]"
   ]
  },
  {
   "cell_type": "code",
   "execution_count": 14,
   "id": "a72a2bb0",
   "metadata": {},
   "outputs": [
    {
     "data": {
      "text/plain": [
       "(8.78, 8.78)"
      ]
     },
     "execution_count": 14,
     "metadata": {},
     "output_type": "execute_result"
    }
   ],
   "source": [
    "contrived_image[1,2,1], contrived_image.item((1,2,1))"
   ]
  },
  {
   "cell_type": "markdown",
   "id": "6cd1bb43",
   "metadata": {},
   "source": [
    "### Two ways of setting the value of a pixel of a particular channel"
   ]
  },
  {
   "cell_type": "code",
   "execution_count": 15,
   "id": "61f3808b",
   "metadata": {},
   "outputs": [
    {
     "data": {
      "text/plain": [
       "(2.33, 42.0)"
      ]
     },
     "execution_count": 15,
     "metadata": {},
     "output_type": "execute_result"
    }
   ],
   "source": [
    "image_copy = contrived_image.copy()\n",
    "image_copy[0,0,2] = 42\n",
    "contrived_image.item((0,0,2)), image_copy.item((0,0,2))"
   ]
  },
  {
   "cell_type": "code",
   "execution_count": 16,
   "id": "b7a9f35e",
   "metadata": {},
   "outputs": [
    {
     "data": {
      "text/plain": [
       "array([[[ 3.72,  4.9 , 42.  ]]])"
      ]
     },
     "execution_count": 16,
     "metadata": {},
     "output_type": "execute_result"
    }
   ],
   "source": [
    "image_copy[:1, :1]"
   ]
  },
  {
   "cell_type": "code",
   "execution_count": 17,
   "id": "ee54bc27",
   "metadata": {},
   "outputs": [
    {
     "data": {
      "text/plain": [
       "(2.33, 42.0)"
      ]
     },
     "execution_count": 17,
     "metadata": {},
     "output_type": "execute_result"
    }
   ],
   "source": [
    "image_copy = contrived_image.copy()\n",
    "image_copy.itemset((0,0,2), 42)\n",
    "contrived_image.item((0,0,2)), image_copy.item((0,0,2))"
   ]
  },
  {
   "cell_type": "code",
   "execution_count": 18,
   "id": "96dd481a",
   "metadata": {},
   "outputs": [
    {
     "data": {
      "text/plain": [
       "array([[[ 3.72,  4.9 , 42.  ]]])"
      ]
     },
     "execution_count": 18,
     "metadata": {},
     "output_type": "execute_result"
    }
   ],
   "source": [
    "image_copy[:1, :1]"
   ]
  },
  {
   "cell_type": "markdown",
   "id": "9899ef6e",
   "metadata": {},
   "source": [
    "### Create data with NumPy and display"
   ]
  },
  {
   "cell_type": "markdown",
   "id": "e2b7de0b",
   "metadata": {},
   "source": [
    "#### Use uniformly distributed data"
   ]
  },
  {
   "cell_type": "code",
   "execution_count": 19,
   "id": "55f7306d",
   "metadata": {},
   "outputs": [],
   "source": [
    "contrived_image = np.random.rand(height,width,channels)\n",
    "show_image(\"Image\", contrived_image)"
   ]
  },
  {
   "cell_type": "markdown",
   "id": "3769b486",
   "metadata": {},
   "source": [
    "#### Use normally distributed data"
   ]
  },
  {
   "cell_type": "code",
   "execution_count": 20,
   "id": "fab83de4",
   "metadata": {},
   "outputs": [],
   "source": [
    "contrived_image = np.random.randn(height,width,channels)\n",
    "show_image(\"Image\", contrived_image)"
   ]
  },
  {
   "cell_type": "markdown",
   "id": "7becfa43",
   "metadata": {},
   "source": [
    "## Modifying Images\n",
    "### First, change value of colours deterministically"
   ]
  },
  {
   "cell_type": "code",
   "execution_count": 21,
   "id": "319bdb40",
   "metadata": {},
   "outputs": [
    {
     "name": "stdout",
     "output_type": "stream",
     "text": [
      "Enter the scale factor by which to reduce the image size:90\n"
     ]
    }
   ],
   "source": [
    "resized_image = image_resize(input_image)"
   ]
  },
  {
   "cell_type": "markdown",
   "id": "e23da804",
   "metadata": {},
   "source": [
    "### 1. Reflect on Diagonal"
   ]
  },
  {
   "cell_type": "code",
   "execution_count": 44,
   "id": "17eea8b1",
   "metadata": {},
   "outputs": [],
   "source": [
    "output_image = resized_image.copy()\n",
    "dim = output_image.shape[0]\n",
    "output_image = output_image[:dim,:dim,:3]\n",
    "for r in range(output_image.shape[0]):\n",
    "    for c in range(output_image.shape[1]):\n",
    "        \n",
    "        if(is_outside(r, c, resized_image.shape)):\n",
    "            output_image.itemset((r,c,0), 0)\n",
    "            output_image.itemset((r,c,1), 0)\n",
    "            output_image.itemset((r,c,2), 0)\n",
    "        else:\n",
    "            val_0 = output_image.item((c,r,0))\n",
    "            val_1 = output_image.item((c,r,1))\n",
    "            val_2 = output_image.item((c,r,2))\n",
    "\n",
    "        output_image[r,c] = (val_0,val_1,val_2)\n",
    "show_image(\"Image\", output_image)"
   ]
  },
  {
   "cell_type": "markdown",
   "id": "cf7a025d",
   "metadata": {},
   "source": [
    "### 2. A crude way to detect edges? Maybe?"
   ]
  },
  {
   "cell_type": "code",
   "execution_count": 33,
   "id": "74fa5e59",
   "metadata": {},
   "outputs": [],
   "source": [
    "output_image = resized_image.copy()\n",
    "diameter = 20\n",
    "\n",
    "for r in range(resized_image.shape[0]):\n",
    "    for c in range(resized_image.shape[1]):\n",
    "        \n",
    "        if resized_image.item((r,c,1)) >= 128:\n",
    "            r1 = 0\n",
    "        else:\n",
    "            r1 = 255\n",
    "        if resized_image.item((r,c,1)) >= 128:\n",
    "            c1 = 0\n",
    "        else:\n",
    "            c1 = 255\n",
    "                \n",
    "        if(is_outside(r1, c1, resized_image.shape)):\n",
    "            output_image.itemset((r,c,0), 0)\n",
    "            output_image.itemset((r,c,1), 0)\n",
    "            output_image.itemset((r,c,2), 0)\n",
    "        else:\n",
    "            output_image.itemset((r,c,0), resized_image.item((r1,c1,0)))\n",
    "            output_image.itemset((r,c,1), resized_image.item((r1,c1,1)))\n",
    "            output_image.itemset((r,c,2), resized_image.item((r1,c1,2)))\n",
    "show_image(\"Image\", output_image)"
   ]
  },
  {
   "cell_type": "markdown",
   "id": "f5effae8",
   "metadata": {},
   "source": [
    "### 3. Replace values with NumPy generated values"
   ]
  },
  {
   "cell_type": "code",
   "execution_count": 41,
   "id": "a16bdc4a",
   "metadata": {},
   "outputs": [],
   "source": [
    "for r in range(resized_image.shape[0]):\n",
    "    for c in range(resized_image.shape[1]):\n",
    "        if(is_outside(r, c, resized_image.shape)):\n",
    "            output_image.itemset((r,c,0), 0)\n",
    "            output_image.itemset((r,c,1), 0)\n",
    "            output_image.itemset((r,c,2), 0)\n",
    "        else:\n",
    "            output_image.itemset((r,c,0), np.min([resized_image.item((r,c,1)), resized_image.item((r,c,2))]))\n",
    "            output_image.itemset((r,c,1), np.min([resized_image.item((r,c,0)), resized_image.item((r,c,2))]))\n",
    "            output_image.itemset((r,c,2), np.min([resized_image.item((r,c,0)), resized_image.item((r,c,1))]))\n",
    "show_image(\"Image\", output_image)"
   ]
  },
  {
   "cell_type": "markdown",
   "id": "01d3fd3b",
   "metadata": {},
   "source": [
    "### 4. Swap around the RGB Channels\n",
    "That time when you needed to read up on [Permutations and Combinations](https://betterexplained.com/articles/easy-permutations-and-combinations/) and then a [LinkedIn post](https://www.linkedin.com/posts/walidhossain99_learning-teaching-probability-activity-6814662003924332544-OJNZ/) on the same showed up!"
   ]
  },
  {
   "cell_type": "code",
   "execution_count": 56,
   "id": "1c57cde0",
   "metadata": {},
   "outputs": [],
   "source": [
    "output_image = resized_image.copy()\n",
    "for r in range(output_image.shape[0]):\n",
    "    for c in range(output_image.shape[1]):\n",
    "        \n",
    "        if(is_outside(r, c, resized_image.shape)):\n",
    "            output_image.itemset((r,c,0), 0)\n",
    "            output_image.itemset((r,c,1), 0)\n",
    "            output_image.itemset((r,c,2), 0)\n",
    "        else:\n",
    "            val_0 = output_image.item((r,c,0))\n",
    "            val_1 = output_image.item((r,c,1))\n",
    "            val_2 = output_image.item((r,c,2))\n",
    "        output_image[r,c] = (val_0,val_1,val_2)\n",
    "show_image(\"Image\", output_image)"
   ]
  },
  {
   "cell_type": "markdown",
   "id": "785626de",
   "metadata": {},
   "source": [
    "### 5. Change pixel values using mathematical functions"
   ]
  },
  {
   "cell_type": "code",
   "execution_count": 66,
   "id": "7176b209",
   "metadata": {},
   "outputs": [],
   "source": [
    "output_image = resized_image.copy()\n",
    "\n",
    "for r in range(resized_image.shape[0]):\n",
    "    for c in range(resized_image.shape[1]):\n",
    "        output_image.itemset((r,c,0), resized_image.item((r,c,0))*math.e)\n",
    "        output_image.itemset((r,c,1), resized_image.item((r,c,1))*math.e)\n",
    "        output_image.itemset((r,c,2), resized_image.item((r,c,2))*math.e)\n",
    "\n",
    "show_image(\"Image\", output_image)"
   ]
  },
  {
   "cell_type": "markdown",
   "id": "77c6bc67",
   "metadata": {},
   "source": [
    "### 6 Splatter Effect"
   ]
  },
  {
   "cell_type": "markdown",
   "id": "808a330a",
   "metadata": {},
   "source": [
    "### Script from [George Lecakes](https://www.linkedin.com/in/george-lecakes-jr-phd-1831814b/) [demonstrating the splatter effect](https://www.youtube.com/watch?v=iLoMqAE_8A8)\n",
    "#### Using Uniformly Distributed Random Data"
   ]
  },
  {
   "cell_type": "code",
   "execution_count": 27,
   "id": "9a247827",
   "metadata": {},
   "outputs": [],
   "source": [
    "output_image = resized_image.copy()\n",
    "diameter = 20\n",
    "\n",
    "for r in range(resized_image.shape[0]):\n",
    "    for c in range(resized_image.shape[1]):\n",
    "        \n",
    "        r1 = r + math.ceil(np.random.uniform(-0.5,0.5) * diameter)\n",
    "        c1 = c + math.ceil(np.random.uniform(-0.5,0.5) * diameter)\n",
    "                \n",
    "        if(is_outside(r1, c1, resized_image.shape)):\n",
    "            output_image.itemset((r,c,0), 0)\n",
    "            output_image.itemset((r,c,1), 0)\n",
    "            output_image.itemset((r,c,2), 0)\n",
    "        else:\n",
    "            output_image.itemset((r,c,0), resized_image.item((r1,c1,0)))\n",
    "            output_image.itemset((r,c,1), resized_image.item((r1,c1,1)))\n",
    "            output_image.itemset((r,c,2), resized_image.item((r1,c1,2)))\n",
    "show_image(\"Image\", output_image)"
   ]
  },
  {
   "cell_type": "markdown",
   "id": "1cf018c3",
   "metadata": {},
   "source": [
    "#### Using Normally Distributed Random Data"
   ]
  },
  {
   "cell_type": "code",
   "execution_count": 28,
   "id": "a9ebd299",
   "metadata": {},
   "outputs": [],
   "source": [
    "output_image = resized_image.copy()\n",
    "diameter = 60\n",
    "\n",
    "for r in range(resized_image.shape[0]):\n",
    "    for c in range(resized_image.shape[1]):\n",
    "        \n",
    "        r1 = r + math.ceil(np.random.normal(-0.5,0.5) * diameter)\n",
    "        c1 = c + math.ceil(np.random.normal(-0.5,0.5) * diameter)\n",
    "                \n",
    "        if(is_outside(r1, c1, resized_image.shape)):\n",
    "            output_image.itemset((r,c,0), 0)\n",
    "            output_image.itemset((r,c,1), 0)\n",
    "            output_image.itemset((r,c,2), 0)\n",
    "        else:\n",
    "            output_image.itemset((r,c,0), resized_image.item((r1,c1,0)))\n",
    "            output_image.itemset((r,c,1), resized_image.item((r1,c1,1)))\n",
    "            output_image.itemset((r,c,2), resized_image.item((r1,c1,2)))\n",
    "show_image(\"Image\", output_image)"
   ]
  }
 ],
 "metadata": {
  "kernelspec": {
   "display_name": "Python 3 (ipykernel)",
   "language": "python",
   "name": "python3"
  },
  "language_info": {
   "codemirror_mode": {
    "name": "ipython",
    "version": 3
   },
   "file_extension": ".py",
   "mimetype": "text/x-python",
   "name": "python",
   "nbconvert_exporter": "python",
   "pygments_lexer": "ipython3",
   "version": "3.8.10"
  }
 },
 "nbformat": 4,
 "nbformat_minor": 5
}
